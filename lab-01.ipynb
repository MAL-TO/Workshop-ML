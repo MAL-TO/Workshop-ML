{
 "cells": [
  {
   "cell_type": "markdown",
   "id": "fd487d21",
   "metadata": {},
   "source": [
    "# Lab 01 - Data exploration and preprocessing"
   ]
  },
  {
   "cell_type": "code",
   "execution_count": 38,
   "id": "ab0a0d4d",
   "metadata": {},
   "outputs": [],
   "source": [
    "# !pip install pandas \n",
    "# !pip install matplotlib\n",
    "# !pip install seaborn"
   ]
  },
  {
   "cell_type": "code",
   "execution_count": 39,
   "id": "fbc1481d",
   "metadata": {},
   "outputs": [],
   "source": [
    "# import dependencies\n",
    "import os\n",
    "\n",
    "import numpy as np\n",
    "import pandas as pd\n",
    "import matplotlib.pyplot as plt"
   ]
  },
  {
   "cell_type": "markdown",
   "id": "2c858f34",
   "metadata": {},
   "source": [
    "## Introduction"
   ]
  },
  {
   "cell_type": "markdown",
   "id": "93e36221",
   "metadata": {},
   "source": [
    "### Dataset description\n",
    "\n",
    "The sinking of the Titanic is one of the most infamous shipwrecks in history.\n",
    "\n",
    "On April 15, 1912, during her maiden voyage, the widely considered “unsinkable” RMS Titanic sank after colliding with an iceberg. Unfortunately, there weren’t enough lifeboats for everyone onboard, resulting in the death of 1502 out of 2224 passengers and crew.\n",
    "\n",
    "While there was some element of luck involved in surviving, it seems some groups of people were more likely to survive than others.\n",
    "\n",
    "In this challenge, we ask you to build a predictive model that answers the question: “what sorts of people were more likely to survive?” using passenger data (ie name, age, gender, socio-economic class, etc).\n"
   ]
  },
  {
   "cell_type": "markdown",
   "id": "7071aecd",
   "metadata": {},
   "source": [
    "| Column Name | Data Type | Description | Possible Values |\n",
    "|-------------|-----------|-------------|----------------|\n",
    "| PassengerId | Integer   | Unique identifier for each passenger | 1, 2, 3, etc. |\n",
    "| Survived    | Integer   | Survival indicator | 0 = No (Did not survive), 1 = Yes (Survived) |\n",
    "| Pclass      | Integer   | Passenger ticket class | 1 = 1st/Upper, 2 = 2nd/Middle, 3 = 3rd/Lower |\n",
    "| Name        | String    | Full name of the passenger | \"Braund, Mr. Owen Harris\", etc. |\n",
    "| Sex         | String    | Gender of the passenger | \"male\", \"female\" |\n",
    "| Age         | Float     | Age of the passenger in years | 22.0, 40.0, etc. (may contain missing values) |\n",
    "| SibSp       | Integer   | Number of siblings/spouses aboard the Titanic | 0, 1, 2, etc. |\n",
    "| Parch       | Integer   | Number of parents/children aboard the Titanic | 0, 1, 2, etc. |\n",
    "| Ticket      | String    | Ticket number | \"A/5 21171\", \"PC 17599\", etc. |\n",
    "| Fare        | Float     | Price paid for the ticket | 7.25, 71.2833, etc. |\n",
    "| Cabin       | String    | Cabin number | \"C85\", \"E46\", etc. (many missing values) |\n",
    "| Embarked    | String    | Port of embarkation | \"C\" = Cherbourg, \"Q\" = Queenstown, \"S\" = Southampton |"
   ]
  },
  {
   "cell_type": "markdown",
   "id": "b5866566",
   "metadata": {},
   "source": [
    "### Objective of the lab\n",
    "\n",
    "The quality of the data and the amount of useful information that it contains are key factors that determine how well a machine learning algorithm can learn. Therefore, it is absolutely critical that we make sure to examine and preprocess a dataset before we feed it to a learning algorithm. \n",
    "\n",
    "In this laboratory we will explore the data exploration and preprocessing pipeline."
   ]
  },
  {
   "cell_type": "markdown",
   "id": "2938e958",
   "metadata": {},
   "source": [
    "#### What is a Dataset?\n",
    "\n",
    "A data set (or dataset) is a collection of data. In the case of tabular data, a data set corresponds to one or more database tables, where every **column** of a table represents a particular **variable**, and each **row** corresponds to a given **record of the data** set in question. The data set lists values for each of the variables, such as for example height and weight of an object, for each member of the data set. Data sets can also consist of a collection of documents or files\n",
    "\n",
    "Several characteristics define a data set's structure and properties. These include the number and types of the attributes or variables, and various statistical measures applicable to them.\n",
    "\n",
    "The values may be numbers, such as real numbers or integers, for example representing a person's height in centimeters, but may also be nominal data (i.e., not consisting of numerical values), for example representing a person's ethnicity. More generally, values may be of any of the kinds described as a level of measurement.\n",
    "\n",
    "Missing values may exist, which must be indicated somehow.\n",
    "\n",
    "[Data set - Wikipedia](https://en.wikipedia.org/wiki/Data_set)"
   ]
  },
  {
   "cell_type": "markdown",
   "id": "bad7a3aa",
   "metadata": {},
   "source": [
    "#### What are the different types of data?\n",
    "\n",
    "The two main types of data are:\n",
    "\n",
    "- Qualitative Data\n",
    "- Quantitative Data\n",
    "\n",
    "![types-of-data-img](img\\types-of-data-1024x555-1.png)\n",
    "\n",
    "---\n",
    "\n",
    "**Qualitative or Categorical Data**\n",
    "   \n",
    "Qualitative or Categorical Data is a type of data that can’t be measured or counted in the form of numbers. These types of data are sorted by category, not by number. That’s why it is also known as Categorical Data. \n",
    "\n",
    "These data consist of audio, images, symbols, or text. The gender of a person, i.e., male, female, or others, is qualitative data.\n",
    "\n",
    "Qualitative data tells about the perception of people. This data helps market researchers understand the customers’ tastes and then design their ideas and strategies accordingly. \n",
    "\n",
    "The Qualitative data are further classified into two parts :\n",
    "   \n",
    "- Nominal Data\n",
    "    Nominal Data is used to label variables without any order or quantitative value. The color of hair can be considered nominal data, as one color can’t be compared with another color.\n",
    "\n",
    "    With the help of nominal data, we can’t do any numerical tasks or can’t give any order to sort the data. These data don’t have any meaningful order; their values are distributed into distinct categories.\n",
    "\n",
    "- Ordinal Data\n",
    "\n",
    "    Ordinal data have natural ordering where a number is present in some kind of order by their position on the scale. These data are used for observation like customer satisfaction, happiness, etc., but we can’t do any arithmetical tasks on them. \n",
    "\n",
    "    Ordinal data is qualitative data for which their values have some kind of relative position. These kinds of data can be considered “in-between” qualitative and quantitative data.\n",
    "\n",
    "    The ordinal data only shows the sequences and cannot use for statistical analysis. Compared to nominal data, ordinal data have some kind of order that is not present in nominal data. \n",
    "\n",
    "--- \n",
    "\n",
    "**Quantitative Data**\n",
    "   \n",
    "Quantitative data is a type of data that can be expressed in numerical values, making it countable and including statistical data analysis. These kinds of data are also known as Numerical data.\n",
    "\n",
    "It answers the questions like “how much,” “how many,” and “how often.” For example, the price of a phone, the computer’s ram, the height or weight of a person, etc., falls under quantitative data. \n",
    "\n",
    "Quantitative data can be used for statistical manipulation. These data can be represented on a wide variety of graphs and charts, such as bar graphs, histograms, scatter plots, boxplots, pie charts, line graphs, etc.\n",
    "\n",
    "- Discrete Data\n",
    "\n",
    "    The term discrete means distinct or separate. The discrete data contain the values that fall under integers or whole numbers. The total number of students in a class is an example of discrete data. These data can’t be broken into decimal or fraction values.\n",
    "\n",
    "    The discrete data are countable and have finite values; their subdivision is not possible. These data are represented mainly by a bar graph, number line, or frequency table.\n",
    "\n",
    "- Continuous Data\n",
    "\n",
    "    Continuous data are in the form of fractional numbers. It can be the version of an android phone, the height of a person, the length of an object, etc. Continuous data represents information that can be divided into smaller levels. The continuous variable can take any value within a range. \n",
    "\n",
    "    The key difference between discrete and continuous data is that discrete data contains the integer or whole number. Still, continuous data stores the fractional numbers to record different types of data such as temperature, height, width, time, speed, etc.\n",
    "\n",
    "[Types Of Data - Great Learning](https://www.mygreatlearning.com/blog/types-of-data/)"
   ]
  },
  {
   "cell_type": "markdown",
   "id": "5b35bcc3",
   "metadata": {},
   "source": [
    "## Dataset Loading\n",
    "\n",
    "To start working with any dataset in Python, we typically use the pandas library, which allows us to load, manipulate, and analyze data easily in tabular form.\n",
    "\n",
    "---\n",
    "\n",
    "**What is Pandas?**\n",
    "\n",
    "Pandas is an open-source software library designed for data manipulation and analysis. It provides data structures like series and DataFrames to easily clean, transform and analyze large datasets and integrates with other Python libraries, such as NumPy and Matplotlib.\n",
    "\n",
    "It offers functions for data transformation, aggregation and visualization, which are important for analysis.\n",
    "\n",
    "Pandas revolves around two primary Data structures: Series (1D) for single columns and DataFrame (2D) for tabular data enabling efficient data manipulation.\n",
    "\n",
    "With pandas, you can perform a wide range of data operations, including\n",
    "\n",
    "- Reading and writing data from various file formats like CSV, Excel and SQL databases.\n",
    "- Cleaning and preparing data by handling missing values and filtering entries.\n",
    "- Merging and joining multiple datasets seamlessly.\n",
    "- Reshaping data through pivoting and stacking operations.\n",
    "- Conducting statistical analysis and generating descriptive statistics.\n",
    "- Visualizing data with integrated plotting capabilities.\n",
    "\n",
    "[Pandas Tutorial - geeksforgeeks](https://www.geeksforgeeks.org/pandas-tutorial/)\n",
    "\n",
    "---\n",
    "\n",
    "In this case, the Titanic dataset is available in a CSV file. We'll load it using <code>[pandas.read_csv()](https://pandas.pydata.org/pandas-docs/stable/reference/api/pandas.read_csv.html)</code>.\n",
    "\n",
    "For loading file we need Pandas library.\n",
    "\n",
    "What is Pandas? \n",
    "\n",
    "Pandas is one of the most important and widely-used Python libraries in data science, data analysis, and machine learning.\n",
    "\n",
    "It was created specifically to make working with structured data (like tables and spreadsheets) fast, flexible, and expressive.\n",
    "\n",
    "The name \"pandas\" is derived from \"Panel Data\", which is an econometrics term for multidimensional structured data, and also a fun nod to the panda bear 🐼."
   ]
  },
  {
   "cell_type": "code",
   "execution_count": 40,
   "id": "54d1bc21",
   "metadata": {},
   "outputs": [
    {
     "data": {
      "text/html": [
       "<div>\n",
       "<style scoped>\n",
       "    .dataframe tbody tr th:only-of-type {\n",
       "        vertical-align: middle;\n",
       "    }\n",
       "\n",
       "    .dataframe tbody tr th {\n",
       "        vertical-align: top;\n",
       "    }\n",
       "\n",
       "    .dataframe thead th {\n",
       "        text-align: right;\n",
       "    }\n",
       "</style>\n",
       "<table border=\"1\" class=\"dataframe\">\n",
       "  <thead>\n",
       "    <tr style=\"text-align: right;\">\n",
       "      <th></th>\n",
       "      <th>PassengerId</th>\n",
       "      <th>Survived</th>\n",
       "      <th>Pclass</th>\n",
       "      <th>Name</th>\n",
       "      <th>Sex</th>\n",
       "      <th>Age</th>\n",
       "      <th>SibSp</th>\n",
       "      <th>Parch</th>\n",
       "      <th>Ticket</th>\n",
       "      <th>Fare</th>\n",
       "      <th>Cabin</th>\n",
       "      <th>Embarked</th>\n",
       "    </tr>\n",
       "  </thead>\n",
       "  <tbody>\n",
       "    <tr>\n",
       "      <th>0</th>\n",
       "      <td>1</td>\n",
       "      <td>0</td>\n",
       "      <td>3</td>\n",
       "      <td>Braund, Mr. Owen Harris</td>\n",
       "      <td>male</td>\n",
       "      <td>22.0</td>\n",
       "      <td>1</td>\n",
       "      <td>0</td>\n",
       "      <td>A/5 21171</td>\n",
       "      <td>7.2500</td>\n",
       "      <td>NaN</td>\n",
       "      <td>S</td>\n",
       "    </tr>\n",
       "    <tr>\n",
       "      <th>1</th>\n",
       "      <td>2</td>\n",
       "      <td>1</td>\n",
       "      <td>1</td>\n",
       "      <td>Cumings, Mrs. John Bradley (Florence Briggs Th...</td>\n",
       "      <td>female</td>\n",
       "      <td>38.0</td>\n",
       "      <td>1</td>\n",
       "      <td>0</td>\n",
       "      <td>PC 17599</td>\n",
       "      <td>71.2833</td>\n",
       "      <td>C85</td>\n",
       "      <td>C</td>\n",
       "    </tr>\n",
       "    <tr>\n",
       "      <th>2</th>\n",
       "      <td>3</td>\n",
       "      <td>1</td>\n",
       "      <td>3</td>\n",
       "      <td>Heikkinen, Miss. Laina</td>\n",
       "      <td>female</td>\n",
       "      <td>26.0</td>\n",
       "      <td>0</td>\n",
       "      <td>0</td>\n",
       "      <td>STON/O2. 3101282</td>\n",
       "      <td>7.9250</td>\n",
       "      <td>NaN</td>\n",
       "      <td>S</td>\n",
       "    </tr>\n",
       "    <tr>\n",
       "      <th>3</th>\n",
       "      <td>4</td>\n",
       "      <td>1</td>\n",
       "      <td>1</td>\n",
       "      <td>Futrelle, Mrs. Jacques Heath (Lily May Peel)</td>\n",
       "      <td>female</td>\n",
       "      <td>35.0</td>\n",
       "      <td>1</td>\n",
       "      <td>0</td>\n",
       "      <td>113803</td>\n",
       "      <td>53.1000</td>\n",
       "      <td>C123</td>\n",
       "      <td>S</td>\n",
       "    </tr>\n",
       "    <tr>\n",
       "      <th>4</th>\n",
       "      <td>5</td>\n",
       "      <td>0</td>\n",
       "      <td>3</td>\n",
       "      <td>Allen, Mr. William Henry</td>\n",
       "      <td>male</td>\n",
       "      <td>35.0</td>\n",
       "      <td>0</td>\n",
       "      <td>0</td>\n",
       "      <td>373450</td>\n",
       "      <td>8.0500</td>\n",
       "      <td>NaN</td>\n",
       "      <td>S</td>\n",
       "    </tr>\n",
       "  </tbody>\n",
       "</table>\n",
       "</div>"
      ],
      "text/plain": [
       "   PassengerId  Survived  Pclass  \\\n",
       "0            1         0       3   \n",
       "1            2         1       1   \n",
       "2            3         1       3   \n",
       "3            4         1       1   \n",
       "4            5         0       3   \n",
       "\n",
       "                                                Name     Sex   Age  SibSp  \\\n",
       "0                            Braund, Mr. Owen Harris    male  22.0      1   \n",
       "1  Cumings, Mrs. John Bradley (Florence Briggs Th...  female  38.0      1   \n",
       "2                             Heikkinen, Miss. Laina  female  26.0      0   \n",
       "3       Futrelle, Mrs. Jacques Heath (Lily May Peel)  female  35.0      1   \n",
       "4                           Allen, Mr. William Henry    male  35.0      0   \n",
       "\n",
       "   Parch            Ticket     Fare Cabin Embarked  \n",
       "0      0         A/5 21171   7.2500   NaN        S  \n",
       "1      0          PC 17599  71.2833   C85        C  \n",
       "2      0  STON/O2. 3101282   7.9250   NaN        S  \n",
       "3      0            113803  53.1000  C123        S  \n",
       "4      0            373450   8.0500   NaN        S  "
      ]
     },
     "execution_count": 40,
     "metadata": {},
     "output_type": "execute_result"
    }
   ],
   "source": [
    "DATASET_PATH = os.path.join(\"data\", \"lab-01\", \"Titanic-Dataset.csv\")\n",
    "\n",
    "# Load the dataset from the subfolder 'data/lab-01'\n",
    "df = pd.read_csv(filepath_or_buffer=DATASET_PATH)\n",
    "\n",
    "# Display the first 5 rows to check it's loaded correctly\n",
    "df.head()"
   ]
  },
  {
   "cell_type": "markdown",
   "id": "d4b7cb1f",
   "metadata": {},
   "source": [
    "## Dataset Overview\n",
    "\n",
    "\n",
    "Now that we’ve successfully loaded the dataset, it’s time to explore and play with it.\n",
    "\n",
    "Before we start building any machine learning models or visualizations, we must understand:\n",
    "\n",
    "- What kind of data we are working with\n",
    "\n",
    "- The distribution of values across key columns\n",
    "\n",
    "- If there are any unusual or suspicious entries (outliers, wrong types, etc.)\n",
    "\n",
    "This step is known as Exploratory Data Analysis (EDA) — and it’s one of the most important steps in any data science project.\n",
    "\n",
    "🔍 Why Is This Step Important?\n",
    "\n",
    "- ✅ Data Understanding: We need to understand what each column means, what type of values it contains, and how it could relate to the outcome we want to predict (in this case, survival).\n",
    "\n",
    "- 🚩 Anomaly Detection: This helps us spot outliers, inconsistent data, or wrong data types — all of which can affect the performance of our models.\n",
    "\n",
    "- 🛠️ Planning Data Cleaning: Based on this step, we can make decisions about missing values, column drops, or transformations needed later.\n",
    "\n",
    "This step is called Exploratory Data Analysis (EDA), and it’s one of the most critical stages in any data science pipeline.\n"
   ]
  },
  {
   "cell_type": "code",
   "execution_count": 41,
   "id": "7a24cc6c",
   "metadata": {},
   "outputs": [
    {
     "name": "stdout",
     "output_type": "stream",
     "text": [
      "Dataset shape: (891, 12)\n"
     ]
    }
   ],
   "source": [
    "# Check the shape of the dataset (rows, columns)\n",
    "# DataFrame.shape: Return a tuple representing the dimensionality of the DataFrame.\n",
    "\n",
    "print(\"Dataset shape:\", df.shape)"
   ]
  },
  {
   "cell_type": "code",
   "execution_count": 42,
   "id": "5a5cbdc5",
   "metadata": {},
   "outputs": [
    {
     "name": "stdout",
     "output_type": "stream",
     "text": [
      "\n",
      "Column names:\n",
      " ['PassengerId', 'Survived', 'Pclass', 'Name', 'Sex', 'Age', 'SibSp', 'Parch', 'Ticket', 'Fare', 'Cabin', 'Embarked']\n"
     ]
    }
   ],
   "source": [
    "# Show the column names\n",
    "# DataFrame.columns: The column labels of the DataFrame.\n",
    "print(\"\\nColumn names:\\n\", df.columns.tolist())"
   ]
  },
  {
   "cell_type": "code",
   "execution_count": 43,
   "id": "053a64e4",
   "metadata": {},
   "outputs": [
    {
     "name": "stdout",
     "output_type": "stream",
     "text": [
      "Features data types:\n"
     ]
    },
    {
     "data": {
      "text/plain": [
       "PassengerId      int64\n",
       "Survived         int64\n",
       "Pclass           int64\n",
       "Name            object\n",
       "Sex             object\n",
       "Age            float64\n",
       "SibSp            int64\n",
       "Parch            int64\n",
       "Ticket          object\n",
       "Fare           float64\n",
       "Cabin           object\n",
       "Embarked        object\n",
       "dtype: object"
      ]
     },
     "execution_count": 43,
     "metadata": {},
     "output_type": "execute_result"
    }
   ],
   "source": [
    "# DataFrame.dtype: Return the dtypes in the DataFrame.\n",
    "# This returns a Series with the data type of each column. \n",
    "# The result’s index is the original DataFrame’s columns. Columns with mixed types are stored with the object dtype. \n",
    "print(\"Features data types:\")\n",
    "df.dtypes"
   ]
  },
  {
   "cell_type": "code",
   "execution_count": 44,
   "id": "7fcee358",
   "metadata": {},
   "outputs": [
    {
     "name": "stdout",
     "output_type": "stream",
     "text": [
      "<class 'pandas.core.frame.DataFrame'>\n",
      "RangeIndex: 891 entries, 0 to 890\n",
      "Data columns (total 12 columns):\n",
      " #   Column       Non-Null Count  Dtype  \n",
      "---  ------       --------------  -----  \n",
      " 0   PassengerId  891 non-null    int64  \n",
      " 1   Survived     891 non-null    int64  \n",
      " 2   Pclass       891 non-null    int64  \n",
      " 3   Name         891 non-null    object \n",
      " 4   Sex          891 non-null    object \n",
      " 5   Age          714 non-null    float64\n",
      " 6   SibSp        891 non-null    int64  \n",
      " 7   Parch        891 non-null    int64  \n",
      " 8   Ticket       891 non-null    object \n",
      " 9   Fare         891 non-null    float64\n",
      " 10  Cabin        204 non-null    object \n",
      " 11  Embarked     889 non-null    object \n",
      "dtypes: float64(2), int64(5), object(5)\n",
      "memory usage: 83.7+ KB\n"
     ]
    }
   ],
   "source": [
    "# Display information about each column (data type, non-null values, etc.)\n",
    "# DataFrame.info: Print a concise summary of a DataFrame.\n",
    "# This method prints information about a DataFrame including the index dtype and columns, non-null values and memory usage. \n",
    "df.info()"
   ]
  },
  {
   "cell_type": "markdown",
   "id": "3b1b5f6f",
   "metadata": {},
   "source": [
    "Explore the unique values of our *target* using the <code>[pandas.unique](https://pandas.pydata.org/pandas-docs/stable/reference/api/pandas.unique.html)</code> module."
   ]
  },
  {
   "cell_type": "code",
   "execution_count": 45,
   "id": "ac6e1337",
   "metadata": {},
   "outputs": [
    {
     "name": "stdout",
     "output_type": "stream",
     "text": [
      "Target unique values\n"
     ]
    },
    {
     "data": {
      "text/plain": [
       "array([0, 1])"
      ]
     },
     "execution_count": 45,
     "metadata": {},
     "output_type": "execute_result"
    }
   ],
   "source": [
    "print(\"Target unique values\")\n",
    "df[\"Survived\"].unique()"
   ]
  },
  {
   "cell_type": "markdown",
   "id": "795427f2",
   "metadata": {},
   "source": [
    "Exercise: For the columns *Survived, Pclass, Sex, Embarked*, return the list of unique values"
   ]
  },
  {
   "cell_type": "code",
   "execution_count": 46,
   "id": "c039567b",
   "metadata": {},
   "outputs": [
    {
     "name": "stdout",
     "output_type": "stream",
     "text": [
      "Column: Survived\n",
      "Unique values: [0 1]\n",
      "\n",
      "Column: Pclass\n",
      "Unique values: [3 1 2]\n",
      "\n",
      "Column: Sex\n",
      "Unique values: ['male' 'female']\n",
      "\n",
      "Column: Embarked\n",
      "Unique values: ['S' 'C' 'Q' nan]\n",
      "\n"
     ]
    }
   ],
   "source": [
    "columns = [\"Survived\", \"Pclass\", \"Sex\", \"Embarked\"]\n",
    "for col in columns:\n",
    "    print(f\"Column: {col}\")\n",
    "    print(f\"Unique values: {df[col].unique()}\\n\")"
   ]
  },
  {
   "cell_type": "code",
   "execution_count": 47,
   "id": "bca9f7e9",
   "metadata": {},
   "outputs": [
    {
     "data": {
      "text/html": [
       "<div>\n",
       "<style scoped>\n",
       "    .dataframe tbody tr th:only-of-type {\n",
       "        vertical-align: middle;\n",
       "    }\n",
       "\n",
       "    .dataframe tbody tr th {\n",
       "        vertical-align: top;\n",
       "    }\n",
       "\n",
       "    .dataframe thead th {\n",
       "        text-align: right;\n",
       "    }\n",
       "</style>\n",
       "<table border=\"1\" class=\"dataframe\">\n",
       "  <thead>\n",
       "    <tr style=\"text-align: right;\">\n",
       "      <th></th>\n",
       "      <th>count</th>\n",
       "      <th>unique</th>\n",
       "      <th>top</th>\n",
       "      <th>freq</th>\n",
       "      <th>mean</th>\n",
       "      <th>std</th>\n",
       "      <th>min</th>\n",
       "      <th>25%</th>\n",
       "      <th>50%</th>\n",
       "      <th>75%</th>\n",
       "      <th>max</th>\n",
       "    </tr>\n",
       "  </thead>\n",
       "  <tbody>\n",
       "    <tr>\n",
       "      <th>PassengerId</th>\n",
       "      <td>891.0</td>\n",
       "      <td>NaN</td>\n",
       "      <td>NaN</td>\n",
       "      <td>NaN</td>\n",
       "      <td>446.0</td>\n",
       "      <td>257.353842</td>\n",
       "      <td>1.0</td>\n",
       "      <td>223.5</td>\n",
       "      <td>446.0</td>\n",
       "      <td>668.5</td>\n",
       "      <td>891.0</td>\n",
       "    </tr>\n",
       "    <tr>\n",
       "      <th>Survived</th>\n",
       "      <td>891.0</td>\n",
       "      <td>NaN</td>\n",
       "      <td>NaN</td>\n",
       "      <td>NaN</td>\n",
       "      <td>0.383838</td>\n",
       "      <td>0.486592</td>\n",
       "      <td>0.0</td>\n",
       "      <td>0.0</td>\n",
       "      <td>0.0</td>\n",
       "      <td>1.0</td>\n",
       "      <td>1.0</td>\n",
       "    </tr>\n",
       "    <tr>\n",
       "      <th>Pclass</th>\n",
       "      <td>891.0</td>\n",
       "      <td>NaN</td>\n",
       "      <td>NaN</td>\n",
       "      <td>NaN</td>\n",
       "      <td>2.308642</td>\n",
       "      <td>0.836071</td>\n",
       "      <td>1.0</td>\n",
       "      <td>2.0</td>\n",
       "      <td>3.0</td>\n",
       "      <td>3.0</td>\n",
       "      <td>3.0</td>\n",
       "    </tr>\n",
       "    <tr>\n",
       "      <th>Name</th>\n",
       "      <td>891</td>\n",
       "      <td>891</td>\n",
       "      <td>Dooley, Mr. Patrick</td>\n",
       "      <td>1</td>\n",
       "      <td>NaN</td>\n",
       "      <td>NaN</td>\n",
       "      <td>NaN</td>\n",
       "      <td>NaN</td>\n",
       "      <td>NaN</td>\n",
       "      <td>NaN</td>\n",
       "      <td>NaN</td>\n",
       "    </tr>\n",
       "    <tr>\n",
       "      <th>Sex</th>\n",
       "      <td>891</td>\n",
       "      <td>2</td>\n",
       "      <td>male</td>\n",
       "      <td>577</td>\n",
       "      <td>NaN</td>\n",
       "      <td>NaN</td>\n",
       "      <td>NaN</td>\n",
       "      <td>NaN</td>\n",
       "      <td>NaN</td>\n",
       "      <td>NaN</td>\n",
       "      <td>NaN</td>\n",
       "    </tr>\n",
       "    <tr>\n",
       "      <th>Age</th>\n",
       "      <td>714.0</td>\n",
       "      <td>NaN</td>\n",
       "      <td>NaN</td>\n",
       "      <td>NaN</td>\n",
       "      <td>29.699118</td>\n",
       "      <td>14.526497</td>\n",
       "      <td>0.42</td>\n",
       "      <td>20.125</td>\n",
       "      <td>28.0</td>\n",
       "      <td>38.0</td>\n",
       "      <td>80.0</td>\n",
       "    </tr>\n",
       "    <tr>\n",
       "      <th>SibSp</th>\n",
       "      <td>891.0</td>\n",
       "      <td>NaN</td>\n",
       "      <td>NaN</td>\n",
       "      <td>NaN</td>\n",
       "      <td>0.523008</td>\n",
       "      <td>1.102743</td>\n",
       "      <td>0.0</td>\n",
       "      <td>0.0</td>\n",
       "      <td>0.0</td>\n",
       "      <td>1.0</td>\n",
       "      <td>8.0</td>\n",
       "    </tr>\n",
       "    <tr>\n",
       "      <th>Parch</th>\n",
       "      <td>891.0</td>\n",
       "      <td>NaN</td>\n",
       "      <td>NaN</td>\n",
       "      <td>NaN</td>\n",
       "      <td>0.381594</td>\n",
       "      <td>0.806057</td>\n",
       "      <td>0.0</td>\n",
       "      <td>0.0</td>\n",
       "      <td>0.0</td>\n",
       "      <td>0.0</td>\n",
       "      <td>6.0</td>\n",
       "    </tr>\n",
       "    <tr>\n",
       "      <th>Ticket</th>\n",
       "      <td>891</td>\n",
       "      <td>681</td>\n",
       "      <td>347082</td>\n",
       "      <td>7</td>\n",
       "      <td>NaN</td>\n",
       "      <td>NaN</td>\n",
       "      <td>NaN</td>\n",
       "      <td>NaN</td>\n",
       "      <td>NaN</td>\n",
       "      <td>NaN</td>\n",
       "      <td>NaN</td>\n",
       "    </tr>\n",
       "    <tr>\n",
       "      <th>Fare</th>\n",
       "      <td>891.0</td>\n",
       "      <td>NaN</td>\n",
       "      <td>NaN</td>\n",
       "      <td>NaN</td>\n",
       "      <td>32.204208</td>\n",
       "      <td>49.693429</td>\n",
       "      <td>0.0</td>\n",
       "      <td>7.9104</td>\n",
       "      <td>14.4542</td>\n",
       "      <td>31.0</td>\n",
       "      <td>512.3292</td>\n",
       "    </tr>\n",
       "    <tr>\n",
       "      <th>Cabin</th>\n",
       "      <td>204</td>\n",
       "      <td>147</td>\n",
       "      <td>G6</td>\n",
       "      <td>4</td>\n",
       "      <td>NaN</td>\n",
       "      <td>NaN</td>\n",
       "      <td>NaN</td>\n",
       "      <td>NaN</td>\n",
       "      <td>NaN</td>\n",
       "      <td>NaN</td>\n",
       "      <td>NaN</td>\n",
       "    </tr>\n",
       "    <tr>\n",
       "      <th>Embarked</th>\n",
       "      <td>889</td>\n",
       "      <td>3</td>\n",
       "      <td>S</td>\n",
       "      <td>644</td>\n",
       "      <td>NaN</td>\n",
       "      <td>NaN</td>\n",
       "      <td>NaN</td>\n",
       "      <td>NaN</td>\n",
       "      <td>NaN</td>\n",
       "      <td>NaN</td>\n",
       "      <td>NaN</td>\n",
       "    </tr>\n",
       "  </tbody>\n",
       "</table>\n",
       "</div>"
      ],
      "text/plain": [
       "             count unique                  top freq       mean         std  \\\n",
       "PassengerId  891.0    NaN                  NaN  NaN      446.0  257.353842   \n",
       "Survived     891.0    NaN                  NaN  NaN   0.383838    0.486592   \n",
       "Pclass       891.0    NaN                  NaN  NaN   2.308642    0.836071   \n",
       "Name           891    891  Dooley, Mr. Patrick    1        NaN         NaN   \n",
       "Sex            891      2                 male  577        NaN         NaN   \n",
       "Age          714.0    NaN                  NaN  NaN  29.699118   14.526497   \n",
       "SibSp        891.0    NaN                  NaN  NaN   0.523008    1.102743   \n",
       "Parch        891.0    NaN                  NaN  NaN   0.381594    0.806057   \n",
       "Ticket         891    681               347082    7        NaN         NaN   \n",
       "Fare         891.0    NaN                  NaN  NaN  32.204208   49.693429   \n",
       "Cabin          204    147                   G6    4        NaN         NaN   \n",
       "Embarked       889      3                    S  644        NaN         NaN   \n",
       "\n",
       "              min     25%      50%    75%       max  \n",
       "PassengerId   1.0   223.5    446.0  668.5     891.0  \n",
       "Survived      0.0     0.0      0.0    1.0       1.0  \n",
       "Pclass        1.0     2.0      3.0    3.0       3.0  \n",
       "Name          NaN     NaN      NaN    NaN       NaN  \n",
       "Sex           NaN     NaN      NaN    NaN       NaN  \n",
       "Age          0.42  20.125     28.0   38.0      80.0  \n",
       "SibSp         0.0     0.0      0.0    1.0       8.0  \n",
       "Parch         0.0     0.0      0.0    0.0       6.0  \n",
       "Ticket        NaN     NaN      NaN    NaN       NaN  \n",
       "Fare          0.0  7.9104  14.4542   31.0  512.3292  \n",
       "Cabin         NaN     NaN      NaN    NaN       NaN  \n",
       "Embarked      NaN     NaN      NaN    NaN       NaN  "
      ]
     },
     "execution_count": 47,
     "metadata": {},
     "output_type": "execute_result"
    }
   ],
   "source": [
    "# Summary statistics for numerical columns\n",
    "# DataFrame.describe: Generate descriptive statistics.\n",
    "# Descriptive statistics include those that summarize the central tendency, \n",
    "# dispersion and shape of a dataset’s distribution, excluding NaN values.\n",
    "# Analyzes both numeric and object series, as well as DataFrame column sets of mixed data types. \n",
    "# The output will vary depending on what is provided.\n",
    "\n",
    "df.describe(include=\"all\").T"
   ]
  },
  {
   "cell_type": "markdown",
   "id": "d54d8a85",
   "metadata": {},
   "source": [
    "## Data Quality Check\n",
    "\n",
    "Before we analyze or build models with our dataset, we need to ensure that the data is clean, complete, and reliable.\n",
    "\n",
    "Even in well-known datasets like the Titanic dataset, we might encounter:\n",
    "\n",
    "- Missing values: Empty cells or NaNs that need to be filled, removed, or flagged.\n",
    "\n",
    "- Inconsistent or incorrect formats: For example, a numerical column with text entries.\n",
    "\n",
    "- Duplicated entries: Repeated rows that can skew statistics and model results.\n",
    "\n",
    "- Outliers or unrealistic values: Extremely high or low numbers that don’t make sense (e.g., negative ages).\n",
    "\n",
    "These issues can significantly affect model accuracy and lead to false conclusions. So, this step focuses on detecting potential problems and planning how to handle them."
   ]
  },
  {
   "cell_type": "code",
   "execution_count": 48,
   "id": "763f5a1c",
   "metadata": {},
   "outputs": [
    {
     "name": "stdout",
     "output_type": "stream",
     "text": [
      "Missing values per column:\n",
      "PassengerId      0\n",
      "Survived         0\n",
      "Pclass           0\n",
      "Name             0\n",
      "Sex              0\n",
      "Age            177\n",
      "SibSp            0\n",
      "Parch            0\n",
      "Ticket           0\n",
      "Fare             0\n",
      "Cabin          687\n",
      "Embarked         2\n",
      "dtype: int64\n",
      "\n",
      "Percentage of missing values:\n",
      "PassengerId     0.000000\n",
      "Survived        0.000000\n",
      "Pclass          0.000000\n",
      "Name            0.000000\n",
      "Sex             0.000000\n",
      "Age            19.865320\n",
      "SibSp           0.000000\n",
      "Parch           0.000000\n",
      "Ticket          0.000000\n",
      "Fare            0.000000\n",
      "Cabin          77.104377\n",
      "Embarked        0.224467\n",
      "dtype: float64\n",
      "\n",
      "Number of duplicated rows:\n",
      "0\n",
      "\n",
      "Rows with missing 'Age':\n",
      "    PassengerId  Survived  Pclass                           Name     Sex  Age  \\\n",
      "5             6         0       3               Moran, Mr. James    male  NaN   \n",
      "17           18         1       2   Williams, Mr. Charles Eugene    male  NaN   \n",
      "19           20         1       3        Masselmani, Mrs. Fatima  female  NaN   \n",
      "26           27         0       3        Emir, Mr. Farred Chehab    male  NaN   \n",
      "28           29         1       3  O'Dwyer, Miss. Ellen \"Nellie\"  female  NaN   \n",
      "\n",
      "    SibSp  Parch  Ticket     Fare Cabin Embarked  \n",
      "5       0      0  330877   8.4583   NaN        Q  \n",
      "17      0      0  244373  13.0000   NaN        S  \n",
      "19      0      0    2649   7.2250   NaN        C  \n",
      "26      0      0    2631   7.2250   NaN        C  \n",
      "28      0      0  330959   7.8792   NaN        Q  \n",
      "\n",
      "Rows with invalid 'Age' values (if any):\n",
      "Empty DataFrame\n",
      "Columns: [PassengerId, Survived, Pclass, Name, Sex, Age, SibSp, Parch, Ticket, Fare, Cabin, Embarked]\n",
      "Index: []\n",
      "\n",
      "Unique values in 'Sex' column:\n",
      "['male' 'female']\n"
     ]
    }
   ],
   "source": [
    "# 1. Check for missing values per column\n",
    "print(\"Missing values per column:\")\n",
    "print(df.isnull().sum())\n",
    "\n",
    "# 2. Optional: Check the percentage of missing values\n",
    "print(\"\\nPercentage of missing values:\")\n",
    "print((df.isnull().sum() / len(df)) * 100)\n",
    "\n",
    "# 3. Check for duplicated rows\n",
    "print(\"\\nNumber of duplicated rows:\")\n",
    "print(df.duplicated().sum())\n",
    "\n",
    "# 4. Display rows with invalid or inconsistent data (examples)\n",
    "\n",
    "# Example: Show rows with missing 'Age'\n",
    "print(\"\\nRows with missing 'Age':\")\n",
    "print(df[df['Age'].isnull()].head())\n",
    "\n",
    "# Example: Check for invalid ages (e.g., negative values)\n",
    "print(\"\\nRows with invalid 'Age' values (if any):\")\n",
    "print(df[df['Age'] < 0])\n",
    "\n",
    "# Example: Check for unknown 'Sex' values\n",
    "print(\"\\nUnique values in 'Sex' column:\")\n",
    "print(df['Sex'].unique())"
   ]
  },
  {
   "cell_type": "markdown",
   "id": "2a86fdb7",
   "metadata": {},
   "source": [
    "## Descriptive Statistics\n",
    "\n",
    "After we’ve performed a basic overview and quality check, it’s time to understand how the values in our dataset are distributed — both numerical and categorical.\n",
    "\n",
    "This step is essential because:\n",
    "\n",
    "- It gives us an idea of the central tendency (e.g., average) and spread (e.g., variability) of data.\n",
    "\n",
    "- It reveals outliers, data imbalance, and patterns that may not be immediately obvious.\n",
    "\n",
    "- It helps us decide how to normalize, transform, or encode data before building models."
   ]
  },
  {
   "cell_type": "code",
   "execution_count": 49,
   "id": "60966a2d",
   "metadata": {},
   "outputs": [
    {
     "name": "stdout",
     "output_type": "stream",
     "text": [
      "Numeric summary:\n",
      "       PassengerId    Survived      Pclass         Age       SibSp  \\\n",
      "count   891.000000  891.000000  891.000000  714.000000  891.000000   \n",
      "mean    446.000000    0.383838    2.308642   29.699118    0.523008   \n",
      "std     257.353842    0.486592    0.836071   14.526497    1.102743   \n",
      "min       1.000000    0.000000    1.000000    0.420000    0.000000   \n",
      "25%     223.500000    0.000000    2.000000   20.125000    0.000000   \n",
      "50%     446.000000    0.000000    3.000000   28.000000    0.000000   \n",
      "75%     668.500000    1.000000    3.000000   38.000000    1.000000   \n",
      "max     891.000000    1.000000    3.000000   80.000000    8.000000   \n",
      "\n",
      "            Parch        Fare  \n",
      "count  891.000000  891.000000  \n",
      "mean     0.381594   32.204208  \n",
      "std      0.806057   49.693429  \n",
      "min      0.000000    0.000000  \n",
      "25%      0.000000    7.910400  \n",
      "50%      0.000000   14.454200  \n",
      "75%      0.000000   31.000000  \n",
      "max      6.000000  512.329200  \n",
      "\n",
      "Value counts for 'Sex':\n",
      "Sex\n",
      "male      577\n",
      "female    314\n",
      "Name: count, dtype: int64\n",
      "\n",
      "Value counts for 'Pclass':\n",
      "Pclass\n",
      "3    491\n",
      "1    216\n",
      "2    184\n",
      "Name: count, dtype: int64\n",
      "\n",
      "Value counts for 'Embarked':\n",
      "Embarked\n",
      "S      644\n",
      "C      168\n",
      "Q       77\n",
      "NaN      2\n",
      "Name: count, dtype: int64\n"
     ]
    }
   ],
   "source": [
    "# Summary statistics for numeric columns\n",
    "print(\"Numeric summary:\")\n",
    "print(df.describe())\n",
    "\n",
    "# Value counts for categorical features\n",
    "print(\"\\nValue counts for 'Sex':\")\n",
    "print(df['Sex'].value_counts())\n",
    "\n",
    "print(\"\\nValue counts for 'Pclass':\")\n",
    "print(df['Pclass'].value_counts())\n",
    "\n",
    "print(\"\\nValue counts for 'Embarked':\")\n",
    "print(df['Embarked'].value_counts(dropna=False))  # include NaN"
   ]
  },
  {
   "cell_type": "markdown",
   "id": "fb1de943",
   "metadata": {},
   "source": [
    "**Exercise:** Together with the default percentile, return in the output also the 1st and 99th percentile\n",
    "\n",
    "Check at this link the documentation of the module <code>[DataFrame.describe](https://pandas.pydata.org/pandas-docs/stable/reference/api/pandas.DataFrame.describe.html)</code>"
   ]
  },
  {
   "cell_type": "code",
   "execution_count": 50,
   "id": "ecb40dad",
   "metadata": {},
   "outputs": [
    {
     "ename": "SyntaxError",
     "evalue": "expected argument value expression (3210384145.py, line 2)",
     "output_type": "error",
     "traceback": [
      "  \u001b[36mCell\u001b[39m\u001b[36m \u001b[39m\u001b[32mIn[50]\u001b[39m\u001b[32m, line 2\u001b[39m\n\u001b[31m    \u001b[39m\u001b[31mdf.describe(percentiles=)\u001b[39m\n                ^\n\u001b[31mSyntaxError\u001b[39m\u001b[31m:\u001b[39m expected argument value expression\n"
     ]
    }
   ],
   "source": [
    "percentiles = ...\n",
    "df.describe(percentiles=)"
   ]
  },
  {
   "cell_type": "markdown",
   "id": "da3dba6c",
   "metadata": {},
   "source": [
    "## Basic Data Visualization\n",
    "\n",
    "After summarizing the dataset using statistics, the next step is to visualize the data. Visualization helps us spot patterns, trends, and anomalies that are hard to detect in raw numbers alone.\n",
    "\n",
    "These visual tools make data intuitive and accessible, even for those without strong statistical backgrounds.\n",
    "\n"
   ]
  },
  {
   "cell_type": "markdown",
   "id": "bc8d8eb3",
   "metadata": {},
   "source": [
    "1. Histogram + KDE\n",
    "\n",
    "Purpose: Shows how a numerical variable is distributed (e.g., Age).\n",
    "\n",
    "- Histogram shows count of values in intervals\n",
    "\n",
    "- KDE (Kernel Density Estimation) smooths the distribution line"
   ]
  },
  {
   "cell_type": "code",
   "execution_count": null,
   "id": "ee827da3",
   "metadata": {},
   "outputs": [
    {
     "data": {
      "image/png": "[encoded data removed]",
      "text/plain": [
       "<Figure size 800x500 with 1 Axes>"
      ]
     },
     "metadata": {},
     "output_type": "display_data"
    }
   ],
   "source": [
    "import matplotlib.pyplot as plt\n",
    "\n",
    "# Set a general style for plots\n",
    "#plt.style.use('seaborn-whitegrid')\n",
    "\n",
    "plt.figure(figsize=(8, 5))\n",
    "plt.hist(df['Age'].dropna(), bins=30, color='skyblue', edgecolor='black', density=True, alpha=0.6, label='Histogram')\n",
    "\n",
    "\n",
    "from scipy.stats import gaussian_kde\n",
    "# gaussian_kde: A class for performing kernel density estimation.\n",
    "# It is a non-parametric way to estimate the probability density function of a random variable.\n",
    "# It is a useful tool for visualizing the distribution of data points in a dataset.\n",
    "kde = gaussian_kde(df['Age'].dropna())\n",
    "age_range = np.linspace(df['Age'].min(), df['Age'].max(), 100)\n",
    "plt.plot(age_range, kde(age_range), color='red', label='KDE')\n",
    "\n",
    "\n",
    "plt.title('Distribution of Age with KDE')\n",
    "plt.xlabel('Age')\n",
    "plt.ylabel('Density')\n",
    "plt.legend()\n",
    "plt.tight_layout()\n",
    "plt.show()\n"
   ]
  },
  {
   "cell_type": "markdown",
   "id": "9ca955e1",
   "metadata": {},
   "source": [
    "2. Boxplot\n",
    "\n",
    "Purpose: Great for comparing numeric distributions across categories and spotting outliers.\n",
    "\n",
    "- Example: Age distribution by survival status"
   ]
  },
  {
   "cell_type": "code",
   "execution_count": null,
   "id": "5c605b8c",
   "metadata": {},
   "outputs": [
    {
     "name": "stderr",
     "output_type": "stream",
     "text": [
      "C:\\Users\\PC1\\AppData\\Local\\Temp\\ipykernel_117684\\3667786941.py:4: MatplotlibDeprecationWarning: The 'labels' parameter of boxplot() has been renamed 'tick_labels' since Matplotlib 3.9; support for the old name will be dropped in 3.11.\n",
      "  plt.boxplot([survived_0, survived_1], labels=['Not Survived (0)', 'Survived (1)'], patch_artist=True,\n"
     ]
    },
    {
     "data": {
      "image/png": "[encoded data removed]",
      "text/plain": [
       "<Figure size 800x500 with 1 Axes>"
      ]
     },
     "metadata": {},
     "output_type": "display_data"
    }
   ],
   "source": [
    "plt.figure(figsize=(8, 5))\n",
    "survived_0 = df[df['Survived'] == 0]['Age'].dropna()\n",
    "survived_1 = df[df['Survived'] == 1]['Age'].dropna()\n",
    "plt.boxplot([survived_0, survived_1], labels=['Not Survived (0)', 'Survived (1)'], patch_artist=True,\n",
    "            boxprops=dict(facecolor='lightblue'), medianprops=dict(color='red'))\n",
    "\n",
    "plt.title('Boxplot of Age by Survival')\n",
    "plt.ylabel('Age')\n",
    "plt.tight_layout()\n",
    "plt.show()\n"
   ]
  },
  {
   "cell_type": "markdown",
   "id": "23a6352c",
   "metadata": {},
   "source": [
    "3. Count Plot (Bar Plot for Categories)\n",
    "\n",
    "Purpose: Displays the frequency of each category in a variable (like value_counts, but visual)."
   ]
  },
  {
   "cell_type": "code",
   "execution_count": null,
   "id": "69ca462b",
   "metadata": {},
   "outputs": [
    {
     "data": {
      "image/png": "[encoded data removed]",
      "text/plain": [
       "<Figure size 600x400 with 1 Axes>"
      ]
     },
     "metadata": {},
     "output_type": "display_data"
    },
    {
     "data": {
      "image/png": "[encoded data removed]",
      "text/plain": [
       "<Figure size 600x400 with 1 Axes>"
      ]
     },
     "metadata": {},
     "output_type": "display_data"
    }
   ],
   "source": [
    "# Count plot for Sex\n",
    "sex_counts = df['Sex'].value_counts()\n",
    "plt.figure(figsize=(6, 4))\n",
    "plt.bar(sex_counts.index, sex_counts.values, color=['lightcoral', 'lightblue'], edgecolor='black')\n",
    "plt.title('Passenger Count by Sex')\n",
    "plt.xlabel('Sex')\n",
    "plt.ylabel('Count')\n",
    "plt.tight_layout()\n",
    "plt.show()\n",
    "\n",
    "# Count plot for Pclass\n",
    "pclass_counts = df['Pclass'].value_counts().sort_index()\n",
    "plt.figure(figsize=(6, 4))\n",
    "plt.bar(pclass_counts.index.astype(str), pclass_counts.values, color='lightgreen', edgecolor='black')\n",
    "plt.title('Passenger Count by Class')\n",
    "plt.xlabel('Passenger Class')\n",
    "plt.ylabel('Count')\n",
    "plt.tight_layout()\n",
    "plt.show()"
   ]
  },
  {
   "cell_type": "markdown",
   "id": "7d7b8d4b",
   "metadata": {},
   "source": [
    "4. Correlation Heatmap\n",
    "\n",
    "Purpose: Helps you find numeric features that are positively or negatively correlated.\n",
    "\n",
    "- Values close to +1 → strong positive correlation\n",
    "\n",
    "- Values close to -1 → strong negative correlation"
   ]
  },
  {
   "cell_type": "code",
   "execution_count": null,
   "id": "910a7faa",
   "metadata": {},
   "outputs": [
    {
     "data": {
      "image/png": "[encoded data removed]",
      "text/plain": [
       "<Figure size 1000x600 with 2 Axes>"
      ]
     },
     "metadata": {},
     "output_type": "display_data"
    }
   ],
   "source": [
    "corr = df.select_dtypes(include=[np.number]).corr()\n",
    "\n",
    "fig, ax = plt.subplots(figsize=(10, 6))\n",
    "cax = ax.matshow(corr, cmap='coolwarm')\n",
    "fig.colorbar(cax)\n",
    "\n",
    "# Set axis ticks\n",
    "ax.set_xticks(range(len(corr.columns)))\n",
    "ax.set_yticks(range(len(corr.columns)))\n",
    "ax.set_xticklabels(corr.columns, rotation=45, ha='left')\n",
    "ax.set_yticklabels(corr.columns)\n",
    "\n",
    "plt.title('Correlation Heatmap of Numeric Features', pad=20)\n",
    "plt.tight_layout()\n",
    "plt.show()"
   ]
  },
  {
   "cell_type": "markdown",
   "id": "0224a37f",
   "metadata": {},
   "source": [
    "## Exploring Feature Relationships"
   ]
  },
  {
   "cell_type": "markdown",
   "id": "0c68fa63",
   "metadata": {},
   "source": [
    "### Grouped statistics\n",
    "\n",
    "Pandas groupby() function is a powerful tool used to split a DataFrame into groups based on one or more columns, allowing for efficient data analysis and aggregation. It follows a “split-apply-combine” strategy, where data is divided into groups, a function is applied to each group, and the results are combined into a new DataFrame.\n",
    "\n",
    "The groupby() function in Pandas involves three main steps: Splitting, Applying, and Combining.\n",
    "\n",
    "- Splitting: This step involves dividing the DataFrame into groups based on some criteria. The groups are defined by unique values in one or more columns.\n",
    "\n",
    "- Applying: In this step, a function is applied to each group independently. You can apply various functions to each group, such as:\n",
    "    - Aggregation: Calculate summary statistics (e.g., sum, mean, count) for each group.\n",
    "    - Transformation: Modify the values within each group.\n",
    "    - Filtering: Keep or discard groups based on certain conditions.\n",
    "\n",
    "- Combining: Finally, the results of the applied function are combined into a new DataFrame or Series.\n",
    "\n",
    "[Pandas dataframe.groupby() Method - geeksforgeeks](https://www.geeksforgeeks.org/python-pandas-dataframe-groupby/)\n",
    "\n",
    "The abstract definition of grouping is to provide a mapping of labels to group names.\n",
    "For **DataFrame objects**, a string indicating either a column name or an index level name to be used to group."
   ]
  },
  {
   "cell_type": "markdown",
   "id": "72e15534",
   "metadata": {},
   "source": [
    "#### Grouping by single columns\n",
    "In this example, we will demonstrate how to group data by a single column using the groupby method. We will group by our categorical features, and explore how their relationship with the target feature"
   ]
  },
  {
   "cell_type": "code",
   "execution_count": 62,
   "id": "89539e8c",
   "metadata": {},
   "outputs": [
    {
     "data": {
      "text/plain": [
       "Sex\n",
       "female    0.742038\n",
       "male      0.188908\n",
       "Name: Survived, dtype: float64"
      ]
     },
     "execution_count": 62,
     "metadata": {},
     "output_type": "execute_result"
    }
   ],
   "source": [
    "# Calculate the average survival rate for each sex (female/male)\n",
    "grouped = df.groupby(by=\"Sex\")\n",
    "grouped[\"Survived\"].mean()"
   ]
  },
  {
   "cell_type": "markdown",
   "id": "ce8986a1",
   "metadata": {},
   "source": [
    "This tells us that \n",
    "- 74% of women passengers survived\n",
    "- 18% of men passengers survived\n",
    "  \n",
    "thus we could infer that women were more likely to survive"
   ]
  },
  {
   "cell_type": "code",
   "execution_count": 63,
   "id": "1d982743",
   "metadata": {},
   "outputs": [
    {
     "data": {
      "text/plain": [
       "Pclass\n",
       "1    0.629630\n",
       "2    0.472826\n",
       "3    0.242363\n",
       "Name: Survived, dtype: float64"
      ]
     },
     "execution_count": 63,
     "metadata": {},
     "output_type": "execute_result"
    }
   ],
   "source": [
    "# Calculate the average survival rate for each passenger ticket class (1st, 2nd, 3rd)\n",
    "df.groupby(by=\"Pclass\")[\"Survived\"].mean()"
   ]
  },
  {
   "cell_type": "markdown",
   "id": "1838a121",
   "metadata": {},
   "source": [
    "This tells us that\n",
    "- 62% of passengers in Upper class survived\n",
    "- 47% of passengers in Middle class survived\n",
    "- 24% of passengers in Lower class survived\n",
    "\n",
    "![Titanic cabin assignments through class](img\\titanic-figure-one-side-view.png)\n",
    "\n",
    "[Titanic cabin placement](https://www.encyclopedia-titanica.org/class-gender-titanic-disaster-1912~chapter-2~part-2.html)\n",
    "\n",
    "​The Titanic disaster highlighted the influence of social class on survival rates. Several factors contributed to this disparity. The ship's design placed first-class accommodations closer to the lifeboats, facilitating quicker access during the evacuation. Additionally, third-class passengers faced physical barriers and lacked clear guidance, which hindered their ability to reach lifeboats in time. These structural and procedural disadvantages underscore how deeply social hierarchies impacted survival outcomes during the tragedy.​"
   ]
  },
  {
   "cell_type": "markdown",
   "id": "0dc76e6d",
   "metadata": {},
   "source": [
    "As demonstrated, it is essential to explore data in depth alongside its context, as this approach can uncover meaningful insights into model performance during inference. Understanding the background not only helps interpret results more accurately, but also sheds light on potential biases and patterns that might otherwise go unnoticed. This is particularly crucial when working with historical or real-world datasets, where external factors can significantly influence outcomes."
   ]
  },
  {
   "cell_type": "markdown",
   "id": "d484889b",
   "metadata": {},
   "source": [
    "**Exercises**\n",
    "\n",
    "Explore the relation between the **port of embarkation** (Embarked) and the survival rate."
   ]
  },
  {
   "cell_type": "code",
   "execution_count": 65,
   "id": "e5bb3920",
   "metadata": {},
   "outputs": [],
   "source": [
    "# TODO: df.groupby()[]. ..."
   ]
  },
  {
   "cell_type": "markdown",
   "id": "001d4a8d",
   "metadata": {},
   "source": [
    "If we prefer, we can create a plot for better visualizing our results using matplotlib bar plot"
   ]
  },
  {
   "cell_type": "code",
   "execution_count": 79,
   "id": "a51a522e",
   "metadata": {},
   "outputs": [
    {
     "data": {
      "image/png": "[encoded data removed]",
      "text/plain": [
       "<Figure size 640x480 with 1 Axes>"
      ]
     },
     "metadata": {},
     "output_type": "display_data"
    }
   ],
   "source": [
    "# Group and calculate survival rates\n",
    "survival_by_sex = df.groupby(\"Sex\")[\"Survived\"].mean()\n",
    "\n",
    "# Extract the index and relative values from our grouped data\n",
    "sex = survival_by_sex.index\n",
    "rates = survival_by_sex.values\n",
    "\n",
    "plt.bar(x=sex, height=rates)\n",
    "\n",
    "# Add values on top of bars\n",
    "for i, rate in enumerate(rates):\n",
    "    plt.text(x=i, y=rate, s=f'{rate:.2f}', ha='center', va='bottom', fontsize=10)\n",
    "\n",
    "plt.ylim(0, 1)\n",
    "plt.title('Survival Rate by Sex')\n",
    "plt.ylabel('Survival Rate')\n",
    "plt.show()"
   ]
  },
  {
   "cell_type": "markdown",
   "id": "eade8108",
   "metadata": {},
   "source": [
    "**Exercise**\n",
    "\n",
    "Create the plotbar for the average survival rate for each passenger ticket class"
   ]
  },
  {
   "cell_type": "code",
   "execution_count": 77,
   "id": "fa8a81fc",
   "metadata": {},
   "outputs": [],
   "source": [
    "# TODO: "
   ]
  },
  {
   "cell_type": "markdown",
   "id": "3600768d",
   "metadata": {},
   "source": [
    "## Handling Missing Values"
   ]
  },
  {
   "cell_type": "markdown",
   "id": "9489ec02",
   "metadata": {},
   "source": [
    "## Feature Engineering"
   ]
  },
  {
   "cell_type": "markdown",
   "id": "40060b97",
   "metadata": {},
   "source": [
    "## Final Summary"
   ]
  }
 ],
 "metadata": {
  "kernelspec": {
   "display_name": "Python 3",
   "language": "python",
   "name": "python3"
  },
  "language_info": {
   "codemirror_mode": {
    "name": "ipython",
    "version": 3
   },
   "file_extension": ".py",
   "mimetype": "text/x-python",
   "name": "python",
   "nbconvert_exporter": "python",
   "pygments_lexer": "ipython3",
   "version": "3.13.0"
  }
 },
 "nbformat": 4,
 "nbformat_minor": 5
}
