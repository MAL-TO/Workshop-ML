{
 "cells": [
  {
   "cell_type": "markdown",
   "id": "fd487d21",
   "metadata": {},
   "source": [
    "# Lab 01 - Data exploration and preprocessing"
   ]
  },
  {
   "cell_type": "code",
   "execution_count": 1,
   "id": "ab0a0d4d",
   "metadata": {},
   "outputs": [],
   "source": [
    "# !pip install pandas \n",
    "# !pip install matplotlib\n",
    "# !pip install seaborn"
   ]
  },
  {
   "cell_type": "code",
   "execution_count": 14,
   "id": "fbc1481d",
   "metadata": {},
   "outputs": [
    {
     "ename": "ModuleNotFoundError",
     "evalue": "No module named 'sklearn'",
     "output_type": "error",
     "traceback": [
      "\u001b[31m---------------------------------------------------------------------------\u001b[39m",
      "\u001b[31mModuleNotFoundError\u001b[39m                       Traceback (most recent call last)",
      "\u001b[36mCell\u001b[39m\u001b[36m \u001b[39m\u001b[32mIn[14]\u001b[39m\u001b[32m, line 8\u001b[39m\n\u001b[32m      5\u001b[39m \u001b[38;5;28;01mimport\u001b[39;00m\u001b[38;5;250m \u001b[39m\u001b[34;01mpandas\u001b[39;00m\u001b[38;5;250m \u001b[39m\u001b[38;5;28;01mas\u001b[39;00m\u001b[38;5;250m \u001b[39m\u001b[34;01mpd\u001b[39;00m\n\u001b[32m      6\u001b[39m \u001b[38;5;28;01mimport\u001b[39;00m\u001b[38;5;250m \u001b[39m\u001b[34;01mmatplotlib\u001b[39;00m\u001b[34;01m.\u001b[39;00m\u001b[34;01mpyplot\u001b[39;00m\u001b[38;5;250m \u001b[39m\u001b[38;5;28;01mas\u001b[39;00m\u001b[38;5;250m \u001b[39m\u001b[34;01mplt\u001b[39;00m\n\u001b[32m----> \u001b[39m\u001b[32m8\u001b[39m \u001b[38;5;28;01mfrom\u001b[39;00m\u001b[38;5;250m \u001b[39m\u001b[34;01msklearn\u001b[39;00m\u001b[34;01m.\u001b[39;00m\u001b[34;01mimpute\u001b[39;00m\u001b[38;5;250m \u001b[39m\u001b[38;5;28;01mimport\u001b[39;00m SimpleImputer\n\u001b[32m      9\u001b[39m \u001b[38;5;28;01mfrom\u001b[39;00m\u001b[38;5;250m \u001b[39m\u001b[34;01msklearn\u001b[39;00m\u001b[34;01m.\u001b[39;00m\u001b[34;01mpreprocessing\u001b[39;00m\u001b[38;5;250m \u001b[39m\u001b[38;5;28;01mimport\u001b[39;00m MinMaxScaler\n",
      "\u001b[31mModuleNotFoundError\u001b[39m: No module named 'sklearn'"
     ]
    }
   ],
   "source": [
    "# import dependencies\n",
    "import os\n",
    "\n",
    "import numpy as np\n",
    "import pandas as pd\n",
    "import matplotlib.pyplot as plt\n",
    "\n",
    "from sklearn.impute import SimpleImputer\n",
    "from sklearn.preprocessing import MinMaxScaler"
   ]
  },
  {
   "cell_type": "markdown",
   "id": "2c858f34",
   "metadata": {},
   "source": [
    "## Introduction"
   ]
  },
  {
   "cell_type": "markdown",
   "id": "93e36221",
   "metadata": {},
   "source": [
    "### Dataset description\n",
    "\n",
    "The sinking of the Titanic is one of the most infamous shipwrecks in history.\n",
    "\n",
    "On April 15, 1912, during her maiden voyage, the widely considered “unsinkable” RMS Titanic sank after colliding with an iceberg. Unfortunately, there weren’t enough lifeboats for everyone onboard, resulting in the death of 1502 out of 2224 passengers and crew.\n",
    "\n",
    "While there was some element of luck involved in surviving, it seems some groups of people were more likely to survive than others.\n",
    "\n",
    "In this challenge, we ask you to build a predictive model that answers the question: “what sorts of people were more likely to survive?” using passenger data (ie name, age, gender, socio-economic class, etc).\n"
   ]
  },
  {
   "cell_type": "markdown",
   "id": "7071aecd",
   "metadata": {},
   "source": [
    "| Column Name | Data Type | Description | Possible Values |\n",
    "|-------------|-----------|-------------|----------------|\n",
    "| PassengerId | Integer   | Unique identifier for each passenger | 1, 2, 3, etc. |\n",
    "| Survived    | Integer   | Survival indicator | 0 = No (Did not survive), 1 = Yes (Survived) |\n",
    "| Pclass      | Integer   | Passenger ticket class | 1 = 1st/Upper, 2 = 2nd/Middle, 3 = 3rd/Lower |\n",
    "| Name        | String    | Full name of the passenger | \"Braund, Mr. Owen Harris\", etc. |\n",
    "| Sex         | String    | Gender of the passenger | \"male\", \"female\" |\n",
    "| Age         | Float     | Age of the passenger in years | 22.0, 40.0, etc. (may contain missing values) |\n",
    "| SibSp       | Integer   | Number of siblings/spouses aboard the Titanic | 0, 1, 2, etc. |\n",
    "| Parch       | Integer   | Number of parents/children aboard the Titanic | 0, 1, 2, etc. |\n",
    "| Ticket      | String    | Ticket number | \"A/5 21171\", \"PC 17599\", etc. |\n",
    "| Fare        | Float     | Price paid for the ticket | 7.25, 71.2833, etc. |\n",
    "| Cabin       | String    | Cabin number | \"C85\", \"E46\", etc. (many missing values) |\n",
    "| Embarked    | String    | Port of embarkation | \"C\" = Cherbourg, \"Q\" = Queenstown, \"S\" = Southampton |"
   ]
  },
  {
   "cell_type": "markdown",
   "id": "b5866566",
   "metadata": {},
   "source": [
    "### Objective of the lab\n",
    "\n",
    "The quality of the data and the amount of useful information that it contains are key factors that determine how well a machine learning algorithm can learn. Therefore, it is absolutely critical that we make sure to examine and preprocess a dataset before we feed it to a learning algorithm. \n",
    "\n",
    "In this laboratory we will explore the data exploration and preprocessing pipeline."
   ]
  },
  {
   "cell_type": "markdown",
   "id": "2938e958",
   "metadata": {},
   "source": [
    "#### What is a Dataset?\n",
    "\n",
    "A data set (or dataset) is a collection of data. In the case of tabular data, a data set corresponds to one or more database tables, where every **column** of a table represents a particular **variable**, and each **row** corresponds to a given **record of the data** set in question. The data set lists values for each of the variables, such as for example height and weight of an object, for each member of the data set. Data sets can also consist of a collection of documents or files\n",
    "\n",
    "Several characteristics define a data set's structure and properties. These include the number and types of the attributes or variables, and various statistical measures applicable to them.\n",
    "\n",
    "The values may be numbers, such as real numbers or integers, for example representing a person's height in centimeters, but may also be nominal data (i.e., not consisting of numerical values), for example representing a person's ethnicity. More generally, values may be of any of the kinds described as a level of measurement.\n",
    "\n",
    "Missing values may exist, which must be indicated somehow.\n",
    "\n",
    "[Data set - Wikipedia](https://en.wikipedia.org/wiki/Data_set)"
   ]
  },
  {
   "cell_type": "markdown",
   "id": "bad7a3aa",
   "metadata": {},
   "source": [
    "#### What are the different types of data?\n",
    "\n",
    "The two main types of data are:\n",
    "\n",
    "- Qualitative Data\n",
    "- Quantitative Data\n",
    "\n",
    "![types-of-data-img](img\\types-of-data-1024x555-1.png)\n",
    "\n",
    "---\n",
    "\n",
    "**Qualitative or Categorical Data**\n",
    "   \n",
    "Qualitative or Categorical Data is a type of data that can’t be measured or counted in the form of numbers. These types of data are sorted by category, not by number. That’s why it is also known as Categorical Data. \n",
    "\n",
    "These data consist of audio, images, symbols, or text. The gender of a person, i.e., male, female, or others, is qualitative data.\n",
    "\n",
    "Qualitative data tells about the perception of people. This data helps market researchers understand the customers’ tastes and then design their ideas and strategies accordingly. \n",
    "\n",
    "The Qualitative data are further classified into two parts :\n",
    "   \n",
    "- Nominal Data\n",
    "    Nominal Data is used to label variables without any order or quantitative value. The color of hair can be considered nominal data, as one color can’t be compared with another color.\n",
    "\n",
    "    With the help of nominal data, we can’t do any numerical tasks or can’t give any order to sort the data. These data don’t have any meaningful order; their values are distributed into distinct categories.\n",
    "\n",
    "- Ordinal Data\n",
    "\n",
    "    Ordinal data have natural ordering where a number is present in some kind of order by their position on the scale. These data are used for observation like customer satisfaction, happiness, etc., but we can’t do any arithmetical tasks on them. \n",
    "\n",
    "    Ordinal data is qualitative data for which their values have some kind of relative position. These kinds of data can be considered “in-between” qualitative and quantitative data.\n",
    "\n",
    "    The ordinal data only shows the sequences and cannot use for statistical analysis. Compared to nominal data, ordinal data have some kind of order that is not present in nominal data. \n",
    "\n",
    "--- \n",
    "\n",
    "**Quantitative Data**\n",
    "   \n",
    "Quantitative data is a type of data that can be expressed in numerical values, making it countable and including statistical data analysis. These kinds of data are also known as Numerical data.\n",
    "\n",
    "It answers the questions like “how much,” “how many,” and “how often.” For example, the price of a phone, the computer’s ram, the height or weight of a person, etc., falls under quantitative data. \n",
    "\n",
    "Quantitative data can be used for statistical manipulation. These data can be represented on a wide variety of graphs and charts, such as bar graphs, histograms, scatter plots, boxplots, pie charts, line graphs, etc.\n",
    "\n",
    "- Discrete Data\n",
    "\n",
    "    The term discrete means distinct or separate. The discrete data contain the values that fall under integers or whole numbers. The total number of students in a class is an example of discrete data. These data can’t be broken into decimal or fraction values.\n",
    "\n",
    "    The discrete data are countable and have finite values; their subdivision is not possible. These data are represented mainly by a bar graph, number line, or frequency table.\n",
    "\n",
    "- Continuous Data\n",
    "\n",
    "    Continuous data are in the form of fractional numbers. It can be the version of an android phone, the height of a person, the length of an object, etc. Continuous data represents information that can be divided into smaller levels. The continuous variable can take any value within a range. \n",
    "\n",
    "    The key difference between discrete and continuous data is that discrete data contains the integer or whole number. Still, continuous data stores the fractional numbers to record different types of data such as temperature, height, width, time, speed, etc.\n",
    "\n",
    "[Types Of Data - Great Learning](https://www.mygreatlearning.com/blog/types-of-data/)"
   ]
  },
  {
   "cell_type": "markdown",
   "id": "5b35bcc3",
   "metadata": {},
   "source": [
    "## Dataset Loading\n",
    "\n",
    "To start working with any dataset in Python, we typically use the pandas library, which allows us to load, manipulate, and analyze data easily in tabular form.\n",
    "\n",
    "---\n",
    "\n",
    "**What is Pandas?**\n",
    "\n",
    "Pandas is an open-source software library designed for data manipulation and analysis. It provides data structures like series and DataFrames to easily clean, transform and analyze large datasets and integrates with other Python libraries, such as NumPy and Matplotlib.\n",
    "\n",
    "It offers functions for data transformation, aggregation and visualization, which are important for analysis.\n",
    "\n",
    "Pandas revolves around two primary Data structures: Series (1D) for single columns and DataFrame (2D) for tabular data enabling efficient data manipulation.\n",
    "\n",
    "With pandas, you can perform a wide range of data operations, including\n",
    "\n",
    "- Reading and writing data from various file formats like CSV, Excel and SQL databases.\n",
    "- Cleaning and preparing data by handling missing values and filtering entries.\n",
    "- Merging and joining multiple datasets seamlessly.\n",
    "- Reshaping data through pivoting and stacking operations.\n",
    "- Conducting statistical analysis and generating descriptive statistics.\n",
    "- Visualizing data with integrated plotting capabilities.\n",
    "\n",
    "[Pandas Tutorial - geeksforgeeks](https://www.geeksforgeeks.org/pandas-tutorial/)\n",
    "\n",
    "---\n",
    "\n",
    "In this case, the Titanic dataset is available in a CSV file. We'll load it using <code>[pandas.read_csv()](https://pandas.pydata.org/pandas-docs/stable/reference/api/pandas.read_csv.html)</code>.\n",
    "\n",
    "For loading file we need Pandas library.\n",
    "\n",
    "What is Pandas? \n",
    "\n",
    "Pandas is one of the most important and widely-used Python libraries in data science, data analysis, and machine learning.\n",
    "\n",
    "It was created specifically to make working with structured data (like tables and spreadsheets) fast, flexible, and expressive.\n",
    "\n",
    "The name \"pandas\" is derived from \"Panel Data\", which is an econometrics term for multidimensional structured data, and also a fun nod to the panda bear 🐼."
   ]
  },
  {
   "cell_type": "code",
   "execution_count": null,
   "id": "54d1bc21",
   "metadata": {},
   "outputs": [
    {
     "data": {
      "text/html": [
       "<div>\n",
       "<style scoped>\n",
       "    .dataframe tbody tr th:only-of-type {\n",
       "        vertical-align: middle;\n",
       "    }\n",
       "\n",
       "    .dataframe tbody tr th {\n",
       "        vertical-align: top;\n",
       "    }\n",
       "\n",
       "    .dataframe thead th {\n",
       "        text-align: right;\n",
       "    }\n",
       "</style>\n",
       "<table border=\"1\" class=\"dataframe\">\n",
       "  <thead>\n",
       "    <tr style=\"text-align: right;\">\n",
       "      <th></th>\n",
       "      <th>PassengerId</th>\n",
       "      <th>Survived</th>\n",
       "      <th>Pclass</th>\n",
       "      <th>Name</th>\n",
       "      <th>Sex</th>\n",
       "      <th>Age</th>\n",
       "      <th>SibSp</th>\n",
       "      <th>Parch</th>\n",
       "      <th>Ticket</th>\n",
       "      <th>Fare</th>\n",
       "      <th>Cabin</th>\n",
       "      <th>Embarked</th>\n",
       "    </tr>\n",
       "  </thead>\n",
       "  <tbody>\n",
       "    <tr>\n",
       "      <th>0</th>\n",
       "      <td>1</td>\n",
       "      <td>0</td>\n",
       "      <td>3</td>\n",
       "      <td>Braund, Mr. Owen Harris</td>\n",
       "      <td>male</td>\n",
       "      <td>22.0</td>\n",
       "      <td>1</td>\n",
       "      <td>0</td>\n",
       "      <td>A/5 21171</td>\n",
       "      <td>7.2500</td>\n",
       "      <td>NaN</td>\n",
       "      <td>S</td>\n",
       "    </tr>\n",
       "    <tr>\n",
       "      <th>1</th>\n",
       "      <td>2</td>\n",
       "      <td>1</td>\n",
       "      <td>1</td>\n",
       "      <td>Cumings, Mrs. John Bradley (Florence Briggs Th...</td>\n",
       "      <td>female</td>\n",
       "      <td>38.0</td>\n",
       "      <td>1</td>\n",
       "      <td>0</td>\n",
       "      <td>PC 17599</td>\n",
       "      <td>71.2833</td>\n",
       "      <td>C85</td>\n",
       "      <td>C</td>\n",
       "    </tr>\n",
       "    <tr>\n",
       "      <th>2</th>\n",
       "      <td>3</td>\n",
       "      <td>1</td>\n",
       "      <td>3</td>\n",
       "      <td>Heikkinen, Miss. Laina</td>\n",
       "      <td>female</td>\n",
       "      <td>26.0</td>\n",
       "      <td>0</td>\n",
       "      <td>0</td>\n",
       "      <td>STON/O2. 3101282</td>\n",
       "      <td>7.9250</td>\n",
       "      <td>NaN</td>\n",
       "      <td>S</td>\n",
       "    </tr>\n",
       "    <tr>\n",
       "      <th>3</th>\n",
       "      <td>4</td>\n",
       "      <td>1</td>\n",
       "      <td>1</td>\n",
       "      <td>Futrelle, Mrs. Jacques Heath (Lily May Peel)</td>\n",
       "      <td>female</td>\n",
       "      <td>35.0</td>\n",
       "      <td>1</td>\n",
       "      <td>0</td>\n",
       "      <td>113803</td>\n",
       "      <td>53.1000</td>\n",
       "      <td>C123</td>\n",
       "      <td>S</td>\n",
       "    </tr>\n",
       "    <tr>\n",
       "      <th>4</th>\n",
       "      <td>5</td>\n",
       "      <td>0</td>\n",
       "      <td>3</td>\n",
       "      <td>Allen, Mr. William Henry</td>\n",
       "      <td>male</td>\n",
       "      <td>35.0</td>\n",
       "      <td>0</td>\n",
       "      <td>0</td>\n",
       "      <td>373450</td>\n",
       "      <td>8.0500</td>\n",
       "      <td>NaN</td>\n",
       "      <td>S</td>\n",
       "    </tr>\n",
       "  </tbody>\n",
       "</table>\n",
       "</div>"
      ],
      "text/plain": [
       "   PassengerId  Survived  Pclass  \\\n",
       "0            1         0       3   \n",
       "1            2         1       1   \n",
       "2            3         1       3   \n",
       "3            4         1       1   \n",
       "4            5         0       3   \n",
       "\n",
       "                                                Name     Sex   Age  SibSp  \\\n",
       "0                            Braund, Mr. Owen Harris    male  22.0      1   \n",
       "1  Cumings, Mrs. John Bradley (Florence Briggs Th...  female  38.0      1   \n",
       "2                             Heikkinen, Miss. Laina  female  26.0      0   \n",
       "3       Futrelle, Mrs. Jacques Heath (Lily May Peel)  female  35.0      1   \n",
       "4                           Allen, Mr. William Henry    male  35.0      0   \n",
       "\n",
       "   Parch            Ticket     Fare Cabin Embarked  \n",
       "0      0         A/5 21171   7.2500   NaN        S  \n",
       "1      0          PC 17599  71.2833   C85        C  \n",
       "2      0  STON/O2. 3101282   7.9250   NaN        S  \n",
       "3      0            113803  53.1000  C123        S  \n",
       "4      0            373450   8.0500   NaN        S  "
      ]
     },
     "execution_count": 6,
     "metadata": {},
     "output_type": "execute_result"
    }
   ],
   "source": [
    "DATASET_PATH = os.path.join(\"data\", \"lab-01\", \"Titanic-Dataset.csv\")\n",
    "\n",
    "# Load the dataset from the subfolder 'data/lab-01'\n",
    "df = pd.read_csv(filepath_or_buffer=DATASET_PATH)\n",
    "\n",
    "# Display the first 5 rows to check it's loaded correctly\n",
    "df.head()"
   ]
  },
  {
   "cell_type": "markdown",
   "id": "d4b7cb1f",
   "metadata": {},
   "source": [
    "## Dataset Overview\n",
    "\n",
    "\n",
    "Now that we’ve successfully loaded the dataset, it’s time to explore and play with it.\n",
    "\n",
    "Before we start building any machine learning models or visualizations, we must understand:\n",
    "\n",
    "- What kind of data we are working with\n",
    "\n",
    "- The distribution of values across key columns\n",
    "\n",
    "- If there are any unusual or suspicious entries (outliers, wrong types, etc.)\n",
    "\n",
    "This step is known as Exploratory Data Analysis (EDA) — and it’s one of the most important steps in any data science project.\n",
    "\n",
    "🔍 Why Is This Step Important?\n",
    "\n",
    "- ✅ Data Understanding: We need to understand what each column means, what type of values it contains, and how it could relate to the outcome we want to predict (in this case, survival).\n",
    "\n",
    "- 🚩 Anomaly Detection: This helps us spot outliers, inconsistent data, or wrong data types — all of which can affect the performance of our models.\n",
    "\n",
    "- 🛠️ Planning Data Cleaning: Based on this step, we can make decisions about missing values, column drops, or transformations needed later.\n",
    "\n",
    "This step is called Exploratory Data Analysis (EDA), and it’s one of the most critical stages in any data science pipeline.\n"
   ]
  },
  {
   "cell_type": "code",
   "execution_count": null,
   "id": "7a24cc6c",
   "metadata": {},
   "outputs": [
    {
     "name": "stdout",
     "output_type": "stream",
     "text": [
      "Dataset shape: (891, 12)\n"
     ]
    }
   ],
   "source": [
    "# Check the shape of the dataset (rows, columns)\n",
    "# DataFrame.shape: Return a tuple representing the dimensionality of the DataFrame.\n",
    "\n",
    "print(\"Dataset shape:\", df.shape)"
   ]
  },
  {
   "cell_type": "code",
   "execution_count": null,
   "id": "5a5cbdc5",
   "metadata": {},
   "outputs": [
    {
     "name": "stdout",
     "output_type": "stream",
     "text": [
      "\n",
      "Column names:\n",
      " ['PassengerId', 'Survived', 'Pclass', 'Name', 'Sex', 'Age', 'SibSp', 'Parch', 'Ticket', 'Fare', 'Cabin', 'Embarked']\n"
     ]
    }
   ],
   "source": [
    "# Show the column names\n",
    "# DataFrame.columns: The column labels of the DataFrame.\n",
    "print(\"\\nColumn names:\\n\", df.columns.tolist())"
   ]
  },
  {
   "cell_type": "code",
   "execution_count": null,
   "id": "053a64e4",
   "metadata": {},
   "outputs": [
    {
     "name": "stdout",
     "output_type": "stream",
     "text": [
      "Features data types:\n"
     ]
    },
    {
     "data": {
      "text/plain": [
       "PassengerId      int64\n",
       "Survived         int64\n",
       "Pclass           int64\n",
       "Name            object\n",
       "Sex             object\n",
       "Age            float64\n",
       "SibSp            int64\n",
       "Parch            int64\n",
       "Ticket          object\n",
       "Fare           float64\n",
       "Cabin           object\n",
       "Embarked        object\n",
       "dtype: object"
      ]
     },
     "execution_count": 43,
     "metadata": {},
     "output_type": "execute_result"
    }
   ],
   "source": [
    "# DataFrame.dtype: Return the dtypes in the DataFrame.\n",
    "# This returns a Series with the data type of each column. \n",
    "# The result’s index is the original DataFrame’s columns. Columns with mixed types are stored with the object dtype. \n",
    "print(\"Features data types:\")\n",
    "df.dtypes"
   ]
  },
  {
   "cell_type": "code",
   "execution_count": null,
   "id": "7fcee358",
   "metadata": {},
   "outputs": [
    {
     "name": "stdout",
     "output_type": "stream",
     "text": [
      "<class 'pandas.core.frame.DataFrame'>\n",
      "RangeIndex: 891 entries, 0 to 890\n",
      "Data columns (total 12 columns):\n",
      " #   Column       Non-Null Count  Dtype  \n",
      "---  ------       --------------  -----  \n",
      " 0   PassengerId  891 non-null    int64  \n",
      " 1   Survived     891 non-null    int64  \n",
      " 2   Pclass       891 non-null    int64  \n",
      " 3   Name         891 non-null    object \n",
      " 4   Sex          891 non-null    object \n",
      " 5   Age          714 non-null    float64\n",
      " 6   SibSp        891 non-null    int64  \n",
      " 7   Parch        891 non-null    int64  \n",
      " 8   Ticket       891 non-null    object \n",
      " 9   Fare         891 non-null    float64\n",
      " 10  Cabin        204 non-null    object \n",
      " 11  Embarked     889 non-null    object \n",
      "dtypes: float64(2), int64(5), object(5)\n",
      "memory usage: 83.7+ KB\n"
     ]
    }
   ],
   "source": [
    "# Display information about each column (data type, non-null values, etc.)\n",
    "# DataFrame.info: Print a concise summary of a DataFrame.\n",
    "# This method prints information about a DataFrame including the index dtype and columns, non-null values and memory usage. \n",
    "df.info()"
   ]
  },
  {
   "cell_type": "markdown",
   "id": "3b1b5f6f",
   "metadata": {},
   "source": [
    "Explore the unique values of our *target* using the <code>[pandas.unique](https://pandas.pydata.org/pandas-docs/stable/reference/api/pandas.unique.html)</code> module."
   ]
  },
  {
   "cell_type": "code",
   "execution_count": null,
   "id": "ac6e1337",
   "metadata": {},
   "outputs": [
    {
     "name": "stdout",
     "output_type": "stream",
     "text": [
      "Target unique values\n"
     ]
    },
    {
     "data": {
      "text/plain": [
       "array([0, 1])"
      ]
     },
     "execution_count": 45,
     "metadata": {},
     "output_type": "execute_result"
    }
   ],
   "source": [
    "print(\"Target unique values\")\n",
    "df[\"Survived\"].unique()"
   ]
  },
  {
   "cell_type": "markdown",
   "id": "795427f2",
   "metadata": {},
   "source": [
    "Exercise: For the columns *Survived, Pclass, Sex, Embarked*, return the list of unique values"
   ]
  },
  {
   "cell_type": "code",
   "execution_count": null,
   "id": "c039567b",
   "metadata": {},
   "outputs": [
    {
     "name": "stdout",
     "output_type": "stream",
     "text": [
      "Column: Survived\n",
      "Unique values: [0 1]\n",
      "\n",
      "Column: Pclass\n",
      "Unique values: [3 1 2]\n",
      "\n",
      "Column: Sex\n",
      "Unique values: ['male' 'female']\n",
      "\n",
      "Column: Embarked\n",
      "Unique values: ['S' 'C' 'Q' nan]\n",
      "\n"
     ]
    }
   ],
   "source": [
    "columns = [\"Survived\", \"Pclass\", \"Sex\", \"Embarked\"]\n",
    "for col in columns:\n",
    "    print(f\"Column: {col}\")\n",
    "    print(f\"Unique values: {df[col].unique()}\\n\")"
   ]
  },
  {
   "cell_type": "code",
   "execution_count": null,
   "id": "bca9f7e9",
   "metadata": {},
   "outputs": [
    {
     "data": {
      "text/html": [
       "<div>\n",
       "<style scoped>\n",
       "    .dataframe tbody tr th:only-of-type {\n",
       "        vertical-align: middle;\n",
       "    }\n",
       "\n",
       "    .dataframe tbody tr th {\n",
       "        vertical-align: top;\n",
       "    }\n",
       "\n",
       "    .dataframe thead th {\n",
       "        text-align: right;\n",
       "    }\n",
       "</style>\n",
       "<table border=\"1\" class=\"dataframe\">\n",
       "  <thead>\n",
       "    <tr style=\"text-align: right;\">\n",
       "      <th></th>\n",
       "      <th>count</th>\n",
       "      <th>unique</th>\n",
       "      <th>top</th>\n",
       "      <th>freq</th>\n",
       "      <th>mean</th>\n",
       "      <th>std</th>\n",
       "      <th>min</th>\n",
       "      <th>25%</th>\n",
       "      <th>50%</th>\n",
       "      <th>75%</th>\n",
       "      <th>max</th>\n",
       "    </tr>\n",
       "  </thead>\n",
       "  <tbody>\n",
       "    <tr>\n",
       "      <th>PassengerId</th>\n",
       "      <td>891.0</td>\n",
       "      <td>NaN</td>\n",
       "      <td>NaN</td>\n",
       "      <td>NaN</td>\n",
       "      <td>446.0</td>\n",
       "      <td>257.353842</td>\n",
       "      <td>1.0</td>\n",
       "      <td>223.5</td>\n",
       "      <td>446.0</td>\n",
       "      <td>668.5</td>\n",
       "      <td>891.0</td>\n",
       "    </tr>\n",
       "    <tr>\n",
       "      <th>Survived</th>\n",
       "      <td>891.0</td>\n",
       "      <td>NaN</td>\n",
       "      <td>NaN</td>\n",
       "      <td>NaN</td>\n",
       "      <td>0.383838</td>\n",
       "      <td>0.486592</td>\n",
       "      <td>0.0</td>\n",
       "      <td>0.0</td>\n",
       "      <td>0.0</td>\n",
       "      <td>1.0</td>\n",
       "      <td>1.0</td>\n",
       "    </tr>\n",
       "    <tr>\n",
       "      <th>Pclass</th>\n",
       "      <td>891.0</td>\n",
       "      <td>NaN</td>\n",
       "      <td>NaN</td>\n",
       "      <td>NaN</td>\n",
       "      <td>2.308642</td>\n",
       "      <td>0.836071</td>\n",
       "      <td>1.0</td>\n",
       "      <td>2.0</td>\n",
       "      <td>3.0</td>\n",
       "      <td>3.0</td>\n",
       "      <td>3.0</td>\n",
       "    </tr>\n",
       "    <tr>\n",
       "      <th>Name</th>\n",
       "      <td>891</td>\n",
       "      <td>891</td>\n",
       "      <td>Dooley, Mr. Patrick</td>\n",
       "      <td>1</td>\n",
       "      <td>NaN</td>\n",
       "      <td>NaN</td>\n",
       "      <td>NaN</td>\n",
       "      <td>NaN</td>\n",
       "      <td>NaN</td>\n",
       "      <td>NaN</td>\n",
       "      <td>NaN</td>\n",
       "    </tr>\n",
       "    <tr>\n",
       "      <th>Sex</th>\n",
       "      <td>891</td>\n",
       "      <td>2</td>\n",
       "      <td>male</td>\n",
       "      <td>577</td>\n",
       "      <td>NaN</td>\n",
       "      <td>NaN</td>\n",
       "      <td>NaN</td>\n",
       "      <td>NaN</td>\n",
       "      <td>NaN</td>\n",
       "      <td>NaN</td>\n",
       "      <td>NaN</td>\n",
       "    </tr>\n",
       "    <tr>\n",
       "      <th>Age</th>\n",
       "      <td>714.0</td>\n",
       "      <td>NaN</td>\n",
       "      <td>NaN</td>\n",
       "      <td>NaN</td>\n",
       "      <td>29.699118</td>\n",
       "      <td>14.526497</td>\n",
       "      <td>0.42</td>\n",
       "      <td>20.125</td>\n",
       "      <td>28.0</td>\n",
       "      <td>38.0</td>\n",
       "      <td>80.0</td>\n",
       "    </tr>\n",
       "    <tr>\n",
       "      <th>SibSp</th>\n",
       "      <td>891.0</td>\n",
       "      <td>NaN</td>\n",
       "      <td>NaN</td>\n",
       "      <td>NaN</td>\n",
       "      <td>0.523008</td>\n",
       "      <td>1.102743</td>\n",
       "      <td>0.0</td>\n",
       "      <td>0.0</td>\n",
       "      <td>0.0</td>\n",
       "      <td>1.0</td>\n",
       "      <td>8.0</td>\n",
       "    </tr>\n",
       "    <tr>\n",
       "      <th>Parch</th>\n",
       "      <td>891.0</td>\n",
       "      <td>NaN</td>\n",
       "      <td>NaN</td>\n",
       "      <td>NaN</td>\n",
       "      <td>0.381594</td>\n",
       "      <td>0.806057</td>\n",
       "      <td>0.0</td>\n",
       "      <td>0.0</td>\n",
       "      <td>0.0</td>\n",
       "      <td>0.0</td>\n",
       "      <td>6.0</td>\n",
       "    </tr>\n",
       "    <tr>\n",
       "      <th>Ticket</th>\n",
       "      <td>891</td>\n",
       "      <td>681</td>\n",
       "      <td>347082</td>\n",
       "      <td>7</td>\n",
       "      <td>NaN</td>\n",
       "      <td>NaN</td>\n",
       "      <td>NaN</td>\n",
       "      <td>NaN</td>\n",
       "      <td>NaN</td>\n",
       "      <td>NaN</td>\n",
       "      <td>NaN</td>\n",
       "    </tr>\n",
       "    <tr>\n",
       "      <th>Fare</th>\n",
       "      <td>891.0</td>\n",
       "      <td>NaN</td>\n",
       "      <td>NaN</td>\n",
       "      <td>NaN</td>\n",
       "      <td>32.204208</td>\n",
       "      <td>49.693429</td>\n",
       "      <td>0.0</td>\n",
       "      <td>7.9104</td>\n",
       "      <td>14.4542</td>\n",
       "      <td>31.0</td>\n",
       "      <td>512.3292</td>\n",
       "    </tr>\n",
       "    <tr>\n",
       "      <th>Cabin</th>\n",
       "      <td>204</td>\n",
       "      <td>147</td>\n",
       "      <td>G6</td>\n",
       "      <td>4</td>\n",
       "      <td>NaN</td>\n",
       "      <td>NaN</td>\n",
       "      <td>NaN</td>\n",
       "      <td>NaN</td>\n",
       "      <td>NaN</td>\n",
       "      <td>NaN</td>\n",
       "      <td>NaN</td>\n",
       "    </tr>\n",
       "    <tr>\n",
       "      <th>Embarked</th>\n",
       "      <td>889</td>\n",
       "      <td>3</td>\n",
       "      <td>S</td>\n",
       "      <td>644</td>\n",
       "      <td>NaN</td>\n",
       "      <td>NaN</td>\n",
       "      <td>NaN</td>\n",
       "      <td>NaN</td>\n",
       "      <td>NaN</td>\n",
       "      <td>NaN</td>\n",
       "      <td>NaN</td>\n",
       "    </tr>\n",
       "  </tbody>\n",
       "</table>\n",
       "</div>"
      ],
      "text/plain": [
       "             count unique                  top freq       mean         std  \\\n",
       "PassengerId  891.0    NaN                  NaN  NaN      446.0  257.353842   \n",
       "Survived     891.0    NaN                  NaN  NaN   0.383838    0.486592   \n",
       "Pclass       891.0    NaN                  NaN  NaN   2.308642    0.836071   \n",
       "Name           891    891  Dooley, Mr. Patrick    1        NaN         NaN   \n",
       "Sex            891      2                 male  577        NaN         NaN   \n",
       "Age          714.0    NaN                  NaN  NaN  29.699118   14.526497   \n",
       "SibSp        891.0    NaN                  NaN  NaN   0.523008    1.102743   \n",
       "Parch        891.0    NaN                  NaN  NaN   0.381594    0.806057   \n",
       "Ticket         891    681               347082    7        NaN         NaN   \n",
       "Fare         891.0    NaN                  NaN  NaN  32.204208   49.693429   \n",
       "Cabin          204    147                   G6    4        NaN         NaN   \n",
       "Embarked       889      3                    S  644        NaN         NaN   \n",
       "\n",
       "              min     25%      50%    75%       max  \n",
       "PassengerId   1.0   223.5    446.0  668.5     891.0  \n",
       "Survived      0.0     0.0      0.0    1.0       1.0  \n",
       "Pclass        1.0     2.0      3.0    3.0       3.0  \n",
       "Name          NaN     NaN      NaN    NaN       NaN  \n",
       "Sex           NaN     NaN      NaN    NaN       NaN  \n",
       "Age          0.42  20.125     28.0   38.0      80.0  \n",
       "SibSp         0.0     0.0      0.0    1.0       8.0  \n",
       "Parch         0.0     0.0      0.0    0.0       6.0  \n",
       "Ticket        NaN     NaN      NaN    NaN       NaN  \n",
       "Fare          0.0  7.9104  14.4542   31.0  512.3292  \n",
       "Cabin         NaN     NaN      NaN    NaN       NaN  \n",
       "Embarked      NaN     NaN      NaN    NaN       NaN  "
      ]
     },
     "execution_count": 47,
     "metadata": {},
     "output_type": "execute_result"
    }
   ],
   "source": [
    "# Summary statistics for numerical columns\n",
    "# DataFrame.describe: Generate descriptive statistics.\n",
    "# Descriptive statistics include those that summarize the central tendency, \n",
    "# dispersion and shape of a dataset’s distribution, excluding NaN values.\n",
    "# Analyzes both numeric and object series, as well as DataFrame column sets of mixed data types. \n",
    "# The output will vary depending on what is provided.\n",
    "\n",
    "df.describe(include=\"all\").T"
   ]
  },
  {
   "cell_type": "markdown",
   "id": "d54d8a85",
   "metadata": {},
   "source": [
    "## Data Quality Check\n",
    "\n",
    "Before we analyze or build models with our dataset, we need to ensure that the data is clean, complete, and reliable.\n",
    "\n",
    "Even in well-known datasets like the Titanic dataset, we might encounter:\n",
    "\n",
    "- Missing values: Empty cells or NaNs that need to be filled, removed, or flagged.\n",
    "\n",
    "- Inconsistent or incorrect formats: For example, a numerical column with text entries.\n",
    "\n",
    "- Duplicated entries: Repeated rows that can skew statistics and model results.\n",
    "\n",
    "- Outliers or unrealistic values: Extremely high or low numbers that don’t make sense (e.g., negative ages).\n",
    "\n",
    "These issues can significantly affect model accuracy and lead to false conclusions. So, this step focuses on detecting potential problems and planning how to handle them."
   ]
  },
  {
   "cell_type": "code",
   "execution_count": null,
   "id": "763f5a1c",
   "metadata": {},
   "outputs": [
    {
     "name": "stdout",
     "output_type": "stream",
     "text": [
      "Missing values per column:\n",
      "PassengerId      0\n",
      "Survived         0\n",
      "Pclass           0\n",
      "Name             0\n",
      "Sex              0\n",
      "Age            177\n",
      "SibSp            0\n",
      "Parch            0\n",
      "Ticket           0\n",
      "Fare             0\n",
      "Cabin          687\n",
      "Embarked         2\n",
      "dtype: int64\n",
      "\n",
      "Percentage of missing values:\n",
      "PassengerId     0.000000\n",
      "Survived        0.000000\n",
      "Pclass          0.000000\n",
      "Name            0.000000\n",
      "Sex             0.000000\n",
      "Age            19.865320\n",
      "SibSp           0.000000\n",
      "Parch           0.000000\n",
      "Ticket          0.000000\n",
      "Fare            0.000000\n",
      "Cabin          77.104377\n",
      "Embarked        0.224467\n",
      "dtype: float64\n",
      "\n",
      "Number of duplicated rows:\n",
      "0\n",
      "\n",
      "Rows with missing 'Age':\n",
      "    PassengerId  Survived  Pclass                           Name     Sex  Age  \\\n",
      "5             6         0       3               Moran, Mr. James    male  NaN   \n",
      "17           18         1       2   Williams, Mr. Charles Eugene    male  NaN   \n",
      "19           20         1       3        Masselmani, Mrs. Fatima  female  NaN   \n",
      "26           27         0       3        Emir, Mr. Farred Chehab    male  NaN   \n",
      "28           29         1       3  O'Dwyer, Miss. Ellen \"Nellie\"  female  NaN   \n",
      "\n",
      "    SibSp  Parch  Ticket     Fare Cabin Embarked  \n",
      "5       0      0  330877   8.4583   NaN        Q  \n",
      "17      0      0  244373  13.0000   NaN        S  \n",
      "19      0      0    2649   7.2250   NaN        C  \n",
      "26      0      0    2631   7.2250   NaN        C  \n",
      "28      0      0  330959   7.8792   NaN        Q  \n",
      "\n",
      "Rows with invalid 'Age' values (if any):\n",
      "Empty DataFrame\n",
      "Columns: [PassengerId, Survived, Pclass, Name, Sex, Age, SibSp, Parch, Ticket, Fare, Cabin, Embarked]\n",
      "Index: []\n",
      "\n",
      "Unique values in 'Sex' column:\n",
      "['male' 'female']\n"
     ]
    }
   ],
   "source": [
    "# 1. Check for missing values per column\n",
    "print(\"Missing values per column:\")\n",
    "print(df.isnull().sum())\n",
    "\n",
    "# 2. Optional: Check the percentage of missing values\n",
    "print(\"\\nPercentage of missing values:\")\n",
    "print((df.isnull().sum() / len(df)) * 100)\n",
    "\n",
    "# 3. Check for duplicated rows\n",
    "print(\"\\nNumber of duplicated rows:\")\n",
    "print(df.duplicated().sum())\n",
    "\n",
    "# 4. Display rows with invalid or inconsistent data (examples)\n",
    "\n",
    "# Example: Show rows with missing 'Age'\n",
    "print(\"\\nRows with missing 'Age':\")\n",
    "print(df[df['Age'].isnull()].head())\n",
    "\n",
    "# Example: Check for invalid ages (e.g., negative values)\n",
    "print(\"\\nRows with invalid 'Age' values (if any):\")\n",
    "print(df[df['Age'] < 0])\n",
    "\n",
    "# Example: Check for unknown 'Sex' values\n",
    "print(\"\\nUnique values in 'Sex' column:\")\n",
    "print(df['Sex'].unique())"
   ]
  },
  {
   "cell_type": "markdown",
   "id": "2a86fdb7",
   "metadata": {},
   "source": [
    "## Descriptive Statistics\n",
    "\n",
    "After we’ve performed a basic overview and quality check, it’s time to understand how the values in our dataset are distributed — both numerical and categorical.\n",
    "\n",
    "This step is essential because:\n",
    "\n",
    "- It gives us an idea of the central tendency (e.g., average) and spread (e.g., variability) of data.\n",
    "\n",
    "- It reveals outliers, data imbalance, and patterns that may not be immediately obvious.\n",
    "\n",
    "- It helps us decide how to normalize, transform, or encode data before building models."
   ]
  },
  {
   "cell_type": "code",
   "execution_count": null,
   "id": "60966a2d",
   "metadata": {},
   "outputs": [
    {
     "name": "stdout",
     "output_type": "stream",
     "text": [
      "Numeric summary:\n",
      "       PassengerId    Survived      Pclass         Age       SibSp  \\\n",
      "count   891.000000  891.000000  891.000000  714.000000  891.000000   \n",
      "mean    446.000000    0.383838    2.308642   29.699118    0.523008   \n",
      "std     257.353842    0.486592    0.836071   14.526497    1.102743   \n",
      "min       1.000000    0.000000    1.000000    0.420000    0.000000   \n",
      "25%     223.500000    0.000000    2.000000   20.125000    0.000000   \n",
      "50%     446.000000    0.000000    3.000000   28.000000    0.000000   \n",
      "75%     668.500000    1.000000    3.000000   38.000000    1.000000   \n",
      "max     891.000000    1.000000    3.000000   80.000000    8.000000   \n",
      "\n",
      "            Parch        Fare  \n",
      "count  891.000000  891.000000  \n",
      "mean     0.381594   32.204208  \n",
      "std      0.806057   49.693429  \n",
      "min      0.000000    0.000000  \n",
      "25%      0.000000    7.910400  \n",
      "50%      0.000000   14.454200  \n",
      "75%      0.000000   31.000000  \n",
      "max      6.000000  512.329200  \n",
      "\n",
      "Value counts for 'Sex':\n",
      "Sex\n",
      "male      577\n",
      "female    314\n",
      "Name: count, dtype: int64\n",
      "\n",
      "Value counts for 'Pclass':\n",
      "Pclass\n",
      "3    491\n",
      "1    216\n",
      "2    184\n",
      "Name: count, dtype: int64\n",
      "\n",
      "Value counts for 'Embarked':\n",
      "Embarked\n",
      "S      644\n",
      "C      168\n",
      "Q       77\n",
      "NaN      2\n",
      "Name: count, dtype: int64\n"
     ]
    }
   ],
   "source": [
    "# Summary statistics for numeric columns\n",
    "print(\"Numeric summary:\")\n",
    "print(df.describe())\n",
    "\n",
    "# Value counts for categorical features\n",
    "print(\"\\nValue counts for 'Sex':\")\n",
    "print(df['Sex'].value_counts())\n",
    "\n",
    "print(\"\\nValue counts for 'Pclass':\")\n",
    "print(df['Pclass'].value_counts())\n",
    "\n",
    "print(\"\\nValue counts for 'Embarked':\")\n",
    "print(df['Embarked'].value_counts(dropna=False))  # include NaN"
   ]
  },
  {
   "cell_type": "markdown",
   "id": "fb1de943",
   "metadata": {},
   "source": [
    "**Exercise:** Together with the default percentile, return in the output also the 1st and 99th percentile\n",
    "\n",
    "Check at this link the documentation of the module <code>[DataFrame.describe](https://pandas.pydata.org/pandas-docs/stable/reference/api/pandas.DataFrame.describe.html)</code>"
   ]
  },
  {
   "cell_type": "code",
   "execution_count": null,
   "id": "ecb40dad",
   "metadata": {},
   "outputs": [
    {
     "ename": "SyntaxError",
     "evalue": "expected argument value expression (3210384145.py, line 2)",
     "output_type": "error",
     "traceback": [
      "  \u001b[36mCell\u001b[39m\u001b[36m \u001b[39m\u001b[32mIn[50]\u001b[39m\u001b[32m, line 2\u001b[39m\n\u001b[31m    \u001b[39m\u001b[31mdf.describe(percentiles=)\u001b[39m\n                ^\n\u001b[31mSyntaxError\u001b[39m\u001b[31m:\u001b[39m expected argument value expression\n"
     ]
    }
   ],
   "source": [
    "percentiles = ...\n",
    "df.describe(percentiles=)"
   ]
  },
  {
   "cell_type": "markdown",
   "id": "da3dba6c",
   "metadata": {},
   "source": [
    "## Basic Data Visualization\n",
    "\n",
    "After summarizing the dataset using statistics, the next step is to visualize the data. Visualization helps us spot patterns, trends, and anomalies that are hard to detect in raw numbers alone.\n",
    "\n",
    "These visual tools make data intuitive and accessible, even for those without strong statistical backgrounds.\n",
    "\n"
   ]
  },
  {
   "cell_type": "markdown",
   "id": "bc8d8eb3",
   "metadata": {},
   "source": [
    "1. Histogram + KDE\n",
    "\n",
    "Purpose: Shows how a numerical variable is distributed (e.g., Age).\n",
    "\n",
    "- A histogram shows how often values appear in a numeric column by splitting them into intervals (“bins”).\n",
    "\n",
    "- A KDE curve (Kernel Density Estimation) is a smooth line that represents the probability distribution of the data.\n",
    "\n",
    "Use case:\n",
    "\n",
    "- Analyze the distribution of Age, Fare, or any continuous variable."
   ]
  },
  {
   "cell_type": "code",
   "execution_count": 4,
   "id": "ee827da3",
   "metadata": {},
   "outputs": [
    {
     "ename": "NameError",
     "evalue": "name 'df' is not defined",
     "output_type": "error",
     "traceback": [
      "\u001b[31m---------------------------------------------------------------------------\u001b[39m",
      "\u001b[31mNameError\u001b[39m                                 Traceback (most recent call last)",
      "\u001b[36mCell\u001b[39m\u001b[36m \u001b[39m\u001b[32mIn[4]\u001b[39m\u001b[32m, line 7\u001b[39m\n\u001b[32m      3\u001b[39m \u001b[38;5;66;03m# Set a general style for plots\u001b[39;00m\n\u001b[32m      4\u001b[39m \u001b[38;5;66;03m#plt.style.use('seaborn-whitegrid')\u001b[39;00m\n\u001b[32m      6\u001b[39m plt.figure(figsize=(\u001b[32m8\u001b[39m, \u001b[32m5\u001b[39m))\n\u001b[32m----> \u001b[39m\u001b[32m7\u001b[39m plt.hist(\u001b[43mdf\u001b[49m[\u001b[33m'\u001b[39m\u001b[33mAge\u001b[39m\u001b[33m'\u001b[39m].dropna(), bins=\u001b[32m30\u001b[39m, color=\u001b[33m'\u001b[39m\u001b[33mskyblue\u001b[39m\u001b[33m'\u001b[39m, edgecolor=\u001b[33m'\u001b[39m\u001b[33mblack\u001b[39m\u001b[33m'\u001b[39m, density=\u001b[38;5;28;01mTrue\u001b[39;00m, alpha=\u001b[32m0.6\u001b[39m, label=\u001b[33m'\u001b[39m\u001b[33mHistogram\u001b[39m\u001b[33m'\u001b[39m)\n\u001b[32m     10\u001b[39m \u001b[38;5;28;01mfrom\u001b[39;00m\u001b[38;5;250m \u001b[39m\u001b[34;01mscipy\u001b[39;00m\u001b[34;01m.\u001b[39;00m\u001b[34;01mstats\u001b[39;00m\u001b[38;5;250m \u001b[39m\u001b[38;5;28;01mimport\u001b[39;00m gaussian_kde\n\u001b[32m     11\u001b[39m \u001b[38;5;66;03m# gaussian_kde: A class for performing kernel density estimation.\u001b[39;00m\n\u001b[32m     12\u001b[39m \u001b[38;5;66;03m# It is a non-parametric way to estimate the probability density function of a random variable.\u001b[39;00m\n\u001b[32m     13\u001b[39m \u001b[38;5;66;03m# It is a useful tool for visualizing the distribution of data points in a dataset.\u001b[39;00m\n",
      "\u001b[31mNameError\u001b[39m: name 'df' is not defined"
     ]
    },
    {
     "data": {
      "text/plain": [
       "<Figure size 800x500 with 0 Axes>"
      ]
     },
     "metadata": {},
     "output_type": "display_data"
    }
   ],
   "source": [
    "import matplotlib.pyplot as plt\n",
    "\n",
    "# Set a general style for plots\n",
    "#plt.style.use('seaborn-whitegrid')\n",
    "\n",
    "plt.figure(figsize=(8, 5))\n",
    "plt.hist(df['Age'].dropna(), bins=30, color='skyblue', edgecolor='black', density=True, alpha=0.6, label='Histogram')\n",
    "\n",
    "\n",
    "from scipy.stats import gaussian_kde\n",
    "# gaussian_kde: A class for performing kernel density estimation.\n",
    "# It is a non-parametric way to estimate the probability density function of a random variable.\n",
    "# It is a useful tool for visualizing the distribution of data points in a dataset.\n",
    "kde = gaussian_kde(df['Age'].dropna())\n",
    "age_range = np.linspace(df['Age'].min(), df['Age'].max(), 100)\n",
    "plt.plot(age_range, kde(age_range), color='red', label='KDE')\n",
    "\n",
    "\n",
    "plt.title('Distribution of Age with KDE')\n",
    "plt.xlabel('Age')\n",
    "plt.ylabel('Density')\n",
    "plt.legend()\n",
    "plt.tight_layout()\n",
    "plt.show()\n"
   ]
  },
  {
   "cell_type": "markdown",
   "id": "9ca955e1",
   "metadata": {},
   "source": [
    "2. Boxplot\n",
    "\n",
    "Purpose: Great for comparing numeric distributions across categories and spotting outliers.\n",
    "\n",
    "- A boxplot (or whisker plot) summarizes a numeric variable using five key numbers:\n",
    "\n",
    "  Minimum - 1st quartile (Q1) - Median (Q2) - 3rd quartile (Q3) - Maximum\n",
    "\n",
    "It also shows outliers (points outside 1.5×IQR).\n",
    "\n",
    "Use case:\n",
    "\n",
    "- Compare Age by Survived, Fare by Pclass, etc."
   ]
  },
  {
   "cell_type": "code",
   "execution_count": null,
   "id": "5c605b8c",
   "metadata": {},
   "outputs": [
    {
     "name": "stderr",
     "output_type": "stream",
     "text": [
      "C:\\Users\\PC1\\AppData\\Local\\Temp\\ipykernel_117684\\3667786941.py:4: MatplotlibDeprecationWarning: The 'labels' parameter of boxplot() has been renamed 'tick_labels' since Matplotlib 3.9; support for the old name will be dropped in 3.11.\n",
      "  plt.boxplot([survived_0, survived_1], labels=['Not Survived (0)', 'Survived (1)'], patch_artist=True,\n"
     ]
    },
    {
     "data": {
      "image/png": "[encoded data removed]",
      "text/plain": [
       "<Figure size 800x500 with 1 Axes>"
      ]
     },
     "metadata": {},
     "output_type": "display_data"
    }
   ],
   "source": [
    "plt.figure(figsize=(8, 5))\n",
    "survived_0 = df[df['Survived'] == 0]['Age'].dropna()\n",
    "survived_1 = df[df['Survived'] == 1]['Age'].dropna()\n",
    "plt.boxplot([survived_0, survived_1], labels=['Not Survived (0)', 'Survived (1)'], patch_artist=True,\n",
    "            boxprops=dict(facecolor='lightblue'), medianprops=dict(color='red'))\n",
    "\n",
    "plt.title('Boxplot of Age by Survival')\n",
    "plt.ylabel('Age')\n",
    "plt.tight_layout()\n",
    "plt.show()\n"
   ]
  },
  {
   "cell_type": "markdown",
   "id": "23a6352c",
   "metadata": {},
   "source": [
    "3. Count Plot (Bar Plot for Categories)\n",
    "\n",
    "Purpose: Displays the frequency of each category in a variable (like value_counts, but visual).\n",
    "\n",
    "Use case:\n",
    "\n",
    "- Visualize distributions of:\n",
    "\n",
    "  Sex - Pclass - Embarked - Survived"
   ]
  },
  {
   "cell_type": "code",
   "execution_count": null,
   "id": "69ca462b",
   "metadata": {},
   "outputs": [
    {
     "data": {
      "image/png": "[encoded data removed]",
      "text/plain": [
       "<Figure size 600x400 with 1 Axes>"
      ]
     },
     "metadata": {},
     "output_type": "display_data"
    },
    {
     "data": {
      "image/png": "[encoded data removed]",
      "text/plain": [
       "<Figure size 600x400 with 1 Axes>"
      ]
     },
     "metadata": {},
     "output_type": "display_data"
    }
   ],
   "source": [
    "# Count plot for Sex\n",
    "sex_counts = df['Sex'].value_counts()\n",
    "plt.figure(figsize=(6, 4))\n",
    "plt.bar(sex_counts.index, sex_counts.values, color=['lightcoral', 'lightblue'], edgecolor='black')\n",
    "plt.title('Passenger Count by Sex')\n",
    "plt.xlabel('Sex')\n",
    "plt.ylabel('Count')\n",
    "plt.tight_layout()\n",
    "plt.show()\n",
    "\n",
    "# Count plot for Pclass\n",
    "pclass_counts = df['Pclass'].value_counts().sort_index()\n",
    "plt.figure(figsize=(6, 4))\n",
    "plt.bar(pclass_counts.index.astype(str), pclass_counts.values, color='lightgreen', edgecolor='black')\n",
    "plt.title('Passenger Count by Class')\n",
    "plt.xlabel('Passenger Class')\n",
    "plt.ylabel('Count')\n",
    "plt.tight_layout()\n",
    "plt.show()"
   ]
  },
  {
   "cell_type": "markdown",
   "id": "7d7b8d4b",
   "metadata": {},
   "source": [
    "4. Correlation Heatmap\n",
    "\n",
    "Purpose: Helps you find numeric features that are positively or negatively correlated.\n",
    "\n",
    "- Values close to +1 → strong positive correlation\n",
    "\n",
    "- Values close to -1 → strong negative correlation\n",
    "\n",
    "Use case:\n",
    "\n",
    "- See how Age, Fare, Parch, SibSp, and Survived are related."
   ]
  },
  {
   "cell_type": "code",
   "execution_count": null,
   "id": "910a7faa",
   "metadata": {},
   "outputs": [
    {
     "data": {
      "image/png": "[encoded data removed]",
      "text/plain": [
       "<Figure size 1000x600 with 2 Axes>"
      ]
     },
     "metadata": {},
     "output_type": "display_data"
    }
   ],
   "source": [
    "corr = df.select_dtypes(include=[np.number]).corr()\n",
    "\n",
    "fig, ax = plt.subplots(figsize=(10, 6))\n",
    "cax = ax.matshow(corr, cmap='coolwarm')\n",
    "fig.colorbar(cax)\n",
    "\n",
    "# Set axis ticks\n",
    "ax.set_xticks(range(len(corr.columns)))\n",
    "ax.set_yticks(range(len(corr.columns)))\n",
    "ax.set_xticklabels(corr.columns, rotation=45, ha='left')\n",
    "ax.set_yticklabels(corr.columns)\n",
    "\n",
    "plt.title('Correlation Heatmap of Numeric Features', pad=20)\n",
    "plt.tight_layout()\n",
    "plt.show()"
   ]
  },
  {
   "cell_type": "markdown",
   "id": "3532d9c4",
   "metadata": {},
   "source": [
    "**Exercises**\n",
    "\n",
    "Compare 3 different columns and their relation between them"
   ]
  },
  {
   "cell_type": "code",
   "execution_count": 5,
   "id": "33251565",
   "metadata": {},
   "outputs": [
    {
     "data": {
      "image/png": "[encoded data removed]",
      "text/plain": [
       "<Figure size 600x400 with 2 Axes>"
      ]
     },
     "metadata": {},
     "output_type": "display_data"
    }
   ],
   "source": [
    "selected_cols = df[['Age', 'Survived', 'Pclass']]\n",
    "\n",
    "# Compute correlation matrix\n",
    "corr_selected = selected_cols.corr()\n",
    "\n",
    "# Plot the correlation heatmap\n",
    "fig, ax = plt.subplots(figsize=(6, 4))\n",
    "cax = ax.matshow(corr_selected, cmap='coolwarm')\n",
    "fig.colorbar(cax)\n",
    "\n",
    "# Set axis ticks and labels\n",
    "ax.set_xticks(range(len(corr_selected.columns)))\n",
    "ax.set_yticks(range(len(corr_selected.columns)))\n",
    "ax.set_xticklabels(corr_selected.columns, rotation=45, ha='left')\n",
    "ax.set_yticklabels(corr_selected.columns)\n",
    "\n",
    "plt.title('Correlation: Age, Survived & Pclass', pad=20)\n",
    "plt.tight_layout()\n",
    "plt.show()"
   ]
  },
  {
   "cell_type": "markdown",
   "id": "0224a37f",
   "metadata": {},
   "source": [
    "## Exploring Feature Relationships\n",
    "\n",
    "Before performing any advanced analysis or modeling, it is essential to explore and understand the underlying structure of the dataset. One fundamental tool for this process is the <code>groupby</code> function in the pandas library, which allows for the aggregation and summarization of data based on one or more categorical features. By grouping data, we can uncover patterns, compare subsets, and derive meaningful insights that would otherwise remain hidden in raw tables. The following exercises are designed to develop familiarity with <code>groupby</code> operations and demonstrate how systematic data exploration leads to a deeper understanding of trends, distributions, and relationships within the data."
   ]
  },
  {
   "cell_type": "markdown",
   "id": "0c68fa63",
   "metadata": {},
   "source": [
    "### Grouped statistics\n",
    "\n",
    "Pandas <code>[DataFrame.groupby()](https://pandas.pydata.org/pandas-docs/stable/reference/api/pandas.DataFrame.groupby.html)</code> function is a powerful tool used to split a DataFrame into groups based on one or more columns, allowing for efficient data analysis and aggregation. It follows a “split-apply-combine” strategy, where data is divided into groups, a function is applied to each group, and the results are combined into a new DataFrame.\n",
    "\n",
    "The groupby() function in Pandas involves three main steps: Splitting, Applying, and Combining.\n",
    "\n",
    "- Splitting: This step involves dividing the DataFrame into groups based on some criteria. The groups are defined by unique values in one or more columns.\n",
    "\n",
    "- Applying: In this step, a function is applied to each group independently. You can apply various functions to each group, such as:\n",
    "    - Aggregation: Calculate summary statistics (e.g., sum, mean, count) for each group.\n",
    "    - Transformation: Modify the values within each group.\n",
    "    - Filtering: Keep or discard groups based on certain conditions.\n",
    "\n",
    "- Combining: Finally, the results of the applied function are combined into a new DataFrame or Series.\n",
    "\n",
    "[Pandas DataFrame.groupby() Method - geeksforgeeks](https://www.geeksforgeeks.org/python-pandas-dataframe-groupby/)\n",
    "\n",
    "The abstract definition of grouping is to provide a mapping of labels to group names.\n",
    "For **DataFrame objects**, a string indicating either a column name or an index level name to be used to group."
   ]
  },
  {
   "cell_type": "markdown",
   "id": "72e15534",
   "metadata": {},
   "source": [
    "#### Grouping by single columns\n",
    "In this example, we will demonstrate how to group data by a single column using the groupby method. We will group by our categorical features, and explore how their relationship with the target feature"
   ]
  },
  {
   "cell_type": "code",
   "execution_count": null,
   "id": "89539e8c",
   "metadata": {},
   "outputs": [
    {
     "data": {
      "text/plain": [
       "Sex\n",
       "female    0.742038\n",
       "male      0.188908\n",
       "Name: Survived, dtype: float64"
      ]
     },
     "execution_count": 62,
     "metadata": {},
     "output_type": "execute_result"
    }
   ],
   "source": [
    "# Calculate the average survival rate for each sex (female/male)\n",
    "grouped = df.groupby(by=\"Sex\")\n",
    "grouped[\"Survived\"].mean()"
   ]
  },
  {
   "cell_type": "markdown",
   "id": "ce8986a1",
   "metadata": {},
   "source": [
    "This tells us that \n",
    "- 74% of women passengers survived\n",
    "- 18% of men passengers survived\n",
    "  \n",
    "thus we could infer that women were more likely to survive"
   ]
  },
  {
   "cell_type": "code",
   "execution_count": null,
   "id": "1d982743",
   "metadata": {},
   "outputs": [
    {
     "data": {
      "text/plain": [
       "Pclass\n",
       "1    0.629630\n",
       "2    0.472826\n",
       "3    0.242363\n",
       "Name: Survived, dtype: float64"
      ]
     },
     "execution_count": 63,
     "metadata": {},
     "output_type": "execute_result"
    }
   ],
   "source": [
    "# Calculate the average survival rate for each passenger ticket class (1st, 2nd, 3rd)\n",
    "df.groupby(by=\"Pclass\")[\"Survived\"].mean()"
   ]
  },
  {
   "cell_type": "markdown",
   "id": "1838a121",
   "metadata": {},
   "source": [
    "This tells us that\n",
    "- 62% of passengers in Upper class survived\n",
    "- 47% of passengers in Middle class survived\n",
    "- 24% of passengers in Lower class survived\n",
    "\n",
    "![Titanic cabin assignments through class](img\\titanic-figure-one-side-view.png)\n",
    "\n",
    "[Titanic cabin placement](https://www.encyclopedia-titanica.org/class-gender-titanic-disaster-1912~chapter-2~part-2.html)\n",
    "\n",
    "​The Titanic disaster highlighted the influence of social class on survival rates. Several factors contributed to this disparity. The ship's design placed first-class accommodations closer to the lifeboats, facilitating quicker access during the evacuation. Additionally, third-class passengers faced physical barriers and lacked clear guidance, which hindered their ability to reach lifeboats in time. These structural and procedural disadvantages underscore how deeply social hierarchies impacted survival outcomes during the tragedy.​"
   ]
  },
  {
   "cell_type": "markdown",
   "id": "0dc76e6d",
   "metadata": {},
   "source": [
    "As demonstrated, it is essential to explore data in depth alongside its context, as this approach can uncover meaningful insights into model performance during inference. Understanding the background not only helps interpret results more accurately, but also sheds light on potential biases and patterns that might otherwise go unnoticed. This is particularly crucial when working with historical or real-world datasets, where external factors can significantly influence outcomes."
   ]
  },
  {
   "cell_type": "markdown",
   "id": "d484889b",
   "metadata": {},
   "source": [
    "**Exercises**\n",
    "\n",
    "Explore the relation between the **port of embarkation** (Embarked) and the survival rate."
   ]
  },
  {
   "cell_type": "code",
   "execution_count": null,
   "id": "e5bb3920",
   "metadata": {},
   "outputs": [],
   "source": [
    "# TODO: df.groupby()[]. ..."
   ]
  },
  {
   "cell_type": "markdown",
   "id": "001d4a8d",
   "metadata": {},
   "source": [
    "If we prefer, we can create a plot for better visualizing our results using matplotlib bar plot"
   ]
  },
  {
   "cell_type": "code",
   "execution_count": null,
   "id": "a51a522e",
   "metadata": {},
   "outputs": [
    {
     "data": {
      "image/png": "[encoded data removed]",
      "text/plain": [
       "<Figure size 640x480 with 1 Axes>"
      ]
     },
     "metadata": {},
     "output_type": "display_data"
    }
   ],
   "source": [
    "# Group and calculate survival rates\n",
    "survival_by_sex = df.groupby(\"Sex\")[\"Survived\"].mean()\n",
    "\n",
    "# Extract the index and relative values from our grouped data\n",
    "sex = survival_by_sex.index\n",
    "rates = survival_by_sex.values\n",
    "\n",
    "plt.bar(x=sex, height=rates)\n",
    "\n",
    "# Add values on top of bars\n",
    "for i, rate in enumerate(rates):\n",
    "    plt.text(x=i, y=rate, s=f'{rate:.2f}', ha='center', va='bottom', fontsize=10)\n",
    "\n",
    "plt.ylim(0, 1)\n",
    "plt.title('Survival Rate by Sex')\n",
    "plt.ylabel('Survival Rate')\n",
    "plt.show()"
   ]
  },
  {
   "cell_type": "markdown",
   "id": "eade8108",
   "metadata": {},
   "source": [
    "**Exercise**\n",
    "\n",
    "Create the plotbar for the average survival rate for each passenger ticket class"
   ]
  },
  {
   "cell_type": "code",
   "execution_count": null,
   "id": "fa8a81fc",
   "metadata": {},
   "outputs": [],
   "source": [
    "# TODO: "
   ]
  },
  {
   "cell_type": "markdown",
   "id": "3600768d",
   "metadata": {},
   "source": [
    "## Handling Missing Values\n",
    "\n",
    "It is not uncommon in real-world applications for our samples to be missing one or more values for various reasons. There could have been an error in the data collection process, certain measurements are not applicable, or particular fields could have been simply left blank in a survey, for example. We typically see missing values as the blank spaces in our data table or as placeholder strings such as NaN, which stands for not a number, or NULL (a commonly used indicator of unknown values in relational databases).\n",
    "\n",
    "Unfortunately, most computational tools are unable to handle such missing values, or produce unpredictable results if we simply ignore them. Therefore, it is crucial that we take care of those missing values before we proceed with further analyses. In this section, we will work through several practical techniques for dealing with missing values by removing entries from our dataset or imputing missing values from other samples and features.\n",
    "\n",
    "(the material of this section is a reference to *Raschka, S., & Mirjalili, V. (2019). Python machine learning: Machine learning and deep learning with Python, scikit-learn, and TensorFlow 2 (3rd ed.). Packt Publishing.*)\n"
   ]
  },
  {
   "cell_type": "markdown",
   "id": "a5ec1dba",
   "metadata": {},
   "source": [
    "### Eliminating samples or features with missing values\n",
    "\n",
    "One of the easiest ways to deal with missing data is to simply remove the corresponding features (columns) or samples (rows) from the dataset entirely; rows with missing values can be easily dropped via the dropna method:"
   ]
  },
  {
   "cell_type": "code",
   "execution_count": null,
   "id": "daa295ab",
   "metadata": {},
   "outputs": [
    {
     "name": "stdout",
     "output_type": "stream",
     "text": [
      "Data set shape before dropping rows with missing values: (891, 12)\n",
      "Data shape after dropping rows with missing values: (183, 12)\n"
     ]
    }
   ],
   "source": [
    "print(\"Data set shape before dropping rows with missing values:\", df.shape)\n",
    "temp = df.dropna(axis=0)\n",
    "print(\"Data shape after dropping rows with missing values:\", temp.shape)"
   ]
  },
  {
   "cell_type": "markdown",
   "id": "72188fc4",
   "metadata": {},
   "source": [
    "Similarly, we can drop columns that have at least one <code>NaN</code> in any row by setting the <code>axis</code> argument to 1:"
   ]
  },
  {
   "cell_type": "code",
   "execution_count": null,
   "id": "a5915326",
   "metadata": {},
   "outputs": [
    {
     "name": "stdout",
     "output_type": "stream",
     "text": [
      "Data set shape before dropping columns with missing values: (891, 12)\n",
      "Data shape after dropping columns with missing values: (891, 9)\n"
     ]
    }
   ],
   "source": [
    "print(\"Data set shape before dropping columns with missing values:\", df.shape)\n",
    "temp = df.dropna(axis=1)\n",
    "print(\"Data shape after dropping columns with missing values:\", temp.shape)"
   ]
  },
  {
   "cell_type": "markdown",
   "id": "f587b126",
   "metadata": {},
   "source": [
    "The dropna method supports several additional parameters that can come in handy:"
   ]
  },
  {
   "cell_type": "code",
   "execution_count": null,
   "id": "7610d62c",
   "metadata": {},
   "outputs": [
    {
     "data": {
      "text/html": [
       "<div>\n",
       "<style scoped>\n",
       "    .dataframe tbody tr th:only-of-type {\n",
       "        vertical-align: middle;\n",
       "    }\n",
       "\n",
       "    .dataframe tbody tr th {\n",
       "        vertical-align: top;\n",
       "    }\n",
       "\n",
       "    .dataframe thead th {\n",
       "        text-align: right;\n",
       "    }\n",
       "</style>\n",
       "<table border=\"1\" class=\"dataframe\">\n",
       "  <thead>\n",
       "    <tr style=\"text-align: right;\">\n",
       "      <th></th>\n",
       "      <th>PassengerId</th>\n",
       "      <th>Survived</th>\n",
       "      <th>Pclass</th>\n",
       "      <th>Name</th>\n",
       "      <th>Sex</th>\n",
       "      <th>Age</th>\n",
       "      <th>SibSp</th>\n",
       "      <th>Parch</th>\n",
       "      <th>Ticket</th>\n",
       "      <th>Fare</th>\n",
       "      <th>Cabin</th>\n",
       "      <th>Embarked</th>\n",
       "    </tr>\n",
       "  </thead>\n",
       "  <tbody>\n",
       "    <tr>\n",
       "      <th>0</th>\n",
       "      <td>1</td>\n",
       "      <td>0</td>\n",
       "      <td>3</td>\n",
       "      <td>Braund, Mr. Owen Harris</td>\n",
       "      <td>male</td>\n",
       "      <td>22.0</td>\n",
       "      <td>1</td>\n",
       "      <td>0</td>\n",
       "      <td>A/5 21171</td>\n",
       "      <td>7.2500</td>\n",
       "      <td>NaN</td>\n",
       "      <td>S</td>\n",
       "    </tr>\n",
       "    <tr>\n",
       "      <th>1</th>\n",
       "      <td>2</td>\n",
       "      <td>1</td>\n",
       "      <td>1</td>\n",
       "      <td>Cumings, Mrs. John Bradley (Florence Briggs Th...</td>\n",
       "      <td>female</td>\n",
       "      <td>38.0</td>\n",
       "      <td>1</td>\n",
       "      <td>0</td>\n",
       "      <td>PC 17599</td>\n",
       "      <td>71.2833</td>\n",
       "      <td>C85</td>\n",
       "      <td>C</td>\n",
       "    </tr>\n",
       "    <tr>\n",
       "      <th>2</th>\n",
       "      <td>3</td>\n",
       "      <td>1</td>\n",
       "      <td>3</td>\n",
       "      <td>Heikkinen, Miss. Laina</td>\n",
       "      <td>female</td>\n",
       "      <td>26.0</td>\n",
       "      <td>0</td>\n",
       "      <td>0</td>\n",
       "      <td>STON/O2. 3101282</td>\n",
       "      <td>7.9250</td>\n",
       "      <td>NaN</td>\n",
       "      <td>S</td>\n",
       "    </tr>\n",
       "    <tr>\n",
       "      <th>3</th>\n",
       "      <td>4</td>\n",
       "      <td>1</td>\n",
       "      <td>1</td>\n",
       "      <td>Futrelle, Mrs. Jacques Heath (Lily May Peel)</td>\n",
       "      <td>female</td>\n",
       "      <td>35.0</td>\n",
       "      <td>1</td>\n",
       "      <td>0</td>\n",
       "      <td>113803</td>\n",
       "      <td>53.1000</td>\n",
       "      <td>C123</td>\n",
       "      <td>S</td>\n",
       "    </tr>\n",
       "    <tr>\n",
       "      <th>4</th>\n",
       "      <td>5</td>\n",
       "      <td>0</td>\n",
       "      <td>3</td>\n",
       "      <td>Allen, Mr. William Henry</td>\n",
       "      <td>male</td>\n",
       "      <td>35.0</td>\n",
       "      <td>0</td>\n",
       "      <td>0</td>\n",
       "      <td>373450</td>\n",
       "      <td>8.0500</td>\n",
       "      <td>NaN</td>\n",
       "      <td>S</td>\n",
       "    </tr>\n",
       "    <tr>\n",
       "      <th>...</th>\n",
       "      <td>...</td>\n",
       "      <td>...</td>\n",
       "      <td>...</td>\n",
       "      <td>...</td>\n",
       "      <td>...</td>\n",
       "      <td>...</td>\n",
       "      <td>...</td>\n",
       "      <td>...</td>\n",
       "      <td>...</td>\n",
       "      <td>...</td>\n",
       "      <td>...</td>\n",
       "      <td>...</td>\n",
       "    </tr>\n",
       "    <tr>\n",
       "      <th>886</th>\n",
       "      <td>887</td>\n",
       "      <td>0</td>\n",
       "      <td>2</td>\n",
       "      <td>Montvila, Rev. Juozas</td>\n",
       "      <td>male</td>\n",
       "      <td>27.0</td>\n",
       "      <td>0</td>\n",
       "      <td>0</td>\n",
       "      <td>211536</td>\n",
       "      <td>13.0000</td>\n",
       "      <td>NaN</td>\n",
       "      <td>S</td>\n",
       "    </tr>\n",
       "    <tr>\n",
       "      <th>887</th>\n",
       "      <td>888</td>\n",
       "      <td>1</td>\n",
       "      <td>1</td>\n",
       "      <td>Graham, Miss. Margaret Edith</td>\n",
       "      <td>female</td>\n",
       "      <td>19.0</td>\n",
       "      <td>0</td>\n",
       "      <td>0</td>\n",
       "      <td>112053</td>\n",
       "      <td>30.0000</td>\n",
       "      <td>B42</td>\n",
       "      <td>S</td>\n",
       "    </tr>\n",
       "    <tr>\n",
       "      <th>888</th>\n",
       "      <td>889</td>\n",
       "      <td>0</td>\n",
       "      <td>3</td>\n",
       "      <td>Johnston, Miss. Catherine Helen \"Carrie\"</td>\n",
       "      <td>female</td>\n",
       "      <td>NaN</td>\n",
       "      <td>1</td>\n",
       "      <td>2</td>\n",
       "      <td>W./C. 6607</td>\n",
       "      <td>23.4500</td>\n",
       "      <td>NaN</td>\n",
       "      <td>S</td>\n",
       "    </tr>\n",
       "    <tr>\n",
       "      <th>889</th>\n",
       "      <td>890</td>\n",
       "      <td>1</td>\n",
       "      <td>1</td>\n",
       "      <td>Behr, Mr. Karl Howell</td>\n",
       "      <td>male</td>\n",
       "      <td>26.0</td>\n",
       "      <td>0</td>\n",
       "      <td>0</td>\n",
       "      <td>111369</td>\n",
       "      <td>30.0000</td>\n",
       "      <td>C148</td>\n",
       "      <td>C</td>\n",
       "    </tr>\n",
       "    <tr>\n",
       "      <th>890</th>\n",
       "      <td>891</td>\n",
       "      <td>0</td>\n",
       "      <td>3</td>\n",
       "      <td>Dooley, Mr. Patrick</td>\n",
       "      <td>male</td>\n",
       "      <td>32.0</td>\n",
       "      <td>0</td>\n",
       "      <td>0</td>\n",
       "      <td>370376</td>\n",
       "      <td>7.7500</td>\n",
       "      <td>NaN</td>\n",
       "      <td>Q</td>\n",
       "    </tr>\n",
       "  </tbody>\n",
       "</table>\n",
       "<p>891 rows × 12 columns</p>\n",
       "</div>"
      ],
      "text/plain": [
       "     PassengerId  Survived  Pclass  \\\n",
       "0              1         0       3   \n",
       "1              2         1       1   \n",
       "2              3         1       3   \n",
       "3              4         1       1   \n",
       "4              5         0       3   \n",
       "..           ...       ...     ...   \n",
       "886          887         0       2   \n",
       "887          888         1       1   \n",
       "888          889         0       3   \n",
       "889          890         1       1   \n",
       "890          891         0       3   \n",
       "\n",
       "                                                  Name     Sex   Age  SibSp  \\\n",
       "0                              Braund, Mr. Owen Harris    male  22.0      1   \n",
       "1    Cumings, Mrs. John Bradley (Florence Briggs Th...  female  38.0      1   \n",
       "2                               Heikkinen, Miss. Laina  female  26.0      0   \n",
       "3         Futrelle, Mrs. Jacques Heath (Lily May Peel)  female  35.0      1   \n",
       "4                             Allen, Mr. William Henry    male  35.0      0   \n",
       "..                                                 ...     ...   ...    ...   \n",
       "886                              Montvila, Rev. Juozas    male  27.0      0   \n",
       "887                       Graham, Miss. Margaret Edith  female  19.0      0   \n",
       "888           Johnston, Miss. Catherine Helen \"Carrie\"  female   NaN      1   \n",
       "889                              Behr, Mr. Karl Howell    male  26.0      0   \n",
       "890                                Dooley, Mr. Patrick    male  32.0      0   \n",
       "\n",
       "     Parch            Ticket     Fare Cabin Embarked  \n",
       "0        0         A/5 21171   7.2500   NaN        S  \n",
       "1        0          PC 17599  71.2833   C85        C  \n",
       "2        0  STON/O2. 3101282   7.9250   NaN        S  \n",
       "3        0            113803  53.1000  C123        S  \n",
       "4        0            373450   8.0500   NaN        S  \n",
       "..     ...               ...      ...   ...      ...  \n",
       "886      0            211536  13.0000   NaN        S  \n",
       "887      0            112053  30.0000   B42        S  \n",
       "888      2        W./C. 6607  23.4500   NaN        S  \n",
       "889      0            111369  30.0000  C148        C  \n",
       "890      0            370376   7.7500   NaN        Q  \n",
       "\n",
       "[891 rows x 12 columns]"
      ]
     },
     "execution_count": 86,
     "metadata": {},
     "output_type": "execute_result"
    }
   ],
   "source": [
    "# only drop rows where all columns are NaN\n",
    "df.dropna(how=\"all\")"
   ]
  },
  {
   "cell_type": "code",
   "execution_count": null,
   "id": "f4e7a192",
   "metadata": {},
   "outputs": [
    {
     "data": {
      "text/html": [
       "<div>\n",
       "<style scoped>\n",
       "    .dataframe tbody tr th:only-of-type {\n",
       "        vertical-align: middle;\n",
       "    }\n",
       "\n",
       "    .dataframe tbody tr th {\n",
       "        vertical-align: top;\n",
       "    }\n",
       "\n",
       "    .dataframe thead th {\n",
       "        text-align: right;\n",
       "    }\n",
       "</style>\n",
       "<table border=\"1\" class=\"dataframe\">\n",
       "  <thead>\n",
       "    <tr style=\"text-align: right;\">\n",
       "      <th></th>\n",
       "      <th>PassengerId</th>\n",
       "      <th>Survived</th>\n",
       "      <th>Pclass</th>\n",
       "      <th>Name</th>\n",
       "      <th>Sex</th>\n",
       "      <th>Age</th>\n",
       "      <th>SibSp</th>\n",
       "      <th>Parch</th>\n",
       "      <th>Ticket</th>\n",
       "      <th>Fare</th>\n",
       "      <th>Cabin</th>\n",
       "      <th>Embarked</th>\n",
       "    </tr>\n",
       "  </thead>\n",
       "  <tbody>\n",
       "    <tr>\n",
       "      <th>0</th>\n",
       "      <td>1</td>\n",
       "      <td>0</td>\n",
       "      <td>3</td>\n",
       "      <td>Braund, Mr. Owen Harris</td>\n",
       "      <td>male</td>\n",
       "      <td>22.0</td>\n",
       "      <td>1</td>\n",
       "      <td>0</td>\n",
       "      <td>A/5 21171</td>\n",
       "      <td>7.2500</td>\n",
       "      <td>NaN</td>\n",
       "      <td>S</td>\n",
       "    </tr>\n",
       "    <tr>\n",
       "      <th>1</th>\n",
       "      <td>2</td>\n",
       "      <td>1</td>\n",
       "      <td>1</td>\n",
       "      <td>Cumings, Mrs. John Bradley (Florence Briggs Th...</td>\n",
       "      <td>female</td>\n",
       "      <td>38.0</td>\n",
       "      <td>1</td>\n",
       "      <td>0</td>\n",
       "      <td>PC 17599</td>\n",
       "      <td>71.2833</td>\n",
       "      <td>C85</td>\n",
       "      <td>C</td>\n",
       "    </tr>\n",
       "    <tr>\n",
       "      <th>2</th>\n",
       "      <td>3</td>\n",
       "      <td>1</td>\n",
       "      <td>3</td>\n",
       "      <td>Heikkinen, Miss. Laina</td>\n",
       "      <td>female</td>\n",
       "      <td>26.0</td>\n",
       "      <td>0</td>\n",
       "      <td>0</td>\n",
       "      <td>STON/O2. 3101282</td>\n",
       "      <td>7.9250</td>\n",
       "      <td>NaN</td>\n",
       "      <td>S</td>\n",
       "    </tr>\n",
       "    <tr>\n",
       "      <th>3</th>\n",
       "      <td>4</td>\n",
       "      <td>1</td>\n",
       "      <td>1</td>\n",
       "      <td>Futrelle, Mrs. Jacques Heath (Lily May Peel)</td>\n",
       "      <td>female</td>\n",
       "      <td>35.0</td>\n",
       "      <td>1</td>\n",
       "      <td>0</td>\n",
       "      <td>113803</td>\n",
       "      <td>53.1000</td>\n",
       "      <td>C123</td>\n",
       "      <td>S</td>\n",
       "    </tr>\n",
       "    <tr>\n",
       "      <th>4</th>\n",
       "      <td>5</td>\n",
       "      <td>0</td>\n",
       "      <td>3</td>\n",
       "      <td>Allen, Mr. William Henry</td>\n",
       "      <td>male</td>\n",
       "      <td>35.0</td>\n",
       "      <td>0</td>\n",
       "      <td>0</td>\n",
       "      <td>373450</td>\n",
       "      <td>8.0500</td>\n",
       "      <td>NaN</td>\n",
       "      <td>S</td>\n",
       "    </tr>\n",
       "    <tr>\n",
       "      <th>...</th>\n",
       "      <td>...</td>\n",
       "      <td>...</td>\n",
       "      <td>...</td>\n",
       "      <td>...</td>\n",
       "      <td>...</td>\n",
       "      <td>...</td>\n",
       "      <td>...</td>\n",
       "      <td>...</td>\n",
       "      <td>...</td>\n",
       "      <td>...</td>\n",
       "      <td>...</td>\n",
       "      <td>...</td>\n",
       "    </tr>\n",
       "    <tr>\n",
       "      <th>886</th>\n",
       "      <td>887</td>\n",
       "      <td>0</td>\n",
       "      <td>2</td>\n",
       "      <td>Montvila, Rev. Juozas</td>\n",
       "      <td>male</td>\n",
       "      <td>27.0</td>\n",
       "      <td>0</td>\n",
       "      <td>0</td>\n",
       "      <td>211536</td>\n",
       "      <td>13.0000</td>\n",
       "      <td>NaN</td>\n",
       "      <td>S</td>\n",
       "    </tr>\n",
       "    <tr>\n",
       "      <th>887</th>\n",
       "      <td>888</td>\n",
       "      <td>1</td>\n",
       "      <td>1</td>\n",
       "      <td>Graham, Miss. Margaret Edith</td>\n",
       "      <td>female</td>\n",
       "      <td>19.0</td>\n",
       "      <td>0</td>\n",
       "      <td>0</td>\n",
       "      <td>112053</td>\n",
       "      <td>30.0000</td>\n",
       "      <td>B42</td>\n",
       "      <td>S</td>\n",
       "    </tr>\n",
       "    <tr>\n",
       "      <th>888</th>\n",
       "      <td>889</td>\n",
       "      <td>0</td>\n",
       "      <td>3</td>\n",
       "      <td>Johnston, Miss. Catherine Helen \"Carrie\"</td>\n",
       "      <td>female</td>\n",
       "      <td>NaN</td>\n",
       "      <td>1</td>\n",
       "      <td>2</td>\n",
       "      <td>W./C. 6607</td>\n",
       "      <td>23.4500</td>\n",
       "      <td>NaN</td>\n",
       "      <td>S</td>\n",
       "    </tr>\n",
       "    <tr>\n",
       "      <th>889</th>\n",
       "      <td>890</td>\n",
       "      <td>1</td>\n",
       "      <td>1</td>\n",
       "      <td>Behr, Mr. Karl Howell</td>\n",
       "      <td>male</td>\n",
       "      <td>26.0</td>\n",
       "      <td>0</td>\n",
       "      <td>0</td>\n",
       "      <td>111369</td>\n",
       "      <td>30.0000</td>\n",
       "      <td>C148</td>\n",
       "      <td>C</td>\n",
       "    </tr>\n",
       "    <tr>\n",
       "      <th>890</th>\n",
       "      <td>891</td>\n",
       "      <td>0</td>\n",
       "      <td>3</td>\n",
       "      <td>Dooley, Mr. Patrick</td>\n",
       "      <td>male</td>\n",
       "      <td>32.0</td>\n",
       "      <td>0</td>\n",
       "      <td>0</td>\n",
       "      <td>370376</td>\n",
       "      <td>7.7500</td>\n",
       "      <td>NaN</td>\n",
       "      <td>Q</td>\n",
       "    </tr>\n",
       "  </tbody>\n",
       "</table>\n",
       "<p>891 rows × 12 columns</p>\n",
       "</div>"
      ],
      "text/plain": [
       "     PassengerId  Survived  Pclass  \\\n",
       "0              1         0       3   \n",
       "1              2         1       1   \n",
       "2              3         1       3   \n",
       "3              4         1       1   \n",
       "4              5         0       3   \n",
       "..           ...       ...     ...   \n",
       "886          887         0       2   \n",
       "887          888         1       1   \n",
       "888          889         0       3   \n",
       "889          890         1       1   \n",
       "890          891         0       3   \n",
       "\n",
       "                                                  Name     Sex   Age  SibSp  \\\n",
       "0                              Braund, Mr. Owen Harris    male  22.0      1   \n",
       "1    Cumings, Mrs. John Bradley (Florence Briggs Th...  female  38.0      1   \n",
       "2                               Heikkinen, Miss. Laina  female  26.0      0   \n",
       "3         Futrelle, Mrs. Jacques Heath (Lily May Peel)  female  35.0      1   \n",
       "4                             Allen, Mr. William Henry    male  35.0      0   \n",
       "..                                                 ...     ...   ...    ...   \n",
       "886                              Montvila, Rev. Juozas    male  27.0      0   \n",
       "887                       Graham, Miss. Margaret Edith  female  19.0      0   \n",
       "888           Johnston, Miss. Catherine Helen \"Carrie\"  female   NaN      1   \n",
       "889                              Behr, Mr. Karl Howell    male  26.0      0   \n",
       "890                                Dooley, Mr. Patrick    male  32.0      0   \n",
       "\n",
       "     Parch            Ticket     Fare Cabin Embarked  \n",
       "0        0         A/5 21171   7.2500   NaN        S  \n",
       "1        0          PC 17599  71.2833   C85        C  \n",
       "2        0  STON/O2. 3101282   7.9250   NaN        S  \n",
       "3        0            113803  53.1000  C123        S  \n",
       "4        0            373450   8.0500   NaN        S  \n",
       "..     ...               ...      ...   ...      ...  \n",
       "886      0            211536  13.0000   NaN        S  \n",
       "887      0            112053  30.0000   B42        S  \n",
       "888      2        W./C. 6607  23.4500   NaN        S  \n",
       "889      0            111369  30.0000  C148        C  \n",
       "890      0            370376   7.7500   NaN        Q  \n",
       "\n",
       "[891 rows x 12 columns]"
      ]
     },
     "execution_count": 94,
     "metadata": {},
     "output_type": "execute_result"
    }
   ],
   "source": [
    "# drop rows that have less than 4 real values\n",
    "df.dropna(thresh=4)"
   ]
  },
  {
   "cell_type": "code",
   "execution_count": null,
   "id": "e53a6f15",
   "metadata": {},
   "outputs": [
    {
     "data": {
      "text/html": [
       "<div>\n",
       "<style scoped>\n",
       "    .dataframe tbody tr th:only-of-type {\n",
       "        vertical-align: middle;\n",
       "    }\n",
       "\n",
       "    .dataframe tbody tr th {\n",
       "        vertical-align: top;\n",
       "    }\n",
       "\n",
       "    .dataframe thead th {\n",
       "        text-align: right;\n",
       "    }\n",
       "</style>\n",
       "<table border=\"1\" class=\"dataframe\">\n",
       "  <thead>\n",
       "    <tr style=\"text-align: right;\">\n",
       "      <th></th>\n",
       "      <th>PassengerId</th>\n",
       "      <th>Survived</th>\n",
       "      <th>Pclass</th>\n",
       "      <th>Name</th>\n",
       "      <th>Sex</th>\n",
       "      <th>Age</th>\n",
       "      <th>SibSp</th>\n",
       "      <th>Parch</th>\n",
       "      <th>Ticket</th>\n",
       "      <th>Fare</th>\n",
       "      <th>Cabin</th>\n",
       "      <th>Embarked</th>\n",
       "    </tr>\n",
       "  </thead>\n",
       "  <tbody>\n",
       "    <tr>\n",
       "      <th>1</th>\n",
       "      <td>2</td>\n",
       "      <td>1</td>\n",
       "      <td>1</td>\n",
       "      <td>Cumings, Mrs. John Bradley (Florence Briggs Th...</td>\n",
       "      <td>female</td>\n",
       "      <td>38.0</td>\n",
       "      <td>1</td>\n",
       "      <td>0</td>\n",
       "      <td>PC 17599</td>\n",
       "      <td>71.2833</td>\n",
       "      <td>C85</td>\n",
       "      <td>C</td>\n",
       "    </tr>\n",
       "    <tr>\n",
       "      <th>3</th>\n",
       "      <td>4</td>\n",
       "      <td>1</td>\n",
       "      <td>1</td>\n",
       "      <td>Futrelle, Mrs. Jacques Heath (Lily May Peel)</td>\n",
       "      <td>female</td>\n",
       "      <td>35.0</td>\n",
       "      <td>1</td>\n",
       "      <td>0</td>\n",
       "      <td>113803</td>\n",
       "      <td>53.1000</td>\n",
       "      <td>C123</td>\n",
       "      <td>S</td>\n",
       "    </tr>\n",
       "    <tr>\n",
       "      <th>6</th>\n",
       "      <td>7</td>\n",
       "      <td>0</td>\n",
       "      <td>1</td>\n",
       "      <td>McCarthy, Mr. Timothy J</td>\n",
       "      <td>male</td>\n",
       "      <td>54.0</td>\n",
       "      <td>0</td>\n",
       "      <td>0</td>\n",
       "      <td>17463</td>\n",
       "      <td>51.8625</td>\n",
       "      <td>E46</td>\n",
       "      <td>S</td>\n",
       "    </tr>\n",
       "    <tr>\n",
       "      <th>10</th>\n",
       "      <td>11</td>\n",
       "      <td>1</td>\n",
       "      <td>3</td>\n",
       "      <td>Sandstrom, Miss. Marguerite Rut</td>\n",
       "      <td>female</td>\n",
       "      <td>4.0</td>\n",
       "      <td>1</td>\n",
       "      <td>1</td>\n",
       "      <td>PP 9549</td>\n",
       "      <td>16.7000</td>\n",
       "      <td>G6</td>\n",
       "      <td>S</td>\n",
       "    </tr>\n",
       "    <tr>\n",
       "      <th>11</th>\n",
       "      <td>12</td>\n",
       "      <td>1</td>\n",
       "      <td>1</td>\n",
       "      <td>Bonnell, Miss. Elizabeth</td>\n",
       "      <td>female</td>\n",
       "      <td>58.0</td>\n",
       "      <td>0</td>\n",
       "      <td>0</td>\n",
       "      <td>113783</td>\n",
       "      <td>26.5500</td>\n",
       "      <td>C103</td>\n",
       "      <td>S</td>\n",
       "    </tr>\n",
       "    <tr>\n",
       "      <th>...</th>\n",
       "      <td>...</td>\n",
       "      <td>...</td>\n",
       "      <td>...</td>\n",
       "      <td>...</td>\n",
       "      <td>...</td>\n",
       "      <td>...</td>\n",
       "      <td>...</td>\n",
       "      <td>...</td>\n",
       "      <td>...</td>\n",
       "      <td>...</td>\n",
       "      <td>...</td>\n",
       "      <td>...</td>\n",
       "    </tr>\n",
       "    <tr>\n",
       "      <th>871</th>\n",
       "      <td>872</td>\n",
       "      <td>1</td>\n",
       "      <td>1</td>\n",
       "      <td>Beckwith, Mrs. Richard Leonard (Sallie Monypeny)</td>\n",
       "      <td>female</td>\n",
       "      <td>47.0</td>\n",
       "      <td>1</td>\n",
       "      <td>1</td>\n",
       "      <td>11751</td>\n",
       "      <td>52.5542</td>\n",
       "      <td>D35</td>\n",
       "      <td>S</td>\n",
       "    </tr>\n",
       "    <tr>\n",
       "      <th>872</th>\n",
       "      <td>873</td>\n",
       "      <td>0</td>\n",
       "      <td>1</td>\n",
       "      <td>Carlsson, Mr. Frans Olof</td>\n",
       "      <td>male</td>\n",
       "      <td>33.0</td>\n",
       "      <td>0</td>\n",
       "      <td>0</td>\n",
       "      <td>695</td>\n",
       "      <td>5.0000</td>\n",
       "      <td>B51 B53 B55</td>\n",
       "      <td>S</td>\n",
       "    </tr>\n",
       "    <tr>\n",
       "      <th>879</th>\n",
       "      <td>880</td>\n",
       "      <td>1</td>\n",
       "      <td>1</td>\n",
       "      <td>Potter, Mrs. Thomas Jr (Lily Alexenia Wilson)</td>\n",
       "      <td>female</td>\n",
       "      <td>56.0</td>\n",
       "      <td>0</td>\n",
       "      <td>1</td>\n",
       "      <td>11767</td>\n",
       "      <td>83.1583</td>\n",
       "      <td>C50</td>\n",
       "      <td>C</td>\n",
       "    </tr>\n",
       "    <tr>\n",
       "      <th>887</th>\n",
       "      <td>888</td>\n",
       "      <td>1</td>\n",
       "      <td>1</td>\n",
       "      <td>Graham, Miss. Margaret Edith</td>\n",
       "      <td>female</td>\n",
       "      <td>19.0</td>\n",
       "      <td>0</td>\n",
       "      <td>0</td>\n",
       "      <td>112053</td>\n",
       "      <td>30.0000</td>\n",
       "      <td>B42</td>\n",
       "      <td>S</td>\n",
       "    </tr>\n",
       "    <tr>\n",
       "      <th>889</th>\n",
       "      <td>890</td>\n",
       "      <td>1</td>\n",
       "      <td>1</td>\n",
       "      <td>Behr, Mr. Karl Howell</td>\n",
       "      <td>male</td>\n",
       "      <td>26.0</td>\n",
       "      <td>0</td>\n",
       "      <td>0</td>\n",
       "      <td>111369</td>\n",
       "      <td>30.0000</td>\n",
       "      <td>C148</td>\n",
       "      <td>C</td>\n",
       "    </tr>\n",
       "  </tbody>\n",
       "</table>\n",
       "<p>204 rows × 12 columns</p>\n",
       "</div>"
      ],
      "text/plain": [
       "     PassengerId  Survived  Pclass  \\\n",
       "1              2         1       1   \n",
       "3              4         1       1   \n",
       "6              7         0       1   \n",
       "10            11         1       3   \n",
       "11            12         1       1   \n",
       "..           ...       ...     ...   \n",
       "871          872         1       1   \n",
       "872          873         0       1   \n",
       "879          880         1       1   \n",
       "887          888         1       1   \n",
       "889          890         1       1   \n",
       "\n",
       "                                                  Name     Sex   Age  SibSp  \\\n",
       "1    Cumings, Mrs. John Bradley (Florence Briggs Th...  female  38.0      1   \n",
       "3         Futrelle, Mrs. Jacques Heath (Lily May Peel)  female  35.0      1   \n",
       "6                              McCarthy, Mr. Timothy J    male  54.0      0   \n",
       "10                     Sandstrom, Miss. Marguerite Rut  female   4.0      1   \n",
       "11                            Bonnell, Miss. Elizabeth  female  58.0      0   \n",
       "..                                                 ...     ...   ...    ...   \n",
       "871   Beckwith, Mrs. Richard Leonard (Sallie Monypeny)  female  47.0      1   \n",
       "872                           Carlsson, Mr. Frans Olof    male  33.0      0   \n",
       "879      Potter, Mrs. Thomas Jr (Lily Alexenia Wilson)  female  56.0      0   \n",
       "887                       Graham, Miss. Margaret Edith  female  19.0      0   \n",
       "889                              Behr, Mr. Karl Howell    male  26.0      0   \n",
       "\n",
       "     Parch    Ticket     Fare        Cabin Embarked  \n",
       "1        0  PC 17599  71.2833          C85        C  \n",
       "3        0    113803  53.1000         C123        S  \n",
       "6        0     17463  51.8625          E46        S  \n",
       "10       1   PP 9549  16.7000           G6        S  \n",
       "11       0    113783  26.5500         C103        S  \n",
       "..     ...       ...      ...          ...      ...  \n",
       "871      1     11751  52.5542          D35        S  \n",
       "872      0       695   5.0000  B51 B53 B55        S  \n",
       "879      1     11767  83.1583          C50        C  \n",
       "887      0    112053  30.0000          B42        S  \n",
       "889      0    111369  30.0000         C148        C  \n",
       "\n",
       "[204 rows x 12 columns]"
      ]
     },
     "execution_count": 95,
     "metadata": {},
     "output_type": "execute_result"
    }
   ],
   "source": [
    "# only drop rows where NaN appear in specific columns (here: 'C')\n",
    "df.dropna(subset=['Cabin'])"
   ]
  },
  {
   "cell_type": "markdown",
   "id": "2f1d5cb5",
   "metadata": {},
   "source": [
    "Although the removal of missing data seems to be a convenient approach, it also comes with certain disadvantages; for example, we may end up removing too many samples, which will make a reliable analysis impossible. Or, if we remove too many feature columns, we will run the risk of losing valuable information that our classifier needs to discriminate between classes."
   ]
  },
  {
   "cell_type": "markdown",
   "id": "aba75388",
   "metadata": {},
   "source": [
    "### Imputing missing values\n",
    "\n",
    "Often, the removal of samples or dropping of entire feature columns is simply not feasible, because we might lose too much valuable data. In this case, we can use different interpolation techniques to estimate the missing values from the other training samples in our dataset. One of the most common interpolation techniques is **mean imputation**, where we simply replace the missing value with the mean value of the entire feature column. A convenient way to achieve this is by using the [<code>SimpleImputer</code>](https://scikit-learn.org/stable/modules/generated/sklearn.impute.SimpleImputer.html) class from **scikit-learn**, as shown in the following code"
   ]
  },
  {
   "cell_type": "code",
   "execution_count": null,
   "id": "e0d2ab02",
   "metadata": {},
   "outputs": [
    {
     "data": {
      "text/plain": [
       "array([[ 1., 10., 20.,  4.],\n",
       "       [nan, 15., nan,  2.],\n",
       "       [ 6.,  8., nan, nan]])"
      ]
     },
     "execution_count": 103,
     "metadata": {},
     "output_type": "execute_result"
    }
   ],
   "source": [
    "# create a simple matrix with missing values\n",
    "numerical_data = np.array([\n",
    "    [1, 10, 20, 4],\n",
    "    [np.nan, 15, np.nan, 2],\n",
    "    [6, 8, np.nan, np.nan]\n",
    "])\n",
    "\n",
    "numerical_data"
   ]
  },
  {
   "cell_type": "code",
   "execution_count": null,
   "id": "265a7ad4",
   "metadata": {},
   "outputs": [
    {
     "data": {
      "text/plain": [
       "array([[ 1. , 10. , 20. ,  4. ],\n",
       "       [ 3.5, 15. , 20. ,  2. ],\n",
       "       [ 6. ,  8. , 20. ,  3. ]])"
      ]
     },
     "execution_count": 102,
     "metadata": {},
     "output_type": "execute_result"
    }
   ],
   "source": [
    "imp_mean = SimpleImputer(missing_values=np.nan, strategy='mean')\n",
    "imp_mean = imp_mean.fit(numerical_data)\n",
    "imputed_data = imp_mean.transform(numerical_data)\n",
    "imputed_data"
   ]
  },
  {
   "cell_type": "markdown",
   "id": "ac23a06a",
   "metadata": {},
   "source": [
    "Here, we replaced each <code>np.nan</code> value with the corresponding mean, which is separately calculated for each feature column.\n",
    "\n",
    "Other options for the strategy parameter are <code>median</code> or <code>most_frequent</code>, where the latter replaces the missing values with the most frequent values. This is useful for imputing categorical feature values"
   ]
  },
  {
   "cell_type": "code",
   "execution_count": null,
   "id": "b5bd80d5",
   "metadata": {},
   "outputs": [
    {
     "data": {
      "text/plain": [
       "array([['red', 'tall', 'fast'],\n",
       "       ['brown', nan, 'slow'],\n",
       "       [nan, 'small', 'slow'],\n",
       "       ['brown', 'tall', nan]], dtype=object)"
      ]
     },
     "execution_count": 110,
     "metadata": {},
     "output_type": "execute_result"
    }
   ],
   "source": [
    "categorical_data = np.array([\n",
    "    [\"red\", \"tall\", \"fast\"],\n",
    "    [\"brown\", np.nan, \"slow\"],\n",
    "    [np.nan, \"small\", \"slow\"],\n",
    "    [\"brown\", \"tall\", np.nan],\n",
    "], dtype=object)\n",
    "\n",
    "categorical_data"
   ]
  },
  {
   "cell_type": "code",
   "execution_count": null,
   "id": "c8a36007",
   "metadata": {},
   "outputs": [
    {
     "data": {
      "text/plain": [
       "array([['red', 'tall', 'fast'],\n",
       "       ['brown', 'tall', 'slow'],\n",
       "       ['brown', 'small', 'slow'],\n",
       "       ['brown', 'tall', 'slow']], dtype=object)"
      ]
     },
     "execution_count": 113,
     "metadata": {},
     "output_type": "execute_result"
    }
   ],
   "source": [
    "imp_most_frequent = SimpleImputer(missing_values=np.nan, strategy=\"most_frequent\")\n",
    "imputed_data = imp_most_frequent.fit_transform(categorical_data)\n",
    "imputed_data"
   ]
  },
  {
   "cell_type": "markdown",
   "id": "fac336ab",
   "metadata": {},
   "source": [
    "**Exercise**\n",
    "\n",
    "Impute the missing values in the <code>Cabin</code> column using the <code>constant</code> as the imputation strategy and <code>fill_value</code> as *missing*."
   ]
  },
  {
   "cell_type": "code",
   "execution_count": null,
   "id": "8f07516a",
   "metadata": {},
   "outputs": [
    {
     "ename": "SyntaxError",
     "evalue": "expected argument value expression (201333596.py, line 5)",
     "output_type": "error",
     "traceback": [
      "  \u001b[36mCell\u001b[39m\u001b[36m \u001b[39m\u001b[32mIn[115]\u001b[39m\u001b[32m, line 5\u001b[39m\n\u001b[31m    \u001b[39m\u001b[31mimp_median = SimpleImputer(strategy=)\u001b[39m\n                               ^\n\u001b[31mSyntaxError\u001b[39m\u001b[31m:\u001b[39m expected argument value expression\n"
     ]
    }
   ],
   "source": [
    "# extract Age data\n",
    "cabin = df[\"Cabin\"].values\n",
    "\n",
    "# Create imputer instance\n",
    "imp_median = SimpleImputer(strategy=, fill_value=)\n",
    "\n",
    "# Apply imputing technique\n",
    "imputed_cabin = \n",
    "\n",
    "imputed_cabin"
   ]
  },
  {
   "cell_type": "markdown",
   "id": "9489ec02",
   "metadata": {},
   "source": [
    "## Feature Engineering\n",
    "\n",
    "Feature Engineering is the process of creating new input features or transforming existing ones to improve the performance of machine learning models. In real-world data, raw columns are often incomplete, noisy, or not directly usable. Good features can make simple models powerful — and poor features can make even the best models fail.\n",
    "\n",
    "Even if you use powerful algorithms like Random Forest, XGBoost, or Neural Networks, poor features can ruin your model’s performance.\n",
    "\n",
    "On the other hand, well-crafted features can help:\n",
    "\n",
    "- Improve accuracy\n",
    "\n",
    "- Reduce overfitting\n",
    "\n",
    "- Speed up training\n",
    "\n",
    "- Make the model easier to interpret\n",
    "\n",
    "Types of Feature Engineering\n",
    "\n",
    "| Column Name              | Data Type                   | Description                                                             | Possible Values / Examples                             |\n",
    "|--------------------------|------------------------------|-------------------------------------------------------------------------|--------------------------------------------------------|\n",
    "| Feature Extraction       | String → Categorical         | Extract useful parts from complex fields                               | From `Name` → `Title` = \"Mr\", \"Mrs\", \"Miss\", etc.     |\n",
    "| Feature Transformation   | Numeric                      | Apply mathematical or rule-based transformation to values              | `Fare` → log(Fare), `Age` → square root(Age)           |\n",
    "| Encoding Categorical     | Categorical → Numeric        | Convert string labels into numeric format for modeling                 | `Sex` = \"male\", \"female\" → 1, 0 using `get_dummies()`  |\n",
    "| Binning                  | Numeric → Categorical        | Divide continuous values into discrete intervals                       | `Age` → \"Child\", \"Adult\", \"Senior\"                     |\n",
    "| Feature Interaction      | Multiple Columns             | Combine two or more columns to create meaningful relationships         | `FamilySize` = `SibSp` + `Parch` + 1                   |\n",
    "| Datetime Decomposition   | Datetime → Numeric/Categorical | Break down datetime into parts like year, month, day, etc.            | `2023-04-19` → year = 2023, month = 4                  |\n",
    "| Scaling / Normalization  | Numeric                      | Scale numeric values to a common range or distribution                 | `Fare` → 0–1 using MinMaxScaler                        |\n",
    "| Missing Value Imputation | Any                          | Fill missing values with mean, median, mode, or prediction             | `Age` → fill missing with median age (e.g., 28.0)      |\n"
   ]
  },
  {
   "cell_type": "markdown",
   "id": "dc752004",
   "metadata": {},
   "source": [
    "Creating new feature as a Title. Titles often capture social status, gender, and age group — all useful predictors of survival!"
   ]
  },
  {
   "cell_type": "code",
   "execution_count": 15,
   "id": "e620008d",
   "metadata": {},
   "outputs": [
    {
     "name": "stdout",
     "output_type": "stream",
     "text": [
      "Unique titles found: ['Mr' 'Mrs' 'Miss' 'Master' 'Don' 'Rev' 'Dr' 'Mme' 'Ms' 'Major' 'Lady'\n",
      " 'Sir' 'Mlle' 'Col' 'Capt' 'the Countess' 'Jonkheer']\n"
     ]
    }
   ],
   "source": [
    "# Extract title from passenger name\n",
    "df['Title'] = df['Name'].str.extract(r',\\s*([^\\.]*)\\s*\\.', expand=False)\n",
    "\n",
    "# View unique titles\n",
    "print(\"Unique titles found:\", df['Title'].unique())\n"
   ]
  },
  {
   "cell_type": "markdown",
   "id": "54da3c36",
   "metadata": {},
   "source": [
    "Encoding Categorical Variables (Sex)\n",
    "\n",
    "- Most machine learning models can’t handle text labels like 'male' or 'female'. get_dummies() turns these into numerical values (0 or 1) that models can understand."
   ]
  },
  {
   "cell_type": "code",
   "execution_count": 16,
   "id": "aa72c3f6",
   "metadata": {},
   "outputs": [
    {
     "name": "stdout",
     "output_type": "stream",
     "text": [
      "   Sex_male\n",
      "0      True\n",
      "1     False\n",
      "2     False\n",
      "3     False\n",
      "4      True\n"
     ]
    }
   ],
   "source": [
    "# Encode 'Sex' column into binary variables (0 or 1)\n",
    "df_encoded = pd.get_dummies(df, columns=['Sex'], drop_first=True)\n",
    "\n",
    "# Shows new encoded column (e.g., Sex_male)\n",
    "print(df_encoded[['Sex_male']].head())"
   ]
  },
  {
   "cell_type": "markdown",
   "id": "0cc59cd0",
   "metadata": {},
   "source": [
    "Normalize a Numeric Attribute (Fare)\n",
    "\n",
    "- Normalization rescales the feature so it falls between 0 and 1. This is important for models that are sensitive to feature scale, such as:\n",
    "\n",
    "- - K-Nearest Neighbors\n",
    "\n",
    "- - Logistic Regression\n",
    "\n",
    "- - Neural Networks\n",
    "\n"
   ]
  },
  {
   "cell_type": "code",
   "execution_count": 17,
   "id": "c89ae9a6",
   "metadata": {},
   "outputs": [
    {
     "ename": "NameError",
     "evalue": "name 'MinMaxScaler' is not defined",
     "output_type": "error",
     "traceback": [
      "\u001b[31m---------------------------------------------------------------------------\u001b[39m",
      "\u001b[31mNameError\u001b[39m                                 Traceback (most recent call last)",
      "\u001b[36mCell\u001b[39m\u001b[36m \u001b[39m\u001b[32mIn[17]\u001b[39m\u001b[32m, line 2\u001b[39m\n\u001b[32m      1\u001b[39m \u001b[38;5;66;03m# Initialize scaler\u001b[39;00m\n\u001b[32m----> \u001b[39m\u001b[32m2\u001b[39m scaler = \u001b[43mMinMaxScaler\u001b[49m()\n\u001b[32m      4\u001b[39m \u001b[38;5;66;03m# Apply normalization on Fare\u001b[39;00m\n\u001b[32m      5\u001b[39m df_encoded[\u001b[33m'\u001b[39m\u001b[33mFare_normalized\u001b[39m\u001b[33m'\u001b[39m] = scaler.fit_transform(df_encoded[[\u001b[33m'\u001b[39m\u001b[33mFare\u001b[39m\u001b[33m'\u001b[39m]])\n",
      "\u001b[31mNameError\u001b[39m: name 'MinMaxScaler' is not defined"
     ]
    }
   ],
   "source": [
    "# Initialize scaler\n",
    "scaler = MinMaxScaler()\n",
    "\n",
    "# Apply normalization on Fare\n",
    "df_encoded['Fare_normalized'] = scaler.fit_transform(df_encoded[['Fare']])\n",
    "\n",
    "# Compare original vs normalized\n",
    "print(df_encoded[['Fare', 'Fare_normalized']].head())"
   ]
  },
  {
   "cell_type": "code",
   "execution_count": null,
   "id": "8ff9f1b8",
   "metadata": {},
   "outputs": [],
   "source": []
  },
  {
   "cell_type": "markdown",
   "id": "40060b97",
   "metadata": {},
   "source": [
    "## Final Summary\n",
    "\n",
    "At this point in the lab, you've:\n",
    "\n",
    "- Explored the Titanic dataset in depth\n",
    "\n",
    "- Identified and handled common data quality issues\n",
    "\n",
    "- Visualized key distributions and feature relationships\n",
    "\n",
    "- Created new, meaningful features\n",
    "\n",
    "- Prepared the data for the next step: modeling\n",
    "\n",
    "The Final Summary serves as a quick review of what your dataset looks like after preprocessing and what insights you've discovered. This is also a sanity check to ensure the data is clean, consistent, and ready for machine learning models.\n",
    "\n",
    "### Key Objectives for Final Summary\n",
    "\n",
    "1.Display the final shape and structure of the dataset\n",
    "→ Are there the expected number of rows and columns?\n",
    "\n",
    "2.Print the updated column list\n",
    "→ What features do we now have after feature engineering?\n",
    "\n",
    "3.Verify there are no more missing or duplicate values\n",
    "→ A final cleanup check\n",
    "\n",
    "4.Summarize important observations or decisions made during EDA and preprocessing"
   ]
  },
  {
   "cell_type": "code",
   "execution_count": 19,
   "id": "87e482ee",
   "metadata": {},
   "outputs": [
    {
     "name": "stdout",
     "output_type": "stream",
     "text": [
      "Final shape of the dataset:\n",
      "(891, 13)\n",
      "\n",
      "Final column list:\n",
      "['PassengerId', 'Survived', 'Pclass', 'Name', 'Sex', 'Age', 'SibSp', 'Parch', 'Ticket', 'Fare', 'Cabin', 'Embarked', 'Title']\n",
      "\n",
      "Missing values per column:\n",
      "PassengerId      0\n",
      "Survived         0\n",
      "Pclass           0\n",
      "Name             0\n",
      "Sex              0\n",
      "Age            177\n",
      "SibSp            0\n",
      "Parch            0\n",
      "Ticket           0\n",
      "Fare             0\n",
      "Cabin          687\n",
      "Embarked         2\n",
      "Title            0\n",
      "dtype: int64\n",
      "\n",
      "Number of duplicated rows:\n",
      "0\n",
      "\n",
      "Data types of final columns:\n",
      "PassengerId      int64\n",
      "Survived         int64\n",
      "Pclass           int64\n",
      "Name            object\n",
      "Sex             object\n",
      "Age            float64\n",
      "SibSp            int64\n",
      "Parch            int64\n",
      "Ticket          object\n",
      "Fare           float64\n",
      "Cabin           object\n",
      "Embarked        object\n",
      "Title           object\n",
      "dtype: object\n",
      "\n",
      "Final preview of the dataset:\n",
      "   PassengerId  Survived  Pclass  \\\n",
      "0            1         0       3   \n",
      "1            2         1       1   \n",
      "2            3         1       3   \n",
      "3            4         1       1   \n",
      "4            5         0       3   \n",
      "\n",
      "                                                Name     Sex   Age  SibSp  \\\n",
      "0                            Braund, Mr. Owen Harris    male  22.0      1   \n",
      "1  Cumings, Mrs. John Bradley (Florence Briggs Th...  female  38.0      1   \n",
      "2                             Heikkinen, Miss. Laina  female  26.0      0   \n",
      "3       Futrelle, Mrs. Jacques Heath (Lily May Peel)  female  35.0      1   \n",
      "4                           Allen, Mr. William Henry    male  35.0      0   \n",
      "\n",
      "   Parch            Ticket     Fare Cabin Embarked Title  \n",
      "0      0         A/5 21171   7.2500   NaN        S    Mr  \n",
      "1      0          PC 17599  71.2833   C85        C   Mrs  \n",
      "2      0  STON/O2. 3101282   7.9250   NaN        S  Miss  \n",
      "3      0            113803  53.1000  C123        S   Mrs  \n",
      "4      0            373450   8.0500   NaN        S    Mr  \n"
     ]
    }
   ],
   "source": [
    "print(\"Final shape of the dataset:\")\n",
    "print(df.shape)\n",
    "\n",
    "print(\"\\nFinal column list:\")\n",
    "print(df.columns.tolist())\n",
    "\n",
    "# Final check for missing values\n",
    "print(\"\\nMissing values per column:\")\n",
    "print(df.isnull().sum())\n",
    "\n",
    "# Final check for duplicated rows\n",
    "print(\"\\nNumber of duplicated rows:\")\n",
    "print(df.duplicated().sum())\n",
    "\n",
    "# Overview of dtypes (check if types look correct)\n",
    "print(\"\\nData types of final columns:\")\n",
    "print(df.dtypes)\n",
    "\n",
    "# Quick preview of the cleaned and engineered dataset\n",
    "print(\"\\nFinal preview of the dataset:\")\n",
    "print(df.head())\n"
   ]
  },
  {
   "cell_type": "markdown",
   "id": "f4f9b4a9",
   "metadata": {},
   "source": [
    "# Key Insights from the Titanic Dataset\n",
    "\n",
    "You can include some of the following example reflections:\n",
    "\n",
    "- The Survival rate was higher among females and 1st-class passengers\n",
    "\n",
    "- Features like Sex, Pclass, and Title seem to be strong indicators of survival\n",
    "\n",
    "- We created new features like Title and FamilySize to enrich the dataset\n",
    "\n",
    "- We handled missing values in Age and dropped columns like Cabin due to excessive missingness\n",
    "\n",
    "- The dataset is now cleaned, encoded, and normalized — ready for modeling!"
   ]
  },
  {
   "cell_type": "code",
   "execution_count": null,
   "id": "0c056fd6",
   "metadata": {},
   "outputs": [],
   "source": []
  },
  {
   "cell_type": "code",
   "execution_count": null,
   "id": "a3ca1a1a",
   "metadata": {},
   "outputs": [],
   "source": []
  },
  {
   "cell_type": "markdown",
   "id": "a40c3f3a",
   "metadata": {},
   "source": []
  }
 ],
 "metadata": {
  "kernelspec": {
   "display_name": "Python 3",
   "language": "python",
   "name": "python3"
  },
  "language_info": {
   "codemirror_mode": {
    "name": "ipython",
    "version": 3
   },
   "file_extension": ".py",
   "mimetype": "text/x-python",
   "name": "python",
   "nbconvert_exporter": "python",
   "pygments_lexer": "ipython3",
   "version": "3.13.0"
  }
 },
 "nbformat": 4,
 "nbformat_minor": 5
}
