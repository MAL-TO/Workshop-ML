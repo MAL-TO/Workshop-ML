{
 "cells": [
  {
   "cell_type": "markdown",
   "id": "fd487d21",
   "metadata": {},
   "source": [
    "# Lab 01 - Data exploration and preprocessing"
   ]
  },
  {
   "cell_type": "code",
   "execution_count": 8,
   "id": "fbc1481d",
   "metadata": {},
   "outputs": [],
   "source": [
    "# import dependencies\n",
    "import os\n",
    "\n",
    "import numpy as np\n",
    "import pandas as pd"
   ]
  },
  {
   "cell_type": "markdown",
   "id": "2c858f34",
   "metadata": {},
   "source": [
    "## Introduction"
   ]
  },
  {
   "cell_type": "markdown",
   "id": "93e36221",
   "metadata": {},
   "source": [
    "### Dataset description\n",
    "\n",
    "The sinking of the Titanic is one of the most infamous shipwrecks in history.\n",
    "\n",
    "On April 15, 1912, during her maiden voyage, the widely considered “unsinkable” RMS Titanic sank after colliding with an iceberg. Unfortunately, there weren’t enough lifeboats for everyone onboard, resulting in the death of 1502 out of 2224 passengers and crew.\n",
    "\n",
    "While there was some element of luck involved in surviving, it seems some groups of people were more likely to survive than others.\n",
    "\n",
    "In this challenge, we ask you to build a predictive model that answers the question: “what sorts of people were more likely to survive?” using passenger data (ie name, age, gender, socio-economic class, etc).\n"
   ]
  },
  {
   "cell_type": "markdown",
   "id": "7071aecd",
   "metadata": {},
   "source": [
    "| Column Name | Data Type | Description | Possible Values |\n",
    "|-------------|-----------|-------------|----------------|\n",
    "| PassengerId | Integer   | Unique identifier for each passenger | 1, 2, 3, etc. |\n",
    "| Survived    | Integer   | Survival indicator | 0 = No (Did not survive), 1 = Yes (Survived) |\n",
    "| Pclass      | Integer   | Passenger ticket class | 1 = 1st/Upper, 2 = 2nd/Middle, 3 = 3rd/Lower |\n",
    "| Name        | String    | Full name of the passenger | \"Braund, Mr. Owen Harris\", etc. |\n",
    "| Sex         | String    | Gender of the passenger | \"male\", \"female\" |\n",
    "| Age         | Float     | Age of the passenger in years | 22.0, 40.0, etc. (may contain missing values) |\n",
    "| SibSp       | Integer   | Number of siblings/spouses aboard the Titanic | 0, 1, 2, etc. |\n",
    "| Parch       | Integer   | Number of parents/children aboard the Titanic | 0, 1, 2, etc. |\n",
    "| Ticket      | String    | Ticket number | \"A/5 21171\", \"PC 17599\", etc. |\n",
    "| Fare        | Float     | Price paid for the ticket | 7.25, 71.2833, etc. |\n",
    "| Cabin       | String    | Cabin number | \"C85\", \"E46\", etc. (many missing values) |\n",
    "| Embarked    | String    | Port of embarkation | \"C\" = Cherbourg, \"Q\" = Queenstown, \"S\" = Southampton |"
   ]
  },
  {
   "cell_type": "markdown",
   "id": "b5866566",
   "metadata": {},
   "source": [
    "### Objective of the lab\n",
    "\n",
    "The quality of the data and the amount of useful information that it contains are key factors that determine how well a machine learning algorithm can learn. Therefore, it is absolutely critical that we make sure to examine and preprocess a dataset before we feed it to a learning algorithm. \n",
    "\n",
    "In this laboratory we will explore the data exploration and preprocessing pipeline of a dataset for a machine learning lab"
   ]
  },
  {
   "cell_type": "markdown",
   "id": "2938e958",
   "metadata": {},
   "source": [
    "#### What is a Dataset?\n",
    "\n",
    "A data set (or dataset) is a collection of data. In the case of tabular data, a data set corresponds to one or more database tables, where every **column** of a table represents a particular **variable**, and each **row** corresponds to a given **record of the data** set in question. The data set lists values for each of the variables, such as for example height and weight of an object, for each member of the data set. Data sets can also consist of a collection of documents or files\n",
    "\n",
    "Several characteristics define a data set's structure and properties. These include the number and types of the attributes or variables, and various statistical measures applicable to them.\n",
    "\n",
    "The values may be numbers, such as real numbers or integers, for example representing a person's height in centimeters, but may also be nominal data (i.e., not consisting of numerical values), for example representing a person's ethnicity. More generally, values may be of any of the kinds described as a level of measurement.\n",
    "\n",
    "Missing values may exist, which must be indicated somehow.\n",
    "\n",
    "[Data set - Wikipedia](https://en.wikipedia.org/wiki/Data_set)"
   ]
  },
  {
   "cell_type": "markdown",
   "id": "bad7a3aa",
   "metadata": {},
   "source": [
    "#### What are the different types of data?\n",
    "\n",
    "The two main types of data are:\n",
    "\n",
    "- Qualitative Data\n",
    "- Quantitative Data\n",
    "\n",
    "![types-of-data-img](img\\types-of-data-1024x555-1.png)\n",
    "\n",
    "---\n",
    "\n",
    "**Qualitative or Categorical Data**\n",
    "   \n",
    "Qualitative or Categorical Data is a type of data that can’t be measured or counted in the form of numbers. These types of data are sorted by category, not by number. That’s why it is also known as Categorical Data. \n",
    "\n",
    "These data consist of audio, images, symbols, or text. The gender of a person, i.e., male, female, or others, is qualitative data.\n",
    "\n",
    "Qualitative data tells about the perception of people. This data helps market researchers understand the customers’ tastes and then design their ideas and strategies accordingly. \n",
    "\n",
    "The Qualitative data are further classified into two parts :\n",
    "   \n",
    "- Nominal Data\n",
    "    Nominal Data is used to label variables without any order or quantitative value. The color of hair can be considered nominal data, as one color can’t be compared with another color.\n",
    "\n",
    "    With the help of nominal data, we can’t do any numerical tasks or can’t give any order to sort the data. These data don’t have any meaningful order; their values are distributed into distinct categories.\n",
    "\n",
    "- Ordinal Data\n",
    "\n",
    "    Ordinal data have natural ordering where a number is present in some kind of order by their position on the scale. These data are used for observation like customer satisfaction, happiness, etc., but we can’t do any arithmetical tasks on them. \n",
    "\n",
    "    Ordinal data is qualitative data for which their values have some kind of relative position. These kinds of data can be considered “in-between” qualitative and quantitative data.\n",
    "\n",
    "    The ordinal data only shows the sequences and cannot use for statistical analysis. Compared to nominal data, ordinal data have some kind of order that is not present in nominal data. \n",
    "\n",
    "--- \n",
    "\n",
    "**Quantitative Data**\n",
    "   \n",
    "Quantitative data is a type of data that can be expressed in numerical values, making it countable and including statistical data analysis. These kinds of data are also known as Numerical data.\n",
    "\n",
    "It answers the questions like “how much,” “how many,” and “how often.” For example, the price of a phone, the computer’s ram, the height or weight of a person, etc., falls under quantitative data. \n",
    "\n",
    "Quantitative data can be used for statistical manipulation. These data can be represented on a wide variety of graphs and charts, such as bar graphs, histograms, scatter plots, boxplots, pie charts, line graphs, etc.\n",
    "\n",
    "- Discrete Data\n",
    "\n",
    "    The term discrete means distinct or separate. The discrete data contain the values that fall under integers or whole numbers. The total number of students in a class is an example of discrete data. These data can’t be broken into decimal or fraction values.\n",
    "\n",
    "    The discrete data are countable and have finite values; their subdivision is not possible. These data are represented mainly by a bar graph, number line, or frequency table.\n",
    "\n",
    "- Continuous Data\n",
    "\n",
    "    Continuous data are in the form of fractional numbers. It can be the version of an android phone, the height of a person, the length of an object, etc. Continuous data represents information that can be divided into smaller levels. The continuous variable can take any value within a range. \n",
    "\n",
    "    The key difference between discrete and continuous data is that discrete data contains the integer or whole number. Still, continuous data stores the fractional numbers to record different types of data such as temperature, height, width, time, speed, etc.\n",
    "\n",
    "[Types Of Data - Great Learning](https://www.mygreatlearning.com/blog/types-of-data/)"
   ]
  },
  {
   "cell_type": "markdown",
   "id": "5b35bcc3",
   "metadata": {},
   "source": [
    "## Dataset Loading"
   ]
  },
  {
   "cell_type": "markdown",
   "id": "d4b7cb1f",
   "metadata": {},
   "source": [
    "## Dataset Overview"
   ]
  },
  {
   "cell_type": "markdown",
   "id": "d54d8a85",
   "metadata": {},
   "source": [
    "## Data Quality Check"
   ]
  },
  {
   "cell_type": "markdown",
   "id": "2a86fdb7",
   "metadata": {},
   "source": [
    "## Descriptive Statistics"
   ]
  },
  {
   "cell_type": "markdown",
   "id": "da3dba6c",
   "metadata": {},
   "source": [
    "## Basic Data Visualization"
   ]
  },
  {
   "cell_type": "markdown",
   "id": "0224a37f",
   "metadata": {},
   "source": [
    "## Exploring Feature Relationships"
   ]
  },
  {
   "cell_type": "markdown",
   "id": "3600768d",
   "metadata": {},
   "source": [
    "## Handling Missing Values"
   ]
  },
  {
   "cell_type": "markdown",
   "id": "9489ec02",
   "metadata": {},
   "source": [
    "## Feature Engineering"
   ]
  },
  {
   "cell_type": "markdown",
   "id": "40060b97",
   "metadata": {},
   "source": [
    "## Final Summary"
   ]
  }
 ],
 "metadata": {
  "kernelspec": {
   "display_name": ".venv",
   "language": "python",
   "name": "python3"
  },
  "language_info": {
   "codemirror_mode": {
    "name": "ipython",
    "version": 3
   },
   "file_extension": ".py",
   "mimetype": "text/x-python",
   "name": "python",
   "nbconvert_exporter": "python",
   "pygments_lexer": "ipython3",
   "version": "3.12.4"
  }
 },
 "nbformat": 4,
 "nbformat_minor": 5
}
