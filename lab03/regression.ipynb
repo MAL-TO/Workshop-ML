{
 "cells": [
  {
   "cell_type": "markdown",
   "id": "1234cfe8",
   "metadata": {},
   "source": [
    "# **Lab 03 - MALTO Machine Learning Workshop**\n",
    "---\n",
    "# Regression"
   ]
  },
  {
   "cell_type": "code",
   "execution_count": 1,
   "id": "a14f1d0b",
   "metadata": {},
   "outputs": [],
   "source": [
    "import numpy as np\n",
    "import pandas as pd\n",
    "import matplotlib.pyplot as plt\n",
    "import seaborn as sns\n",
    "\n",
    "from sklearn.model_selection import train_test_split\n",
    "from sklearn.preprocessing import StandardScaler, MinMaxScaler\n",
    "from sklearn.datasets import fetch_california_housing\n",
    "from sklearn.pipeline import Pipeline\n",
    "from sklearn.model_selection import cross_validate, validation_curve, cross_val_predict\n",
    "from sklearn.linear_model import LinearRegression, SGDRegressor, Lasso, Ridge\n",
    "from sklearn.tree import DecisionTreeRegressor\n",
    "from sklearn.ensemble import RandomForestRegressor\n",
    "from sklearn.svm import SVR\n",
    "from sklearn.metrics import mean_absolute_error, mean_squared_error, r2_score\n",
    "\n",
    "from sklearn.model_selection import GridSearchCV\n",
    "from sklearn.preprocessing import PolynomialFeatures\n",
    "\n",
    "import warnings\n",
    "from lab_utils import (\n",
    "    summarize_metric,\n",
    "    scoring,\n",
    "    plot_residuals,\n",
    "    plot_predicted_vs_actual,\n",
    ")\n",
    "\n",
    "warnings.filterwarnings(\"ignore\")\n",
    "\n",
    "# Set the style for plots\n",
    "plt.style.use(\"seaborn-v0_8-whitegrid\")\n",
    "sns.set_palette(\"deep\")\n",
    "\n",
    "# Dictionary to store performance metrics\n",
    "model_performances = []\n",
    "random_state = 42"
   ]
  },
  {
   "cell_type": "markdown",
   "id": "72647778",
   "metadata": {},
   "source": [
    "## 1. Introduction to Regression\n",
    "\n",
    "Regression is a **supervised learning task** where the goal is to **predict a continuous value** based on input features. It's used in a wide range of domains like real estate, finance, and energy systems.\n",
    "\n",
    "### 🔍 Key Concepts:\n",
    "- **Target Variable**: What we want to predict (e.g., house price).\n",
    "- **Features**: Inputs used for prediction (e.g., size, income, location).\n",
    "- **Regression Function**: The mathematical relationship between features and target.\n",
    "\n",
    "### 🧠 Common Applications:\n",
    "- Predicting house prices\n",
    "- Estimating energy consumption\n",
    "- Forecasting revenue\n",
    "- Predicting equipment failure (Remaining Useful Life)\n",
    "\n",
    "---\n",
    "\n",
    "### 🔄 Regression vs. Classification\n",
    "\n",
    "| Aspect          | Regression                           | Classification                     |\n",
    "|-----------------|--------------------------------------|-------------------------------------|\n",
    "| Output          | Continuous (e.g., price)             | Categorical (e.g., spam/not spam)  |\n",
    "| Goal            | Minimize prediction error            | Maximize correct classification     |\n",
    "| Examples        | Predict temperature, sales           | Email filtering, image labeling     |\n",
    "| Metrics         | MSE, MAE, R²                         | Accuracy, Precision, F1-score       |\n",
    "\n",
    "<p align=\"center\">\n",
    "    <img src=\"docs/Regression_vs_Classification.avif\" alt=\"Regression vs Classification\" width=\"50%\">\n",
    "</p>\n"
   ]
  },
  {
   "cell_type": "markdown",
   "id": "bee9cb75",
   "metadata": {},
   "source": [
    "## 2. Loading and Inspecting the Dataset\n",
    "\n",
    "In this lab, we will use the [**California Housing Dataset**](https://scikit-learn.org/stable/modules/generated/sklearn.datasets.fetch_california_housing.html), a classic regression dataset.\n",
    "\n",
    "### 🎯 Target Variable:\n",
    "- `MedHouseValue`: Median house value in a district, expressed in $100,000.\n",
    "\n",
    "### 📊 Features:\n",
    "- `MedInc`: Median income in block group.\n",
    "- `HouseAge`: Median house age in block group.\n",
    "- `AveRooms`: Average number of rooms per household.\n",
    "- `AveBedrms`: Average number of bedrooms per household.\n",
    "- `Population`: Block group population.\n",
    "- `AveOccup`: Average number of household members.\n",
    "- `Latitude`: Block group latitude.\n",
    "- `Longitude`: Block group longitude.\n",
    "\n",
    "We'll begin by **loading** the dataset, **exploring** its structure, and **visualizing** the distribution of the target variable."
   ]
  },
  {
   "cell_type": "code",
   "execution_count": 2,
   "id": "f630fa7c",
   "metadata": {},
   "outputs": [],
   "source": [
    "california_housing = fetch_california_housing(as_frame=True)"
   ]
  },
  {
   "cell_type": "code",
   "execution_count": 3,
   "id": "bce14f98",
   "metadata": {},
   "outputs": [
    {
     "data": {
      "text/plain": [
       "sklearn.utils._bunch.Bunch"
      ]
     },
     "execution_count": 3,
     "metadata": {},
     "output_type": "execute_result"
    }
   ],
   "source": [
    "type(california_housing)"
   ]
  },
  {
   "cell_type": "markdown",
   "id": "c7ecb905",
   "metadata": {},
   "source": [
    "### Bunch Object Attributes\n",
    "\n",
    "The `bunch` object is a dictionary-like object with the following attributes:\n",
    "\n",
    "- `data`, which is a pandas object (since `as_frame=True`). Each row corresponds to 8 feature values.\n",
    "\n",
    "- `target` value contains average house value in units of 100,000. This is also a pandas object (since `as_frame=True`).\n",
    "\n",
    "- `feature_names` is an array of ordered feature names used in the dataset.\n",
    "\n",
    "- `DESCR` contains a description of the dataset.\n",
    "\n",
    "- `frame` contains a dataframe with data and target.\n",
    "\n",
    "Each of these attributes can be accessed as `<bunch_object>.key`. In our case, we can access these features as follows:\n",
    "\n",
    "- `california_housing.data` gives us access to contents of `data` key.\n",
    "\n",
    "- `california_housing.target` gives us access to contents of `target` key.\n",
    "\n",
    "- `california_housing.feature_names` gives us access to contents of `feature_names` key.\n",
    "\n",
    "- `california_housing.DESCR` gives us access to contents of `DESCR` key.\n",
    "\n",
    "- `california_housing.frame` gives us access to contents of `frame` key.\n"
   ]
  },
  {
   "cell_type": "code",
   "execution_count": 4,
   "id": "0fb79b7a",
   "metadata": {},
   "outputs": [
    {
     "name": "stdout",
     "output_type": "stream",
     "text": [
      ".. _california_housing_dataset:\n",
      "\n",
      "California Housing dataset\n",
      "--------------------------\n",
      "\n",
      "**Data Set Characteristics:**\n",
      "\n",
      ":Number of Instances: 20640\n",
      "\n",
      ":Number of Attributes: 8 numeric, predictive attributes and the target\n",
      "\n",
      ":Attribute Information:\n",
      "    - MedInc        median income in block group\n",
      "    - HouseAge      median house age in block group\n",
      "    - AveRooms      average number of rooms per household\n",
      "    - AveBedrms     average number of bedrooms per household\n",
      "    - Population    block group population\n",
      "    - AveOccup      average number of household members\n",
      "    - Latitude      block group latitude\n",
      "    - Longitude     block group longitude\n",
      "\n",
      ":Missing Attribute Values: None\n",
      "\n",
      "This dataset was obtained from the StatLib repository.\n",
      "https://www.dcc.fc.up.pt/~ltorgo/Regression/cal_housing.html\n",
      "\n",
      "The target variable is the median house value for California districts,\n",
      "expressed in hundreds of thousands of dollars ($100,000).\n",
      "\n",
      "This dataset was derived from the 1990 U.S. census, using one row per census\n",
      "block group. A block group is the smallest geographical unit for which the U.S.\n",
      "Census Bureau publishes sample data (a block group typically has a population\n",
      "of 600 to 3,000 people).\n",
      "\n",
      "A household is a group of people residing within a home. Since the average\n",
      "number of rooms and bedrooms in this dataset are provided per household, these\n",
      "columns may take surprisingly large values for block groups with few households\n",
      "and many empty houses, such as vacation resorts.\n",
      "\n",
      "It can be downloaded/loaded using the\n",
      ":func:`sklearn.datasets.fetch_california_housing` function.\n",
      "\n",
      ".. rubric:: References\n",
      "\n",
      "- Pace, R. Kelley and Ronald Barry, Sparse Spatial Autoregressions,\n",
      "  Statistics and Probability Letters, 33 (1997) 291-297\n",
      "\n"
     ]
    }
   ],
   "source": [
    "print(california_housing.DESCR)"
   ]
  },
  {
   "cell_type": "markdown",
   "id": "21ec0a0b",
   "metadata": {},
   "source": [
    "### Key Statistics\n",
    "\n",
    "Note down the key statistics from this description:\n",
    "\n",
    "- There are **20640 examples** in the dataset.\n",
    "\n",
    "- There are **8 numerical attributes** per example.\n",
    "\n",
    "- The target label is the median house value.\n",
    "\n",
    "- There are **no missing values** in this dataset.\n"
   ]
  },
  {
   "cell_type": "code",
   "execution_count": 5,
   "id": "2e3160bf",
   "metadata": {},
   "outputs": [
    {
     "data": {
      "text/plain": [
       "(20640, 8)"
      ]
     },
     "execution_count": 5,
     "metadata": {},
     "output_type": "execute_result"
    }
   ],
   "source": [
    "california_housing.data.shape"
   ]
  },
  {
   "cell_type": "code",
   "execution_count": 6,
   "id": "642a2776",
   "metadata": {},
   "outputs": [
    {
     "data": {
      "text/plain": [
       "pandas.core.frame.DataFrame"
      ]
     },
     "execution_count": 6,
     "metadata": {},
     "output_type": "execute_result"
    }
   ],
   "source": [
    "type(california_housing.data)"
   ]
  },
  {
   "cell_type": "code",
   "execution_count": 7,
   "id": "8a92891c",
   "metadata": {},
   "outputs": [
    {
     "data": {
      "text/plain": [
       "(20640,)"
      ]
     },
     "execution_count": 7,
     "metadata": {},
     "output_type": "execute_result"
    }
   ],
   "source": [
    "california_housing.target.shape"
   ]
  },
  {
   "cell_type": "code",
   "execution_count": 8,
   "id": "c34a43f1",
   "metadata": {},
   "outputs": [
    {
     "data": {
      "text/plain": [
       "pandas.core.series.Series"
      ]
     },
     "execution_count": 8,
     "metadata": {},
     "output_type": "execute_result"
    }
   ],
   "source": [
    "type(california_housing.target)"
   ]
  },
  {
   "cell_type": "markdown",
   "id": "4b409004",
   "metadata": {},
   "source": [
    "### Attributes and Their Description\n",
    "\n",
    "Understanding the attributes and their descriptions is crucial for analyzing the dataset:\n",
    "\n",
    "- MedInc - Median income in the block.\n",
    "\n",
    "- HouseAge - Median house age in the block.\n",
    "\n",
    "- AveRooms - Average number of rooms.\n",
    "\n",
    "- AveBedrms - Average number of bedrooms.\n",
    "\n",
    "- Population - Block population.\n",
    "\n",
    "- AveOccupancy - Average house occupancy.\n",
    "\n",
    "- Latitude - Latitude of the house block.\n",
    "\n",
    "- Longitude - Longitude of the house block."
   ]
  },
  {
   "cell_type": "code",
   "execution_count": 9,
   "id": "f1b03f04",
   "metadata": {},
   "outputs": [
    {
     "data": {
      "application/vnd.microsoft.datawrangler.viewer.v0+json": {
       "columns": [
        {
         "name": "index",
         "rawType": "int64",
         "type": "integer"
        },
        {
         "name": "MedInc",
         "rawType": "float64",
         "type": "float"
        },
        {
         "name": "HouseAge",
         "rawType": "float64",
         "type": "float"
        },
        {
         "name": "AveRooms",
         "rawType": "float64",
         "type": "float"
        },
        {
         "name": "AveBedrms",
         "rawType": "float64",
         "type": "float"
        },
        {
         "name": "Population",
         "rawType": "float64",
         "type": "float"
        },
        {
         "name": "AveOccup",
         "rawType": "float64",
         "type": "float"
        },
        {
         "name": "Latitude",
         "rawType": "float64",
         "type": "float"
        },
        {
         "name": "Longitude",
         "rawType": "float64",
         "type": "float"
        },
        {
         "name": "MedHouseVal",
         "rawType": "float64",
         "type": "float"
        }
       ],
       "conversionMethod": "pd.DataFrame",
       "ref": "1e456bb6-7803-46f6-b79b-680705cba9cc",
       "rows": [
        [
         "0",
         "8.3252",
         "41.0",
         "6.984126984126984",
         "1.0238095238095237",
         "322.0",
         "2.5555555555555554",
         "37.88",
         "-122.23",
         "4.526"
        ],
        [
         "1",
         "8.3014",
         "21.0",
         "6.238137082601054",
         "0.9718804920913884",
         "2401.0",
         "2.109841827768014",
         "37.86",
         "-122.22",
         "3.585"
        ],
        [
         "2",
         "7.2574",
         "52.0",
         "8.288135593220339",
         "1.073446327683616",
         "496.0",
         "2.8022598870056497",
         "37.85",
         "-122.24",
         "3.521"
        ],
        [
         "3",
         "5.6431",
         "52.0",
         "5.8173515981735155",
         "1.0730593607305936",
         "558.0",
         "2.547945205479452",
         "37.85",
         "-122.25",
         "3.413"
        ],
        [
         "4",
         "3.8462",
         "52.0",
         "6.281853281853282",
         "1.0810810810810811",
         "565.0",
         "2.1814671814671813",
         "37.85",
         "-122.25",
         "3.422"
        ]
       ],
       "shape": {
        "columns": 9,
        "rows": 5
       }
      },
      "text/html": [
       "<div>\n",
       "<style scoped>\n",
       "    .dataframe tbody tr th:only-of-type {\n",
       "        vertical-align: middle;\n",
       "    }\n",
       "\n",
       "    .dataframe tbody tr th {\n",
       "        vertical-align: top;\n",
       "    }\n",
       "\n",
       "    .dataframe thead th {\n",
       "        text-align: right;\n",
       "    }\n",
       "</style>\n",
       "<table border=\"1\" class=\"dataframe\">\n",
       "  <thead>\n",
       "    <tr style=\"text-align: right;\">\n",
       "      <th></th>\n",
       "      <th>MedInc</th>\n",
       "      <th>HouseAge</th>\n",
       "      <th>AveRooms</th>\n",
       "      <th>AveBedrms</th>\n",
       "      <th>Population</th>\n",
       "      <th>AveOccup</th>\n",
       "      <th>Latitude</th>\n",
       "      <th>Longitude</th>\n",
       "      <th>MedHouseVal</th>\n",
       "    </tr>\n",
       "  </thead>\n",
       "  <tbody>\n",
       "    <tr>\n",
       "      <th>0</th>\n",
       "      <td>8.3252</td>\n",
       "      <td>41.0</td>\n",
       "      <td>6.984127</td>\n",
       "      <td>1.023810</td>\n",
       "      <td>322.0</td>\n",
       "      <td>2.555556</td>\n",
       "      <td>37.88</td>\n",
       "      <td>-122.23</td>\n",
       "      <td>4.526</td>\n",
       "    </tr>\n",
       "    <tr>\n",
       "      <th>1</th>\n",
       "      <td>8.3014</td>\n",
       "      <td>21.0</td>\n",
       "      <td>6.238137</td>\n",
       "      <td>0.971880</td>\n",
       "      <td>2401.0</td>\n",
       "      <td>2.109842</td>\n",
       "      <td>37.86</td>\n",
       "      <td>-122.22</td>\n",
       "      <td>3.585</td>\n",
       "    </tr>\n",
       "    <tr>\n",
       "      <th>2</th>\n",
       "      <td>7.2574</td>\n",
       "      <td>52.0</td>\n",
       "      <td>8.288136</td>\n",
       "      <td>1.073446</td>\n",
       "      <td>496.0</td>\n",
       "      <td>2.802260</td>\n",
       "      <td>37.85</td>\n",
       "      <td>-122.24</td>\n",
       "      <td>3.521</td>\n",
       "    </tr>\n",
       "    <tr>\n",
       "      <th>3</th>\n",
       "      <td>5.6431</td>\n",
       "      <td>52.0</td>\n",
       "      <td>5.817352</td>\n",
       "      <td>1.073059</td>\n",
       "      <td>558.0</td>\n",
       "      <td>2.547945</td>\n",
       "      <td>37.85</td>\n",
       "      <td>-122.25</td>\n",
       "      <td>3.413</td>\n",
       "    </tr>\n",
       "    <tr>\n",
       "      <th>4</th>\n",
       "      <td>3.8462</td>\n",
       "      <td>52.0</td>\n",
       "      <td>6.281853</td>\n",
       "      <td>1.081081</td>\n",
       "      <td>565.0</td>\n",
       "      <td>2.181467</td>\n",
       "      <td>37.85</td>\n",
       "      <td>-122.25</td>\n",
       "      <td>3.422</td>\n",
       "    </tr>\n",
       "  </tbody>\n",
       "</table>\n",
       "</div>"
      ],
      "text/plain": [
       "   MedInc  HouseAge  AveRooms  AveBedrms  Population  AveOccup  Latitude  \\\n",
       "0  8.3252      41.0  6.984127   1.023810       322.0  2.555556     37.88   \n",
       "1  8.3014      21.0  6.238137   0.971880      2401.0  2.109842     37.86   \n",
       "2  7.2574      52.0  8.288136   1.073446       496.0  2.802260     37.85   \n",
       "3  5.6431      52.0  5.817352   1.073059       558.0  2.547945     37.85   \n",
       "4  3.8462      52.0  6.281853   1.081081       565.0  2.181467     37.85   \n",
       "\n",
       "   Longitude  MedHouseVal  \n",
       "0    -122.23        4.526  \n",
       "1    -122.22        3.585  \n",
       "2    -122.24        3.521  \n",
       "3    -122.25        3.413  \n",
       "4    -122.25        3.422  "
      ]
     },
     "execution_count": 9,
     "metadata": {},
     "output_type": "execute_result"
    }
   ],
   "source": [
    "california_housing.frame.head()"
   ]
  },
  {
   "cell_type": "code",
   "execution_count": 10,
   "id": "032d9b7e",
   "metadata": {},
   "outputs": [
    {
     "data": {
      "application/vnd.microsoft.datawrangler.viewer.v0+json": {
       "columns": [
        {
         "name": "index",
         "rawType": "int64",
         "type": "integer"
        },
        {
         "name": "MedInc",
         "rawType": "float64",
         "type": "float"
        },
        {
         "name": "HouseAge",
         "rawType": "float64",
         "type": "float"
        },
        {
         "name": "AveRooms",
         "rawType": "float64",
         "type": "float"
        },
        {
         "name": "AveBedrms",
         "rawType": "float64",
         "type": "float"
        },
        {
         "name": "Population",
         "rawType": "float64",
         "type": "float"
        },
        {
         "name": "AveOccup",
         "rawType": "float64",
         "type": "float"
        },
        {
         "name": "Latitude",
         "rawType": "float64",
         "type": "float"
        },
        {
         "name": "Longitude",
         "rawType": "float64",
         "type": "float"
        }
       ],
       "conversionMethod": "pd.DataFrame",
       "ref": "3760e2a0-7efc-4ee1-af86-36c33fdc167c",
       "rows": [
        [
         "0",
         "8.3252",
         "41.0",
         "6.984126984126984",
         "1.0238095238095237",
         "322.0",
         "2.5555555555555554",
         "37.88",
         "-122.23"
        ],
        [
         "1",
         "8.3014",
         "21.0",
         "6.238137082601054",
         "0.9718804920913884",
         "2401.0",
         "2.109841827768014",
         "37.86",
         "-122.22"
        ],
        [
         "2",
         "7.2574",
         "52.0",
         "8.288135593220339",
         "1.073446327683616",
         "496.0",
         "2.8022598870056497",
         "37.85",
         "-122.24"
        ],
        [
         "3",
         "5.6431",
         "52.0",
         "5.8173515981735155",
         "1.0730593607305936",
         "558.0",
         "2.547945205479452",
         "37.85",
         "-122.25"
        ],
        [
         "4",
         "3.8462",
         "52.0",
         "6.281853281853282",
         "1.0810810810810811",
         "565.0",
         "2.1814671814671813",
         "37.85",
         "-122.25"
        ]
       ],
       "shape": {
        "columns": 8,
        "rows": 5
       }
      },
      "text/html": [
       "<div>\n",
       "<style scoped>\n",
       "    .dataframe tbody tr th:only-of-type {\n",
       "        vertical-align: middle;\n",
       "    }\n",
       "\n",
       "    .dataframe tbody tr th {\n",
       "        vertical-align: top;\n",
       "    }\n",
       "\n",
       "    .dataframe thead th {\n",
       "        text-align: right;\n",
       "    }\n",
       "</style>\n",
       "<table border=\"1\" class=\"dataframe\">\n",
       "  <thead>\n",
       "    <tr style=\"text-align: right;\">\n",
       "      <th></th>\n",
       "      <th>MedInc</th>\n",
       "      <th>HouseAge</th>\n",
       "      <th>AveRooms</th>\n",
       "      <th>AveBedrms</th>\n",
       "      <th>Population</th>\n",
       "      <th>AveOccup</th>\n",
       "      <th>Latitude</th>\n",
       "      <th>Longitude</th>\n",
       "    </tr>\n",
       "  </thead>\n",
       "  <tbody>\n",
       "    <tr>\n",
       "      <th>0</th>\n",
       "      <td>8.3252</td>\n",
       "      <td>41.0</td>\n",
       "      <td>6.984127</td>\n",
       "      <td>1.023810</td>\n",
       "      <td>322.0</td>\n",
       "      <td>2.555556</td>\n",
       "      <td>37.88</td>\n",
       "      <td>-122.23</td>\n",
       "    </tr>\n",
       "    <tr>\n",
       "      <th>1</th>\n",
       "      <td>8.3014</td>\n",
       "      <td>21.0</td>\n",
       "      <td>6.238137</td>\n",
       "      <td>0.971880</td>\n",
       "      <td>2401.0</td>\n",
       "      <td>2.109842</td>\n",
       "      <td>37.86</td>\n",
       "      <td>-122.22</td>\n",
       "    </tr>\n",
       "    <tr>\n",
       "      <th>2</th>\n",
       "      <td>7.2574</td>\n",
       "      <td>52.0</td>\n",
       "      <td>8.288136</td>\n",
       "      <td>1.073446</td>\n",
       "      <td>496.0</td>\n",
       "      <td>2.802260</td>\n",
       "      <td>37.85</td>\n",
       "      <td>-122.24</td>\n",
       "    </tr>\n",
       "    <tr>\n",
       "      <th>3</th>\n",
       "      <td>5.6431</td>\n",
       "      <td>52.0</td>\n",
       "      <td>5.817352</td>\n",
       "      <td>1.073059</td>\n",
       "      <td>558.0</td>\n",
       "      <td>2.547945</td>\n",
       "      <td>37.85</td>\n",
       "      <td>-122.25</td>\n",
       "    </tr>\n",
       "    <tr>\n",
       "      <th>4</th>\n",
       "      <td>3.8462</td>\n",
       "      <td>52.0</td>\n",
       "      <td>6.281853</td>\n",
       "      <td>1.081081</td>\n",
       "      <td>565.0</td>\n",
       "      <td>2.181467</td>\n",
       "      <td>37.85</td>\n",
       "      <td>-122.25</td>\n",
       "    </tr>\n",
       "  </tbody>\n",
       "</table>\n",
       "</div>"
      ],
      "text/plain": [
       "   MedInc  HouseAge  AveRooms  AveBedrms  Population  AveOccup  Latitude  \\\n",
       "0  8.3252      41.0  6.984127   1.023810       322.0  2.555556     37.88   \n",
       "1  8.3014      21.0  6.238137   0.971880      2401.0  2.109842     37.86   \n",
       "2  7.2574      52.0  8.288136   1.073446       496.0  2.802260     37.85   \n",
       "3  5.6431      52.0  5.817352   1.073059       558.0  2.547945     37.85   \n",
       "4  3.8462      52.0  6.281853   1.081081       565.0  2.181467     37.85   \n",
       "\n",
       "   Longitude  \n",
       "0    -122.23  \n",
       "1    -122.22  \n",
       "2    -122.24  \n",
       "3    -122.25  \n",
       "4    -122.25  "
      ]
     },
     "execution_count": 10,
     "metadata": {},
     "output_type": "execute_result"
    }
   ],
   "source": [
    "california_housing.data.head()"
   ]
  },
  {
   "cell_type": "code",
   "execution_count": 11,
   "id": "598a5e4a",
   "metadata": {},
   "outputs": [
    {
     "data": {
      "text/plain": [
       "0    4.526\n",
       "1    3.585\n",
       "2    3.521\n",
       "3    3.413\n",
       "4    3.422\n",
       "Name: MedHouseVal, dtype: float64"
      ]
     },
     "execution_count": 11,
     "metadata": {},
     "output_type": "execute_result"
    }
   ],
   "source": [
    "california_housing.target.head()"
   ]
  },
  {
   "cell_type": "code",
   "execution_count": 12,
   "id": "b2c086b7",
   "metadata": {},
   "outputs": [
    {
     "name": "stdout",
     "output_type": "stream",
     "text": [
      "\n",
      "Dataset Info:\n",
      "<class 'pandas.core.frame.DataFrame'>\n",
      "RangeIndex: 20640 entries, 0 to 20639\n",
      "Data columns (total 9 columns):\n",
      " #   Column       Non-Null Count  Dtype  \n",
      "---  ------       --------------  -----  \n",
      " 0   MedInc       20640 non-null  float64\n",
      " 1   HouseAge     20640 non-null  float64\n",
      " 2   AveRooms     20640 non-null  float64\n",
      " 3   AveBedrms    20640 non-null  float64\n",
      " 4   Population   20640 non-null  float64\n",
      " 5   AveOccup     20640 non-null  float64\n",
      " 6   Latitude     20640 non-null  float64\n",
      " 7   Longitude    20640 non-null  float64\n",
      " 8   MedHouseVal  20640 non-null  float64\n",
      "dtypes: float64(9)\n",
      "memory usage: 1.4 MB\n",
      "None\n",
      "\n",
      "Dataset Description:\n",
      "             MedInc      HouseAge      AveRooms     AveBedrms    Population  \\\n",
      "count  20640.000000  20640.000000  20640.000000  20640.000000  20640.000000   \n",
      "mean       3.870671     28.639486      5.429000      1.096675   1425.476744   \n",
      "std        1.899822     12.585558      2.474173      0.473911   1132.462122   \n",
      "min        0.499900      1.000000      0.846154      0.333333      3.000000   \n",
      "25%        2.563400     18.000000      4.440716      1.006079    787.000000   \n",
      "50%        3.534800     29.000000      5.229129      1.048780   1166.000000   \n",
      "75%        4.743250     37.000000      6.052381      1.099526   1725.000000   \n",
      "max       15.000100     52.000000    141.909091     34.066667  35682.000000   \n",
      "\n",
      "           AveOccup      Latitude     Longitude   MedHouseVal  \n",
      "count  20640.000000  20640.000000  20640.000000  20640.000000  \n",
      "mean       3.070655     35.631861   -119.569704      2.068558  \n",
      "std       10.386050      2.135952      2.003532      1.153956  \n",
      "min        0.692308     32.540000   -124.350000      0.149990  \n",
      "25%        2.429741     33.930000   -121.800000      1.196000  \n",
      "50%        2.818116     34.260000   -118.490000      1.797000  \n",
      "75%        3.282261     37.710000   -118.010000      2.647250  \n",
      "max     1243.333333     41.950000   -114.310000      5.000010  \n",
      "\n",
      "First 5 rows of the dataset:\n",
      "   MedInc  HouseAge  AveRooms  AveBedrms  Population  AveOccup  Latitude  \\\n",
      "0  8.3252      41.0  6.984127   1.023810       322.0  2.555556     37.88   \n",
      "1  8.3014      21.0  6.238137   0.971880      2401.0  2.109842     37.86   \n",
      "2  7.2574      52.0  8.288136   1.073446       496.0  2.802260     37.85   \n",
      "3  5.6431      52.0  5.817352   1.073059       558.0  2.547945     37.85   \n",
      "4  3.8462      52.0  6.281853   1.081081       565.0  2.181467     37.85   \n",
      "\n",
      "   Longitude  MedHouseVal  \n",
      "0    -122.23        4.526  \n",
      "1    -122.22        3.585  \n",
      "2    -122.24        3.521  \n",
      "3    -122.25        3.413  \n",
      "4    -122.25        3.422  \n"
     ]
    }
   ],
   "source": [
    "print(\"\\nDataset Info:\")\n",
    "print(california_housing.frame.info())\n",
    "\n",
    "print(\"\\nDataset Description:\")\n",
    "print(california_housing.frame.describe())\n",
    "\n",
    "print(\"\\nFirst 5 rows of the dataset:\")\n",
    "print(california_housing.frame.head())"
   ]
  },
  {
   "cell_type": "code",
   "execution_count": 13,
   "id": "96db4209",
   "metadata": {},
   "outputs": [
    {
     "data": {
      "image/png": "[encoded data removed]",
      "text/plain": [
       "<Figure size 1000x600 with 1 Axes>"
      ]
     },
     "metadata": {},
     "output_type": "display_data"
    }
   ],
   "source": [
    "# Visualize the distribution of the target variable (Median House Value)\n",
    "# The target variable represents the median house value for California districts, expressed in $100,000.\n",
    "\n",
    "plt.figure(figsize=(10, 6))\n",
    "sns.histplot(california_housing.target, kde=True, alpha=0.7)\n",
    "plt.title('Distribution of Median House Value ($100,000)')\n",
    "plt.xlabel('Median House Value')\n",
    "plt.grid(True, alpha=0.3)\n",
    "plt.tight_layout()\n",
    "plt.show()"
   ]
  },
  {
   "cell_type": "markdown",
   "id": "9a9f779a",
   "metadata": {},
   "source": [
    "## 3. Train/Validation/Test Split\n",
    "\n",
    "To evaluate our model fairly, we split the data into:\n",
    "\n",
    "- **Training set**: for fitting the model\n",
    "- **Test set**: for final performance assessment\n",
    "\n",
    "Furthermore we will do K-Fold Cross Validation."
   ]
  },
  {
   "cell_type": "code",
   "execution_count": 14,
   "id": "f1422706",
   "metadata": {},
   "outputs": [
    {
     "name": "stdout",
     "output_type": "stream",
     "text": [
      "Train samples: 16512\n",
      "Test samples: 4128\n"
     ]
    }
   ],
   "source": [
    "features, labels = fetch_california_housing(as_frame=True, return_X_y=True)\n",
    "\n",
    "# train-test split 80% train + validation, 20% test\n",
    "X_train, X_test, y_train, y_test = train_test_split(\n",
    "    features, labels, test_size=0.2, random_state=random_state\n",
    ")\n",
    "\n",
    "print(f\"Train samples: {len(X_train)}\")\n",
    "print(f\"Test samples: {len(X_test)}\")"
   ]
  },
  {
   "cell_type": "markdown",
   "id": "62f5a680",
   "metadata": {},
   "source": [
    "## 4. Feature Scaling\n",
    "\n",
    "Feature scaling is a **preprocessing step** that adjusts the range or distribution of features. It ensures that no single feature dominates others due to its scale — especially important when features have different units (like income in dollars vs. number of rooms).\n",
    "\n",
    "\n",
    "### 🚀 Why Scale Features?\n",
    "\n",
    "1. **Balances Feature Influence**  \n",
    "   Without scaling, features with larger values can overshadow others in model training.\n",
    "\n",
    "2. **Improves Model Accuracy**  \n",
    "   Algorithms like KNN or SVR depend on distances — scaling ensures those distances are meaningful.\n",
    "\n",
    "3. **Faster Learning**  \n",
    "   Scaled features help gradient-based algorithms (like linear regression or neural nets) converge faster.\n",
    "\n",
    "4. **Fair Regularization**  \n",
    "   Penalization methods like Lasso and Ridge assume features are on a similar scale.\n",
    "\n",
    "\n",
    "### 📐 Two Common Scaling Methods\n",
    "\n",
    "#### 1. `StandardScaler`  \n",
    "Transforms features to **zero mean** and **unit variance**:  \n",
    "$$\n",
    "z = \\frac{x - \\mu}{\\sigma}\n",
    "$$  \n",
    "✅ Great for algorithms that assume Gaussian-like data:\n",
    "- Support Vector Machines (SVM)  \n",
    "- Logistic Regression  \n",
    "- Principal Component Analysis (PCA)\n",
    "\n",
    "#### 2. `MinMaxScaler`  \n",
    "Rescales data to a **fixed range**, usually [0, 1]:  \n",
    "$$\n",
    "x' = \\frac{x - \\text{min}(x)}{\\text{max}(x) - \\text{min}(x)}\n",
    "$$  \n",
    "✅ Works well for distance-based models:\n",
    "- K-Nearest Neighbors (KNN)  \n",
    "- Neural Networks\n",
    "\n",
    "### 📊 Why Scaling Helps Specific Models\n",
    "\n",
    "#### Support Vector Regressor (SVR)\n",
    "- Uses kernel functions to compute distances in high-dimensional space.  \n",
    "- Large-scale features can skew the decision boundary.  \n",
    "- ✅ **Scaling ensures equal weight across features.**\n",
    "\n",
    "#### K-Nearest Neighbors (KNN)\n",
    "- Relies on **Euclidean distance**.  \n",
    "- Features with large values dominate the distance calculation.  \n",
    "- ✅ **Scaling guarantees fair neighbor selection.**\n",
    "\n",
    "\n",
    "### ✅ Summary\n",
    "\n",
    "| Do Scale With   | When to Use                        |\n",
    "|------------------|-------------------------------------|\n",
    "| `StandardScaler` | SVM, Logistic Regression, PCA       |\n",
    "| `MinMaxScaler`   | KNN, Neural Networks                |\n",
    "\n",
    "🚫 **No scaling needed** for tree-based models like Decision Trees or Random Forests.\n"
   ]
  },
  {
   "cell_type": "code",
   "execution_count": 15,
   "id": "577391e1",
   "metadata": {},
   "outputs": [],
   "source": [
    "standard_scaler = StandardScaler()\n",
    "minmax_scaler = MinMaxScaler()\n",
    "\n",
    "# Fit on training, transform all sets\n",
    "X_train_scaled = standard_scaler.fit_transform(X_train)\n",
    "X_test_scaled = standard_scaler.transform(X_test)\n",
    "\n",
    "X_train_minmax = minmax_scaler.fit_transform(X_train)\n",
    "X_test_minmax = minmax_scaler.transform(X_test)"
   ]
  },
  {
   "cell_type": "code",
   "execution_count": 16,
   "id": "977c6785",
   "metadata": {},
   "outputs": [
    {
     "data": {
      "image/png": "[encoded data removed]",
      "text/plain": [
       "<Figure size 1800x500 with 3 Axes>"
      ]
     },
     "metadata": {},
     "output_type": "display_data"
    }
   ],
   "source": [
    "feature = 'MedInc'\n",
    "feature_idx = california_housing.data.columns.get_loc(feature)\n",
    "\n",
    "fig, (ax1, ax2, ax3) = plt.subplots(1, 3, figsize=(18, 5))\n",
    "\n",
    "sns.histplot(X_train[feature], kde=True, ax=ax1)\n",
    "ax1.set_title('Original')\n",
    "\n",
    "sns.histplot(X_train_scaled[:, feature_idx], kde=True, ax=ax2)\n",
    "ax2.set_title('StandardScaler')\n",
    "\n",
    "sns.histplot(X_train_minmax[:, feature_idx], kde=True, ax=ax3)\n",
    "ax3.set_title('MinMaxScaler')\n",
    "\n",
    "for ax in (ax1, ax2, ax3):\n",
    "    ax.grid(True, alpha=0.3)\n",
    "    ax.set_xlabel(feature)\n",
    "\n",
    "plt.tight_layout()\n",
    "plt.show()"
   ]
  },
  {
   "cell_type": "markdown",
   "id": "4643dab7",
   "metadata": {},
   "source": [
    "## 5. Model Training and Loss Functions\n"
   ]
  },
  {
   "cell_type": "markdown",
   "id": "ad6d661c",
   "metadata": {},
   "source": [
    "We now train a variety of regression models and compare their performance. This includes:\n",
    "\n",
    "- Linear Regression (ordinary least squares)\n",
    "- Polynomial Regression (expanding features to degree-2 polynomial)\n",
    "- Ridge and Lasso Regression (linear models with L2 and L1 regularization)\n",
    "- Decision Tree Regressor and Random Forest Regressor (tree-based models)\n",
    "- Support Vector Regressor (SVR) (kernel-based regression)\n",
    "\n",
    "Regularization (Ridge/Lasso) adds a penalty to the linear model’s coefficients to discourage large weights, which can reduce overfitting\n",
    "\n",
    "Ridge uses an L2 penalty (squares of weights), while Lasso uses an L1 penalty (absolute values)\n",
    "\n",
    "The effect is that Lasso can drive some coefficients to zero (feature selection), while Ridge shrinks them uniformly\n",
    "\n",
    "Below, we fit each model on the training set and evaluate on the validation set (later we will use the test set for final evaluation). We compare their performance using R², MSE, etc. For simplicity we use default hyperparameters:\n"
   ]
  },
  {
   "cell_type": "markdown",
   "id": "930d4273",
   "metadata": {},
   "source": [
    "### 5.1 Linear Regression\n",
    "\n",
    "Linear regression is a supervised algorithm that learns to model a dependent variable, $y$, as a function of some independent variables (aka \"features\"), $x_i$, by finding a line (or surface) that best \"fits\" the data. In general, we assume $y$ to be some number and each $x_i$ can be basically anything. For example: predicting the price of a house using the number of rooms in that house ($y$: price,$x_1$ : number of rooms) or predicting weight from height and age ($y$: weight, $x_1$: height, $x_2$: age).\n",
    "\n",
    "In general, the equation for linear regression is:\n",
    "$$y = \\beta_0 + \\beta_1x_1 + \\beta_2x_2 + ... + \\beta_px_p + \\epsilon$$\n",
    "\n",
    "where:\n",
    "\n",
    "- $y$: the dependent variable; the thing we are trying to predict.\n",
    "- $x_i$: the independent variables: the features our model uses to model y.\n",
    "- $\\beta_i$: the coefficients (aka \"weights\") of our regression model. These are the foundations of our model. They are what our model \"learns\" during optimization.\n",
    "- $\\epsilon$: the irreducible error in our model. A term that collects together all the unmodeled parts of our data.\n",
    "\n",
    "Fitting a linear regression model is all about finding the set of cofficients that best model $y$ as a function of our features. We may never know the true parameters for our model, but we can estimate them (more on this later). Once we've estimated these coefficients, $\\hat \\beta_i$, we predict future values, $\\hat y$, as:\n",
    "\n",
    "$$\\hat y = \\hat \\beta_0 + \\hat \\beta_1x_1 + \\hat \\beta_2x_2 + ... + \\hat \\beta_px_p$$\n",
    "\n",
    "So predicting future values (often called inference), is as simple as plugging the values of our features $x_i$ into our equation!\n"
   ]
  },
  {
   "cell_type": "markdown",
   "id": "f2f37769",
   "metadata": {},
   "source": [
    "#### Loss Functions\n"
   ]
  },
  {
   "cell_type": "markdown",
   "id": "96262139",
   "metadata": {},
   "source": [
    "In machine learning, we use performance-measuring functions called loss functions to quantify how good (or bad) our model performs. Several popular loss functions exist for regression problems, common ones are **MAE**, **MSE**, and **RMSE**.\n"
   ]
  },
  {
   "cell_type": "markdown",
   "id": "05e3de5b",
   "metadata": {},
   "source": [
    "**Mean Absolute Error (MAE):** the average of the absolute differences $\\lvert y_{\\text{true}} - y_{\\text{pred}} \\rvert$.\n",
    "\n",
    "It measures the average magnitude of errors.\n",
    "\n",
    "MAE is easy to interpret (e.g. MAE = 0.5 means on average the prediction is off by 0.5 units) and is robust to outliers (it does not square the error).\n",
    "\n",
    "Use MAE when you want a straightforward average error and do not want to over-penalize large errors.\n"
   ]
  },
  {
   "cell_type": "markdown",
   "id": "684532c7",
   "metadata": {},
   "source": [
    "**Mean Squared Error (MSE):** the average of the squared differences $(y_{\\text{true}} - y_{\\text{pred}})^2$.\n",
    "\n",
    "MSE quantifies how close a predicted value is to the true value, so we'll use it to quantify how close a regression line is to a set of points.\n",
    "\n",
    "MSE works by squaring the distance between each data point and the regression line, summing the squared values, and then dividing by the number of data points:\n",
    "$$\\text{MSE} = \\frac{1}{n} \\sum_{i=1}^{n} (y_i - \\hat{y}_i)^2$$\n",
    "\n",
    "The name is quite literal: take the mean of the squared errors. The squaring of errors prevents negative and positive terms from canceling out in the sum, and gives more weight to points further from the regression line, punishing outliers and larger errors are penalized more heavily.\n",
    "\n",
    "In practice, we'll fit our regression model to a set training data, and evaluate it's performance using MSE on the test dataset.\n"
   ]
  },
  {
   "cell_type": "markdown",
   "id": "6e3054cb",
   "metadata": {},
   "source": [
    "**Root Mean Squared Error (RMSE):** the square root of **MSE**.\n",
    "\n",
    "**RMSE** brings the error metric back to the original target units (since MSE is in squared units).\n",
    "\n",
    "Like MSE, RMSE penalizes large errors but is often easier to interpret because it’s on the same scale as the data.\n",
    "\n",
    "Typically RMSE ≥ MAE (with equality only if all errors are the same magnitude).\n"
   ]
  },
  {
   "cell_type": "markdown",
   "id": "ae4f4823",
   "metadata": {},
   "source": [
    "**R-Squared**\n",
    "\n",
    "Regression models may also be evaluated with the so-called goodness of fit measures, which summarize how well a model fits a set of data. The most popular goodness of fit measure for linear regression is r-squared, a metric that represents the percentage of the variance in $y$ explained by our features $x$.\n",
    "\n",
    "More specifically, r-squared measures the percentage of variance explained normalized against the baseline variance of our model (which is just the variance of the mean):\n",
    "\n",
    "$$R^2 = 1 - \\frac{\\sum_{i=1}^{n} (y_i - \\hat{y})^2}{\\sum_{i=1}^{n} (y_i - \\bar{y}_i)^2}$$\n",
    "​\n",
    "The highest possible value for r-squared is 1, representing a model that captures 100% of the variance. A negative r-squared means that our model is doing worse (capturing less variance) than a flat line through mean of our data would.\n"
   ]
  },
  {
   "cell_type": "markdown",
   "id": "3a28b081",
   "metadata": {},
   "source": [
    "#### Gradient Descent\n",
    "\n",
    "Gradient descent works as follows. We assume that we have some convex function representing the error of our machine learning algorithm (in our case, MSE). Gradient descent will iteratively update our model's coefficients in the direction of our error functions minimum .\n",
    "\n",
    "For example, our model takes the form:\n",
    "$$\\hat y = \\hat \\beta_0 + \\hat \\beta_1x_1$$\n",
    "\n",
    "and our error function takes the form:\n",
    "$$\\text{MSE}(\\hat{\\beta}_0, \\hat{\\beta}_1) = \\frac{1}{n} \\sum_{i=1}^{n} (y_i - \\hat{y}_i)^2 = \\frac{1}{n} \\sum_{i=1}^{n} (y_i - (\\hat{\\beta}_0 + \\hat{\\beta}_1 x_1))^2$$\n",
    "\n",
    "Our goal is to find the coefficients, $\\beta_0$ and $\\beta_1$, to minimize the error function. To do this, we'll use the gradient, which represents the direction that the function is increasing, and the rate at which it is increasing. Since we want to find the minimum of this function, we can go in the opposite direction of where it's increasing. This is exactly what Gradient Descent does, it works by taking steps in the direction opposite of where our error function is increasing, proportional to the rate of change. To find the coefficients that minimize the function, we first calculate the derivatives of our error function is increasing. To find the coefficients that minimize first, calculate the derivatives of our loss function, MSE:\n",
    "\n",
    "$$\n",
    "\\frac{\\partial}{\\partial \\beta_i} \\text{MSE} =\n",
    "\\begin{cases}\n",
    "-\\frac{2}{n} \\sum_{i=1}^{n} (y_i - \\hat{y}_i) & \\text{for } i = 0 \\\\\n",
    "-\\frac{2}{n} \\sum_{i=1}^{n} x_i (y_i - \\hat{y}_i) & \\text{for } i = 1\n",
    "\\end{cases}\n",
    "$$\n",
    "\n",
    "Now that we have the gradients for our error function (with respect to each coefficient to be updated), we perform iterative updates:\n",
    "\n",
    "$$\n",
    "\\text{repeat until convergence: } \\{ \\\\\n",
    "\\beta_0 = \\beta_0 - \\alpha \\left(-\\frac{2}{n} \\sum_{i=1}^{n} (y_i - \\hat{y}_i)\\right) \\\\\n",
    "\\beta_1 = \\beta_1 - \\alpha \\left(-\\frac{2}{n} \\sum_{i=1}^{n} x_i (y_i - \\hat{y}_i)\\right) \\\\\n",
    "\\}\n",
    "$$\n",
    "\n",
    "Updating these values iteratively will yield coefficients of our model that minimize error.\n"
   ]
  },
  {
   "cell_type": "markdown",
   "id": "f46a0860",
   "metadata": {},
   "source": [
    "#### Normal Equation\n",
    "\n",
    "Normal Equation is a widely taught method for obtaining estimates for our linear regression coefficients.\n",
    "\n",
    "The Normal Equation is a closed-form solution that allows us to estimate our coefficients directly by minimizing the residual sum of squares (RSS) of our data:\n",
    "\n",
    "$$\\text{RSS} = \\sum_{i=1}^{n} (y_i - \\hat{y}_i)^2$$\n",
    "\n",
    "The RSS should look familiar - it was a key piece in both the MSE and r-squared formulas that represents our model's total squared error:\n",
    "\n",
    "$$\\hat{\\beta} = (X^T X)^{-1} X^T Y$$\n"
   ]
  },
  {
   "cell_type": "markdown",
   "id": "5ac1cf56",
   "metadata": {},
   "source": [
    "#### Linear Regression with Normal Equation\n",
    "\n",
    "In this section, we will utilize the normal equation method to train a linear regression model. This approach allows us to find the optimal coefficients without iterative methods.\n",
    "\n",
    "The pipeline is set up with two key stages:\n",
    "\n",
    "- **Feature Scaling**: To scale the features appropriately.\n",
    "- **Linear Regression**: To perform regression on the transformed feature matrix.\n",
    "\n",
    "Throughout this notebook, we will follow a consistent pattern for each estimator:\n",
    "\n",
    "- **Pipeline**: Combines data preprocessing and modeling steps.\n",
    "- **cross_validate**: Trains the model using `ShuffleSplit` cross-validation with `neg_mean_absolute_error` as the scoring metric.\n",
    "- **Error Reporting**: Converts scores to errors and reports mean absolute errors on the development set.\n"
   ]
  },
  {
   "cell_type": "code",
   "execution_count": null,
   "id": "8671b126",
   "metadata": {},
   "outputs": [],
   "source": [
    "lin_reg_pipeline = Pipeline(\n",
    "    [(\"feature_scaling\", StandardScaler()), (\"lin_reg\", LinearRegression())]\n",
    ")\n",
    "\n",
    "lin_reg_cv_results = cross_validate(\n",
    "    lin_reg_pipeline,\n",
    "    X_train,\n",
    "    y_train,\n",
    "    scoring=scoring,\n",
    "    return_train_score=True,\n",
    "    return_estimator=True,\n",
    "    n_jobs=-1,\n",
    "    cv=5,\n",
    ")\n",
    "\n",
    "# Print all metrics\n",
    "lin_reg_res = summarize_metric(\"Linear Regression\", lin_reg_cv_results)\n",
    "\n",
    "# Append to the list of model performances\n",
    "model_performances.append(lin_reg_res)"
   ]
  },
  {
   "cell_type": "code",
   "execution_count": null,
   "id": "3e2fb835",
   "metadata": {},
   "outputs": [],
   "source": [
    "y_pred = cross_val_predict(lin_reg_pipeline, X_train, y_train, cv=5, n_jobs=-1)\n",
    "\n",
    "# Scatter: Predicted vs. True\n",
    "plot_predicted_vs_actual(y_train, y_pred, \"Linear Regression\")\n",
    "\n",
    "# Residuals: Error vs. Prediction\n",
    "plot_residuals(y_train, y_pred, \"Linear Regression\")"
   ]
  },
  {
   "cell_type": "markdown",
   "id": "09e52588",
   "metadata": {},
   "source": [
    "#### Linear Regression with Stochastic Gradient Descent\n",
    "\n",
    "In this section, we will employ the Stochastic Gradient Descent (SGD) method to train a linear regression model. This iterative optimization technique is particularly useful when dealing with large datasets.\n",
    "\n",
    "The pipeline is configured with two essential stages:\n",
    "\n",
    "- **Feature Scaling**: To standardize the features.\n",
    "- **SGD Regression**: To perform regression using the transformed feature matrix.\n"
   ]
  },
  {
   "cell_type": "code",
   "execution_count": null,
   "id": "4e8545b1",
   "metadata": {},
   "outputs": [],
   "source": [
    "sgd_reg_pipeline = Pipeline(\n",
    "    [\n",
    "        (\"feature_scaling\", StandardScaler()),\n",
    "        (\n",
    "            \"sgd_reg\",\n",
    "            SGDRegressor(\n",
    "                max_iter=int(np.ceil(1e6 / X_train.shape[0])),\n",
    "                early_stopping=True,\n",
    "                eta0=1e-4,\n",
    "                learning_rate=\"constant\",\n",
    "                random_state=random_state,\n",
    "            ),\n",
    "        ),\n",
    "    ]\n",
    ")\n",
    "\n",
    "sgd_reg_cv_results = cross_validate(\n",
    "    sgd_reg_pipeline,\n",
    "    X_train,\n",
    "    y_train,\n",
    "    scoring=scoring,\n",
    "    return_train_score=True,\n",
    "    return_estimator=True,\n",
    "    n_jobs=-1,\n",
    "    cv=5,\n",
    ")\n",
    "\n",
    "# Print all metrics\n",
    "sgd_reg_res = summarize_metric(\"SGD Regression\", lin_reg_cv_results)\n",
    "\n",
    "# Append to the list of model performances\n",
    "model_performances.append(sgd_reg_res)"
   ]
  },
  {
   "cell_type": "markdown",
   "id": "3f3adb1c",
   "metadata": {},
   "source": [
    "### 5.2 Polynomial Regression\n",
    "\n",
    "Polynomial regression is simply a linear regression on expanded features that include polynomial terms (e.g. $x^2$,$x^3$, etc.). In other words, we add new features like the square and cross-products of the original features. This allows fitting a curved (non-linear) relationship while still using a linear model under the hood.\n",
    "\n",
    "For example, with `degree=2` we include all squared terms and interactions. We can implement this conveniently with scikit-learn’s `PolynomialFeatures` plus a `LinearRegression`. The model can capture quadratic curvature, but adding high-degree polynomials risks overfitting, so we keep degree small (e.g. 2).\n",
    "\n",
    "In this segment, we will explore polynomial regression by training a model with a degree of 2. Additionally, we will use the `validation_curve` to determine the optimal degree for polynomial models.\n",
    "\n",
    "The `PolynomialFeatures` function is employed to transform the features to the specified degree (in this case, 2). After transforming the features, we apply feature scaling before training the regression model.\n"
   ]
  },
  {
   "cell_type": "code",
   "execution_count": null,
   "id": "4cd22d02",
   "metadata": {},
   "outputs": [],
   "source": [
    "poly_reg_pipeline = Pipeline(\n",
    "    [\n",
    "        (\"poly\", PolynomialFeatures(degree=2)),\n",
    "        (\"feature_scaling\", StandardScaler()),\n",
    "        (\"lin_reg\", LinearRegression()),\n",
    "    ]\n",
    ")\n",
    "\n",
    "poly_reg_cv_results = cross_validate(\n",
    "    poly_reg_pipeline,\n",
    "    X_train,\n",
    "    y_train,\n",
    "    scoring=scoring,\n",
    "    return_train_score=True,\n",
    "    return_estimator=True,\n",
    "    n_jobs=-1,\n",
    "    cv=5,\n",
    ")\n",
    "\n",
    "# Print all metrics\n",
    "poly_res = summarize_metric(\"Polynomial Regression\", poly_reg_cv_results)"
   ]
  },
  {
   "cell_type": "markdown",
   "id": "1965b0b2",
   "metadata": {},
   "source": [
    "#### Interaction features in Polynomial Regression\n",
    "\n",
    "Upon examining the results, we observe that both the training and validation errors have decreased after utilizing second-order polynomial features in the model.\n",
    "\n",
    "To optimize further, instead of employing all polynomial features, we focus on using only interaction feature terms in the polynomial model. This approach allows us to train a more efficient linear regression model.\n"
   ]
  },
  {
   "cell_type": "code",
   "execution_count": null,
   "id": "d7e7fd19",
   "metadata": {},
   "outputs": [],
   "source": [
    "poly_reg_pipeline = Pipeline(\n",
    "    [\n",
    "        (\"poly\", PolynomialFeatures(degree=2, interaction_only=True)),\n",
    "        (\"feature_scaling\", StandardScaler()),\n",
    "        (\"lin_reg\", LinearRegression()),\n",
    "    ]\n",
    ")\n",
    "\n",
    "poly_reg_cv_results = cross_validate(\n",
    "    poly_reg_pipeline,\n",
    "    X_train,\n",
    "    y_train,\n",
    "    scoring=scoring,\n",
    "    return_train_score=True,\n",
    "    return_estimator=True,\n",
    "    n_jobs=-1,\n",
    "    cv=5,\n",
    ")\n",
    "\n",
    "# Print all metrics\n",
    "poly_reg_res = summarize_metric(\"Polynomial Regression\", poly_reg_cv_results)\n",
    "\n",
    "# Append to the list of model performances\n",
    "model_performances.append(poly_reg_res)"
   ]
  },
  {
   "cell_type": "markdown",
   "id": "d3b89f7c",
   "metadata": {},
   "source": [
    "#### Choosing the right Polynominal Degree\n",
    "\n",
    "To determine the most suitable polynomial degree for our regression problem, we will employ the `validation_curve`. This technique acts as a manual hyperparameter tuning method.\n",
    "\n",
    "We will specify a list of polynomial degree values to explore, which will be passed as a parameter to the `validation_curve`. This allows us to identify the optimal degree that minimizes the error and improves the model's performance.\n"
   ]
  },
  {
   "cell_type": "code",
   "execution_count": null,
   "id": "bae2a2a7",
   "metadata": {},
   "outputs": [],
   "source": [
    "degree = [1, 2, 3, 4, 5]\n",
    "train_scores, test_scores = validation_curve(\n",
    "    poly_reg_pipeline,\n",
    "    X_train,\n",
    "    y_train,\n",
    "    param_name=\"poly__degree\",\n",
    "    param_range=degree,\n",
    "    scoring=\"neg_mean_absolute_error\",\n",
    "    n_jobs=-1,\n",
    ")\n",
    "\n",
    "train_errors, test_errors = -train_scores, -test_scores\n",
    "plt.plot(degree, train_errors.mean(axis=1), \"b-x\", label=\"Training error\")\n",
    "plt.plot(degree, test_errors.mean(axis=1), \"r-x\", label=\"Test error\")\n",
    "plt.legend()\n",
    "\n",
    "plt.xlabel(\"degree\")\n",
    "plt.ylabel(\"Mean absolute error (k$)\")\n",
    "_ = plt.title(\"Validation curve for polynomial regression\")"
   ]
  },
  {
   "cell_type": "markdown",
   "id": "e753e2f8",
   "metadata": {},
   "source": [
    "#### Selecting the optimal Polynomial Degree\n",
    "\n",
    "To identify the most effective polynomial degree, we focus on the degree that results in the lowest mean absolute error. In our analysis, a degree of 2 emerges as the optimal choice, as it yields the minimum mean absolute error. This degree will be selected for our polynomial regression model, ensuring a balance between model complexity and predictive accuracy.\n"
   ]
  },
  {
   "cell_type": "markdown",
   "id": "664c6ee4",
   "metadata": {},
   "source": [
    "### 5.3 Ridge Regression\n",
    "\n",
    "Polynomial models, particularly those with higher-order features, are prone to overfitting. To mitigate this, we utilize Ridge regression, which incorporates a regularization term to penalize excessive model complexity.\n",
    "\n",
    "Ridge regression is a regularized linear model that adds an L2 penalty on the coefficients. It solves $\\min_w \\lVert Xw - y \\rVert^2 + \\alpha \\lVert w \\rVert^2$, where $\\alpha$ controls the shrinkage of coefficients.\n",
    "\n",
    "The effect is to discourage large weights: features that are not strongly predictive get smaller coefficients. Ridge helps reduce overfitting, especially when features are highly correlated. It still learns a linear relationship, but with more stable (smaller) coefficients than ordinary linear regression when $\\alpha \\gt 0$.\n",
    "\n",
    "For this analysis, we set the regularization rate `alpha` to **0.5** and train the regression model accordingly.\n",
    "\n",
    "Subsequently, we will perform a hyperparameter search to determine the optimal value of `alpha` that minimizes cross-validation errors, ensuring an effective balance between model complexity and generalization.\n"
   ]
  },
  {
   "cell_type": "code",
   "execution_count": null,
   "id": "ee40ba55",
   "metadata": {},
   "outputs": [],
   "source": [
    "ridge_reg_pipeline = Pipeline(\n",
    "    [\n",
    "        (\"poly\", PolynomialFeatures(degree=2, interaction_only=True)),\n",
    "        (\"feature_scaling\", StandardScaler()),\n",
    "        (\"ridge\", Ridge(alpha=0.5)),\n",
    "    ]\n",
    ")\n",
    "ridge_reg_cv_results = cross_validate(\n",
    "    ridge_reg_pipeline,\n",
    "    X_train,\n",
    "    y_train,\n",
    "    scoring=scoring,\n",
    "    return_train_score=True,\n",
    "    return_estimator=True,\n",
    "    n_jobs=-1,\n",
    "    cv=5,\n",
    ")\n",
    "\n",
    "# Print all metrics\n",
    "ridge_res = summarize_metric(\"Rige Regression\", ridge_reg_cv_results)"
   ]
  },
  {
   "cell_type": "markdown",
   "id": "57035df6",
   "metadata": {},
   "source": [
    "#### Ridge Hyperparameter tuning with `GridSeachCV`\n",
    "\n",
    "To identify the optimal regularization strength for Ridge regression, we can use `GridSearchCV` for hyperparameter tuning.\n"
   ]
  },
  {
   "cell_type": "code",
   "execution_count": null,
   "id": "6ffdf424",
   "metadata": {},
   "outputs": [],
   "source": [
    "ridge_grid_pipeline = Pipeline(\n",
    "    [\n",
    "        (\"poly\", PolynomialFeatures(degree=2, interaction_only=True)),\n",
    "        (\"feature_scaling\", StandardScaler()),\n",
    "        (\"ridge\", Ridge()),\n",
    "    ]\n",
    ")\n",
    "\n",
    "param_grid = {\"poly__degree\": (1, 2, 3), \"ridge__alpha\": np.logspace(-4, 0, num=20)}\n",
    "\n",
    "ridge_grid_search = GridSearchCV(\n",
    "    ridge_grid_pipeline,\n",
    "    param_grid=param_grid,\n",
    "    n_jobs=-1,\n",
    "    scoring=scoring,\n",
    "    return_train_score=True,\n",
    "    cv=5,\n",
    "    refit=\"r2\",\n",
    ")\n",
    "\n",
    "ridge_grid_search.fit(X_train, y_train)"
   ]
  },
  {
   "cell_type": "markdown",
   "id": "425bf94c",
   "metadata": {},
   "source": [
    "`ridge_grid_search.best_index_` gives us the index of the best parameter in the list\n"
   ]
  },
  {
   "cell_type": "code",
   "execution_count": null,
   "id": "bea33ab1",
   "metadata": {},
   "outputs": [],
   "source": [
    "# Print all metrics\n",
    "ridge_reg_res = summarize_metric(\"Ridge Regression\", ridge_grid_search, type=\"grid\")\n",
    "\n",
    "# Append to the list of model performances\n",
    "model_performances.append(ridge_reg_res)"
   ]
  },
  {
   "cell_type": "markdown",
   "id": "ac606bfc",
   "metadata": {},
   "source": [
    "### 5.4 Lasso Regression\n"
   ]
  },
  {
   "cell_type": "markdown",
   "id": "02f9d140",
   "metadata": {},
   "source": [
    "Lasso regression is another regularized linear model, using an L1 penalty.\n",
    "\n",
    "The objective is $\\min_w \\frac{1}{2n} \\lVert Xw - y \\rVert^2 + \\alpha \\lVert w \\rVert_1$. The L1 penalty encourages sparse coefficients, often setting some to exactly zero.\n",
    "\n",
    "In practice, this means Lasso can perform feature selection: features with little predictive power can be dropped. Lasso is useful when you suspect only a few features matter. Like Ridge, it reduces overfitting, but it may zero out weak features entirely.\n",
    "\n",
    "In this section, we will explore Lasso regression by setting up a baseline model with a fixed learning rate.\n"
   ]
  },
  {
   "cell_type": "code",
   "execution_count": null,
   "id": "cd2127cd",
   "metadata": {},
   "outputs": [],
   "source": [
    "lasso_reg_pipeline = Pipeline(\n",
    "    [\n",
    "        (\"poly\", PolynomialFeatures(degree=2, interaction_only=True)),\n",
    "        (\"feature_scaling\", StandardScaler()),\n",
    "        (\"lasso\", Lasso(alpha=0.01)),\n",
    "    ]\n",
    ")\n",
    "lasso_reg_cv_results = cross_validate(\n",
    "    lasso_reg_pipeline,\n",
    "    X_train,\n",
    "    y_train,\n",
    "    scoring=scoring,\n",
    "    return_train_score=True,\n",
    "    return_estimator=True,\n",
    "    n_jobs=-1,\n",
    "    cv=5,\n",
    ")\n",
    "\n",
    "# Print all metrics\n",
    "ridge_res = summarize_metric(\"Lasso Regression\", lasso_reg_cv_results)"
   ]
  },
  {
   "cell_type": "markdown",
   "id": "db45e0bc",
   "metadata": {},
   "source": [
    "#### Lasso Hyperparameter tuning with `GridSeachCV`\n"
   ]
  },
  {
   "cell_type": "code",
   "execution_count": null,
   "id": "22d81751",
   "metadata": {},
   "outputs": [],
   "source": [
    "lasso_grid_pipeline = Pipeline(\n",
    "    [\n",
    "        (\"poly\", PolynomialFeatures(interaction_only=True)),\n",
    "        (\"feature_scaling\", StandardScaler()),\n",
    "        (\"lasso\", Lasso()),\n",
    "    ]\n",
    ")\n",
    "\n",
    "param_grid = {\"poly__degree\": (1, 2, 3), \"lasso__alpha\": np.logspace(-4, 0, num=20)}\n",
    "\n",
    "lasso_grid_search = GridSearchCV(\n",
    "    lasso_grid_pipeline,\n",
    "    param_grid=param_grid,\n",
    "    n_jobs=-1,\n",
    "    scoring=scoring,\n",
    "    return_train_score=True,\n",
    "    cv=5,\n",
    "    refit=\"r2\",\n",
    ")\n",
    "\n",
    "lasso_grid_search.fit(X_train, y_train)"
   ]
  },
  {
   "cell_type": "code",
   "execution_count": null,
   "id": "b3298587",
   "metadata": {},
   "outputs": [],
   "source": [
    "# Print all metrics\n",
    "lasso_reg_res = summarize_metric(\"Lasso Regression\", lasso_grid_search, type=\"grid\")\n",
    "\n",
    "# Append to the list of model performances\n",
    "model_performances.append(lasso_reg_res)"
   ]
  },
  {
   "cell_type": "code",
   "execution_count": null,
   "id": "b3b28372",
   "metadata": {},
   "outputs": [],
   "source": [
    "print(\"The best parameter value is:\", lasso_grid_search.best_params_)"
   ]
  },
  {
   "cell_type": "markdown",
   "id": "d2b8bd70",
   "metadata": {},
   "source": [
    "### 5.4 Decision Tree Regressor\n"
   ]
  },
  {
   "cell_type": "markdown",
   "id": "79d0d6ed",
   "metadata": {},
   "source": [
    "A decision tree for regression splits the data recursively by feature thresholds, partitioning the input space into regions and predicting the mean target in each leaf.\n",
    "\n",
    "This model can capture highly non-linear relationships without any feature engineering: it simply finds the best splits to reduce variance. However, a deep tree can overfit the data (learning noise) easily. For example, a depth-5 tree in a toy regression may “memorize” noise, while a shallow tree (depth=2) captures only main trends.\n",
    "\n",
    "In practice we control overfitting by limiting tree depth or using pruning. Decision trees naturally give feature importances (via impurity decrease), though they can be unstable.\n"
   ]
  },
  {
   "cell_type": "code",
   "execution_count": null,
   "id": "31d217a3",
   "metadata": {},
   "outputs": [],
   "source": [
    "tree_reg_pipeline = Pipeline(\n",
    "    [\n",
    "        (\"tree_reg\", DecisionTreeRegressor(max_depth=5, random_state=random_state)),\n",
    "    ]\n",
    ")\n",
    "\n",
    "tree_reg_pipeline_cv_results = cross_validate(\n",
    "    tree_reg_pipeline,\n",
    "    X_train,\n",
    "    y_train,\n",
    "    scoring=scoring,\n",
    "    return_train_score=True,\n",
    "    return_estimator=True,\n",
    "    n_jobs=-1,\n",
    "    cv=5,\n",
    ")\n",
    "\n",
    "# Print all metrics\n",
    "tree_reg_res = summarize_metric(\"Tree Regression\", tree_reg_pipeline_cv_results)\n",
    "\n",
    "# Append to the list of model performances\n",
    "model_performances.append(tree_reg_res)"
   ]
  },
  {
   "cell_type": "markdown",
   "id": "1ef8df49",
   "metadata": {},
   "source": [
    "### 5.5 Random Forest Regressor\n"
   ]
  },
  {
   "cell_type": "markdown",
   "id": "ef5cddfa",
   "metadata": {},
   "source": [
    "Random Forest is an ensemble of decision trees. It builds many trees on bootstrapped samples and averages their predictions. This reduces variance (overfitting) compared to a single tree, leading to better generalization.\n",
    "\n",
    "Each tree is still non-linear, but averaging them smooths out the noise. Random forests can capture complex patterns and are often very accurate. They also provide feature importance measures (averaging the trees’ importances). However, they lose interpretability of single trees.\n"
   ]
  },
  {
   "cell_type": "code",
   "execution_count": null,
   "id": "6e881f9d",
   "metadata": {},
   "outputs": [],
   "source": [
    "forest_reg_pipeline = Pipeline(\n",
    "    [\n",
    "        (\n",
    "            \"forest_reg\",\n",
    "            RandomForestRegressor(n_estimators=100, random_state=random_state),\n",
    "        ),\n",
    "    ]\n",
    ")\n",
    "\n",
    "forest_reg_pipeline_cv_results = cross_validate(\n",
    "    forest_reg_pipeline,\n",
    "    X_train,\n",
    "    y_train,\n",
    "    scoring=scoring,\n",
    "    return_train_score=True,\n",
    "    return_estimator=True,\n",
    "    n_jobs=-1,\n",
    "    cv=5,\n",
    ")\n",
    "\n",
    "# Print all metrics\n",
    "forest_reg_res = summarize_metric(\n",
    "    \"Random Forest Regression\", forest_reg_pipeline_cv_results\n",
    ")\n",
    "\n",
    "# Append to the list of model performances\n",
    "model_performances.append(forest_reg_res)"
   ]
  },
  {
   "cell_type": "markdown",
   "id": "59a9c7bf",
   "metadata": {},
   "source": [
    "### 5.6 Support Vector Regressor (SVR)\n"
   ]
  },
  {
   "cell_type": "markdown",
   "id": "84a2a350",
   "metadata": {},
   "source": [
    "SVR adapts the idea of Support Vector Machines to regression. It tries to fit a function that deviates from the data by no more than a small margin $\\epsilon$, focusing on points outside this margin.\n",
    "\n",
    "By using kernel functions (e.g. radial basis function), SVR can model non-linear relationships. It is robust and can handle outliers (since small errors within $\\epsilon$ are ignored).\n",
    "\n",
    "However, SVR can be slow on large datasets and often requires feature scaling for good performance. In practice, we scale inputs (e.g. with StandardScaler) and then fit an RBF-kernel SVR.\n"
   ]
  },
  {
   "cell_type": "code",
   "execution_count": null,
   "id": "e0756ea3",
   "metadata": {},
   "outputs": [],
   "source": [
    "svr_reg_pipeline = Pipeline(\n",
    "    [\n",
    "        (\"feature_scaling\", StandardScaler()),\n",
    "        (\"svr_reg\", SVR(kernel=\"rbf\", C=10, epsilon=0.1)),\n",
    "    ]\n",
    ")\n",
    "\n",
    "svr_reg_pipeline_cv_results = cross_validate(\n",
    "    svr_reg_pipeline,\n",
    "    X_train,\n",
    "    y_train,\n",
    "    scoring=scoring,\n",
    "    return_train_score=True,\n",
    "    return_estimator=True,\n",
    "    n_jobs=-1,\n",
    "    cv=5,\n",
    ")\n",
    "\n",
    "# Print all metrics\n",
    "svr_reg_res = summarize_metric(\"SVR Regression\", svr_reg_pipeline_cv_results)\n",
    "\n",
    "# Append to the list of model performances\n",
    "model_performances.append(svr_reg_res)"
   ]
  },
  {
   "cell_type": "markdown",
   "id": "946007f2",
   "metadata": {},
   "source": [
    "## 6. Error Analysis\n"
   ]
  },
  {
   "cell_type": "code",
   "execution_count": null,
   "id": "574af7ea",
   "metadata": {},
   "outputs": [],
   "source": [
    "performance_df = pd.DataFrame(model_performances).sort_values(\n",
    "    by=\"val_R2\", ascending=False\n",
    ")\n",
    "\n",
    "# Plot comparison of models\n",
    "plt.figure(figsize=(14, 10))\n",
    "\n",
    "# RMSE Comparison\n",
    "plt.subplot(2, 1, 1)\n",
    "plt.barh(performance_df[\"model_name\"], performance_df[\"val_MSE\"], color=\"skyblue\")\n",
    "plt.title(\"Validation MSE by Model (Lower is Better)\", fontsize=14)\n",
    "plt.xlabel(\"MSE\", fontsize=12)\n",
    "plt.grid(True, alpha=0.3)\n",
    "\n",
    "# R² Comparison\n",
    "plt.subplot(2, 1, 2)\n",
    "plt.barh(performance_df[\"model_name\"], performance_df[\"val_R2\"], color=\"lightgreen\")\n",
    "plt.title(\"Validation R² by Model (Higher is Better)\", fontsize=14)\n",
    "plt.xlabel(\"R² Score\", fontsize=12)\n",
    "plt.grid(True, alpha=0.3)\n",
    "\n",
    "plt.tight_layout()\n",
    "plt.show()"
   ]
  },
  {
   "cell_type": "code",
   "execution_count": null,
   "id": "4bc078f9",
   "metadata": {},
   "outputs": [],
   "source": [
    "# Select the best model based on validation R² score\n",
    "best_model_name = performance_df.iloc[0][\"model_name\"]\n",
    "print(f\"\\nBest performing model based on validation R² score: {best_model_name}\")"
   ]
  },
  {
   "cell_type": "markdown",
   "id": "a8a32980",
   "metadata": {},
   "source": [
    "To visualize error patterns, we use plots\n",
    "\n",
    "A Predicted vs Actual scatter plot shows each test point with true value on one axis and the model’s prediction on the other. In an ideal model, all points would lie on the diagonal $y_{pred} = y_{true}$.\n",
    "\n",
    "In practice, we look for a tight cluster around this line. A strong correlation (points tightly around the diagonal) indicates good performance, while a diffuse cloud or systematic gap from the line indicates poor predictions.\n",
    "\n",
    "This plot is particularly insightful when there is just one explanatory variable, but it generalizes to any regression.\n"
   ]
  },
  {
   "cell_type": "code",
   "execution_count": null,
   "id": "75f80614",
   "metadata": {},
   "outputs": [],
   "source": [
    "y_pred = cross_val_predict(forest_reg_pipeline, X_train, y_train, cv=5, n_jobs=-1)"
   ]
  },
  {
   "cell_type": "code",
   "execution_count": null,
   "id": "ae90bf49",
   "metadata": {},
   "outputs": [],
   "source": [
    "# Scatter: Predicted vs. Actual\n",
    "plot_predicted_vs_actual(y_train, y_pred, \"Random Forest Regression\")"
   ]
  },
  {
   "cell_type": "markdown",
   "id": "00c32551",
   "metadata": {},
   "source": [
    "The residuals (actual – predicted) reveal deeper patterns.\n",
    "\n",
    "A Residual vs Predicted plot displays each point’s residual on the vertical axis and the predicted value on the horizontal axis. Ideally, residuals should be randomly scattered around zero.\n"
   ]
  },
  {
   "cell_type": "code",
   "execution_count": null,
   "id": "703164ec",
   "metadata": {},
   "outputs": [],
   "source": [
    "# Residuals: Error vs. Prediction\n",
    "plot_residuals(y_train, y_pred, \"Random Forest Regression\")"
   ]
  },
  {
   "cell_type": "markdown",
   "id": "143520e6",
   "metadata": {},
   "source": [
    "We can also plot a histogram (or KDE) of the residuals.\n",
    "\n",
    "Ideally, this histogram is centered at 0 and roughly symmetric, indicating errors are unbiased and roughly normal. If the residual histogram is skewed or has heavy tails, it suggests systematic errors (or outliers).\n",
    "\n",
    "For example, if residuals are mostly positive, the model tends to underpredict; if mostly negative, it overpredicts. In a good model, the mean of residuals is near zero and their spread is as small as possible.\n"
   ]
  },
  {
   "cell_type": "code",
   "execution_count": null,
   "id": "6effbcc9",
   "metadata": {},
   "outputs": [],
   "source": [
    "residuals = y_train - y_pred\n",
    "plt.figure(figsize=(6, 4))\n",
    "sns.histplot(residuals, kde=True)\n",
    "plt.xlabel(\"Residual (Actual − Predicted)\")\n",
    "plt.ylabel(\"Frequency\")\n",
    "plt.title(\"Distribution of Residuals\")\n",
    "plt.tight_layout()\n",
    "plt.show()"
   ]
  },
  {
   "cell_type": "markdown",
   "id": "ff4a5313",
   "metadata": {},
   "source": [
    "## 7. Model Evaluation and Diagnostics\n"
   ]
  },
  {
   "cell_type": "markdown",
   "id": "85465d24",
   "metadata": {},
   "source": [
    "Finally, we evaluate our chosen model on the test set using the above metrics and plots.\n",
    "\n",
    "For example, we might compute the R² score and error metrics for Random Forest:\n"
   ]
  },
  {
   "cell_type": "code",
   "execution_count": null,
   "id": "d830063c",
   "metadata": {},
   "outputs": [],
   "source": [
    "# Fit the pipeline to all of your training data\n",
    "forest_reg_pipeline.fit(X_train, y_train)\n",
    "\n",
    "# Make predictions on X_test\n",
    "y_pred = forest_reg_pipeline.predict(X_test)"
   ]
  },
  {
   "cell_type": "code",
   "execution_count": null,
   "id": "b7f4a65a",
   "metadata": {},
   "outputs": [],
   "source": [
    "mae_test = mean_absolute_error(y_test, y_pred)\n",
    "mse_test = mean_squared_error(y_test, y_pred)\n",
    "r2_test = r2_score(y_test, y_pred)"
   ]
  },
  {
   "cell_type": "code",
   "execution_count": null,
   "id": "b546f91e",
   "metadata": {},
   "outputs": [],
   "source": [
    "print(\"Random Forest R²:\", r2_test)\n",
    "print(\"Random Forest MAE:\", mae_test)\n",
    "print(\"Random Forest MSE:\", mse_test)"
   ]
  },
  {
   "cell_type": "markdown",
   "id": "8cb88350",
   "metadata": {},
   "source": [
    "A higher R² (closer to 1) indicates better predictive power.\n",
    "\n",
    "We typically expect the Random Forest to perform better (higher R², lower errors) than a simple linear model on this complex dataset.\n"
   ]
  },
  {
   "cell_type": "code",
   "execution_count": null,
   "id": "22e34b6d",
   "metadata": {},
   "outputs": [],
   "source": [
    "# Scatter: Predicted vs. Actual\n",
    "plot_predicted_vs_actual(y_test, y_pred, \"Random Forest Regression\")"
   ]
  },
  {
   "cell_type": "code",
   "execution_count": null,
   "id": "cc7e534f",
   "metadata": {},
   "outputs": [],
   "source": [
    "# Residuals: Error vs. Prediction\n",
    "plot_residuals(y_test, y_pred, \"Random Forest Regression\")"
   ]
  },
  {
   "cell_type": "code",
   "execution_count": null,
   "id": "1807eece",
   "metadata": {},
   "outputs": [],
   "source": [
    "residuals = y_test - y_pred\n",
    "plt.figure(figsize=(6, 4))\n",
    "sns.histplot(residuals, kde=True)\n",
    "plt.xlabel(\"Residual (Actual − Predicted)\")\n",
    "plt.ylabel(\"Frequency\")\n",
    "plt.title(\"Distribution of Residuals\")\n",
    "plt.tight_layout()\n",
    "plt.show()"
   ]
  }
 ],
 "metadata": {
  "kernelspec": {
   "display_name": ".venv",
   "language": "python",
   "name": "python3"
  },
  "language_info": {
   "codemirror_mode": {
    "name": "ipython",
    "version": 3
   },
   "file_extension": ".py",
   "mimetype": "text/x-python",
   "name": "python",
   "nbconvert_exporter": "python",
   "pygments_lexer": "ipython3",
   "version": "3.13.2"
  }
 },
 "nbformat": 4,
 "nbformat_minor": 5
}
